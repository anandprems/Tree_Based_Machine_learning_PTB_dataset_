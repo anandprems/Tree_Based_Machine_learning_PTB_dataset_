{
 "cells": [
  {
   "cell_type": "code",
   "execution_count": null,
   "metadata": {
    "id": "yZ88N--lufvS"
   },
   "outputs": [],
   "source": [
    "#importing libraries\n",
    "import numpy as np\n",
    "import pandas as pd\n",
    "import matplotlib.pyplot as plt"
   ]
  },
  {
   "cell_type": "code",
   "execution_count": null,
   "metadata": {
    "id": "57WvsXQru-AA"
   },
   "outputs": [],
   "source": [
    "#importing datasets\n",
    "normal = pd.read_csv('ptbdb_normal.csv')\n",
    "abnormal = pd.read_csv('ptbdb_abnormal.csv')"
   ]
  },
  {
   "cell_type": "code",
   "execution_count": null,
   "metadata": {
    "colab": {
     "base_uri": "https://localhost:8080/",
     "height": 261
    },
    "id": "E3WKFXxlvRSn",
    "outputId": "1efd901b-a259-4c8c-8b03-7fe4f47cbe75"
   },
   "outputs": [],
   "source": [
    "#viewing normal dataset\n",
    "normal.head()"
   ]
  },
  {
   "cell_type": "code",
   "execution_count": null,
   "metadata": {
    "colab": {
     "base_uri": "https://localhost:8080/",
     "height": 261
    },
    "id": "asdcrKOsvWv3",
    "outputId": "53e66acd-fd90-4647-c50e-8ed73e7e6f12"
   },
   "outputs": [],
   "source": [
    "#viewing abnormal dataset\n",
    "abnormal.head()"
   ]
  },
  {
   "cell_type": "code",
   "execution_count": null,
   "metadata": {
    "colab": {
     "base_uri": "https://localhost:8080/"
    },
    "id": "xSSz9M-Pvcqn",
    "outputId": "eb9fd199-18fe-4128-9487-2d4e320a47ba"
   },
   "outputs": [],
   "source": [
    "#dimenion for normal\n",
    "normal.shape"
   ]
  },
  {
   "cell_type": "code",
   "execution_count": null,
   "metadata": {
    "colab": {
     "base_uri": "https://localhost:8080/"
    },
    "id": "09vnUEtpvhBL",
    "outputId": "d76c04be-bb1e-4540-bc66-fb95a1bbb5e2"
   },
   "outputs": [],
   "source": [
    "#dimension for abnormal\n",
    "abnormal.shape"
   ]
  },
  {
   "cell_type": "code",
   "execution_count": null,
   "metadata": {
    "id": "uR7mhv6YvmTo"
   },
   "outputs": [],
   "source": [
    "#changing the random column names to sequential - normal\n",
    "#as we have some numbers name as columns we need to change that to numbers as\n",
    "for normals in normal:\n",
    "    normal.columns = list(range(len(normal.columns)))"
   ]
  },
  {
   "cell_type": "code",
   "execution_count": null,
   "metadata": {
    "colab": {
     "base_uri": "https://localhost:8080/",
     "height": 244
    },
    "id": "hLuPw1ovwNvN",
    "outputId": "d64dd455-7258-40e1-94f5-fcfcc940215a"
   },
   "outputs": [],
   "source": [
    "#viewing edited columns for normal data\n",
    "normal.head()"
   ]
  },
  {
   "cell_type": "code",
   "execution_count": null,
   "metadata": {
    "id": "3uym3IC0wVC-"
   },
   "outputs": [],
   "source": [
    "#changing the random column names to sequential - abnormal\n",
    "#as we have some numbers name as columns we need to change that to numbers as\n",
    "for abnormals in abnormal:\n",
    "    abnormal.columns = list(range(len(abnormal.columns)))"
   ]
  },
  {
   "cell_type": "code",
   "execution_count": null,
   "metadata": {
    "colab": {
     "base_uri": "https://localhost:8080/",
     "height": 244
    },
    "id": "dW91Ywn1whoP",
    "outputId": "409f556e-69bf-47f9-d306-0d4379cd3b5a"
   },
   "outputs": [],
   "source": [
    "#viewing edited columns for abnormal data\n",
    "abnormal.head()"
   ]
  },
  {
   "cell_type": "code",
   "execution_count": null,
   "metadata": {
    "id": "R7L1XTEJwlqa"
   },
   "outputs": [],
   "source": [
    "#combining two data into one\n",
    "#suffling the dataset and dropping the index\n",
    "#As when concatenating we all have arranged 0 and 1 class in order manner\n",
    "dataset = pd.concat([normal, abnormal], axis=0).sample(frac=1.0, random_state =0).reset_index(drop=True)"
   ]
  },
  {
   "cell_type": "code",
   "execution_count": null,
   "metadata": {
    "colab": {
     "base_uri": "https://localhost:8080/",
     "height": 244
    },
    "id": "NNV38Ke7w8Sv",
    "outputId": "7b25bbd4-71d7-4eee-f685-2d06ab153b6b"
   },
   "outputs": [],
   "source": [
    "#viewing combined dataset\n",
    "dataset.head()"
   ]
  },
  {
   "cell_type": "code",
   "execution_count": null,
   "metadata": {
    "colab": {
     "base_uri": "https://localhost:8080/"
    },
    "id": "aPg9xtDaw_2x",
    "outputId": "e80d9b39-0b88-451c-a13b-02474a03cd2f"
   },
   "outputs": [],
   "source": [
    "dataset.shape"
   ]
  },
  {
   "cell_type": "code",
   "execution_count": null,
   "metadata": {
    "colab": {
     "base_uri": "https://localhost:8080/",
     "height": 333
    },
    "id": "KvzJ_h3pxBoj",
    "outputId": "aeeeeda3-6a91-4009-987a-512a4cfdd041"
   },
   "outputs": [],
   "source": [
    "#basic info of statistics\n",
    "dataset.describe()"
   ]
  },
  {
   "cell_type": "code",
   "execution_count": null,
   "metadata": {
    "colab": {
     "base_uri": "https://localhost:8080/"
    },
    "id": "NJ1Q9WnyxHxa",
    "outputId": "4b7b7acd-90ce-4689-a4b3-37c122287067"
   },
   "outputs": [],
   "source": [
    "#basic information of dataset\n",
    "dataset.info()"
   ]
  },
  {
   "cell_type": "code",
   "execution_count": null,
   "metadata": {
    "colab": {
     "base_uri": "https://localhost:8080/"
    },
    "id": "bd0AlaKSxNaG",
    "outputId": "09b81fe7-2ea2-4bfc-cd7e-adea9b619ee8"
   },
   "outputs": [],
   "source": [
    "#viewing the uniqueness in dataset\n",
    "dataset.nunique()"
   ]
  },
  {
   "cell_type": "code",
   "execution_count": null,
   "metadata": {
    "colab": {
     "base_uri": "https://localhost:8080/"
    },
    "id": "aFkiBOpZxTcX",
    "outputId": "471dc309-8a62-4995-816d-93d79e8aeb72"
   },
   "outputs": [],
   "source": [
    "#skewness of the dataset\n",
    "#the deviation of the distribution of the data from a normal distribution\n",
    "#+ve mean > median > mode\n",
    "#-ve mean < median < mode\n",
    "dataset.skew()"
   ]
  },
  {
   "cell_type": "code",
   "execution_count": null,
   "metadata": {
    "colab": {
     "base_uri": "https://localhost:8080/"
    },
    "id": "no5SeFzxxagb",
    "outputId": "417f520f-a748-426e-ea4c-e3b53d44ff9b"
   },
   "outputs": [],
   "source": [
    "#kurtosis of dataset\n",
    "#identifies whether the tails of a given distribution contain extreme values\n",
    "#Leptokurtic indicates a positive excess kurtosis\n",
    "#mesokurtic distribution shows an excess kurtosis of zero or close to zero\n",
    "#platykurtic distribution shows a negative excess kurtosis\n",
    "dataset.kurtosis()"
   ]
  },
  {
   "cell_type": "code",
   "execution_count": null,
   "metadata": {
    "colab": {
     "base_uri": "https://localhost:8080/"
    },
    "id": "qHxbzRYpxfgy",
    "outputId": "b68430e2-1af3-4cef-fd1f-4f7d70007b72"
   },
   "outputs": [],
   "source": [
    "#missing values any from the dataset\n",
    "print(str('Any missing data or NaN in the dataset:'), dataset.isnull().values.any())"
   ]
  },
  {
   "cell_type": "code",
   "execution_count": null,
   "metadata": {
    "colab": {
     "base_uri": "https://localhost:8080/"
    },
    "id": "V974RCCq4EKQ",
    "outputId": "98d5fba5-b089-4a5c-f3a1-34149c489dcf"
   },
   "outputs": [],
   "source": [
    "#data ranges in the dataset - sample\n",
    "print(\"The minimum and maximum values are {}, {}\".format(np.min(dataset.iloc[-2,:].values), np.max(dataset.iloc[-2,:].values)))"
   ]
  },
  {
   "cell_type": "code",
   "execution_count": null,
   "metadata": {
    "colab": {
     "base_uri": "https://localhost:8080/"
    },
    "id": "iVzsfQaaxrKK",
    "outputId": "170e23c1-bb5e-45d1-b37a-6ced351fe16a"
   },
   "outputs": [],
   "source": [
    "#correlation for all features in the dataset\n",
    "correlation_data =dataset.corr()\n",
    "print(correlation_data)"
   ]
  },
  {
   "cell_type": "code",
   "execution_count": null,
   "metadata": {
    "colab": {
     "base_uri": "https://localhost:8080/",
     "height": 486
    },
    "id": "X2tVm_bex1D3",
    "outputId": "08aa36c0-6e4e-4d05-8b4d-bd9b92543254"
   },
   "outputs": [],
   "source": [
    "import seaborn as sns\n",
    "#visulaization for correlation\n",
    "plt.figure(figsize=(10,7.5))\n",
    "sns.heatmap(correlation_data, annot=True, cmap='BrBG')"
   ]
  },
  {
   "cell_type": "code",
   "execution_count": null,
   "metadata": {
    "colab": {
     "base_uri": "https://localhost:8080/"
    },
    "id": "dZ087NIiy2CS",
    "outputId": "4ff9fd96-91ea-4523-9b2d-2613d2ed6489"
   },
   "outputs": [],
   "source": [
    "#for target value count\n",
    "label_dataset = dataset[187].value_counts()\n",
    "label_dataset\n"
   ]
  },
  {
   "cell_type": "code",
   "execution_count": null,
   "metadata": {
    "colab": {
     "base_uri": "https://localhost:8080/",
     "height": 288
    },
    "id": "6t7qcMEqzoS5",
    "outputId": "8c350396-bc2e-4d5f-93cb-971344bb1fa5"
   },
   "outputs": [],
   "source": [
    "#visualization for target label\n",
    "label_dataset.plot.bar()"
   ]
  },
  {
   "cell_type": "code",
   "execution_count": null,
   "metadata": {
    "id": "WHXJQ-Crz00x"
   },
   "outputs": [],
   "source": [
    "#splitting dataset to dependent and independent variable\n",
    "X = dataset.iloc[:,:-1].values #independent values / features\n",
    "y = dataset.iloc[:,-1].values #dependent values / target"
   ]
  },
  {
   "cell_type": "code",
   "execution_count": null,
   "metadata": {
    "id": "mHIxlFY600ES"
   },
   "outputs": [],
   "source": [
    "#splitting the datasets for training and testing process\n",
    "from sklearn.model_selection import train_test_split\n",
    "X_train, X_test, y_train, y_test = train_test_split(X, y, test_size =0.3, random_state=42)"
   ]
  },
  {
   "cell_type": "code",
   "execution_count": null,
   "metadata": {
    "colab": {
     "base_uri": "https://localhost:8080/"
    },
    "id": "Svo2xvjq63lY",
    "outputId": "a4948b1b-8630-49e1-f8c0-8b3c1f6eba83"
   },
   "outputs": [],
   "source": [
    "#size for the sets\n",
    "print('size of X_train:', X_train.shape)\n",
    "print('size of X_test:', X_test.shape)\n",
    "print('size of y_train:', y_train.shape)\n",
    "print('size of y_test:', y_test.shape)"
   ]
  },
  {
   "cell_type": "markdown",
   "metadata": {
    "id": "QpHK0YpM9qMR"
   },
   "source": [
    "**MACHINE LEARNING ALGORITHMS**"
   ]
  },
  {
   "cell_type": "markdown",
   "metadata": {
    "id": "NmhVauQj-Bjs"
   },
   "source": [
    "**LOGISTIC REGRESSION**"
   ]
  },
  {
   "cell_type": "code",
   "execution_count": null,
   "metadata": {
    "colab": {
     "base_uri": "https://localhost:8080/",
     "height": 354
    },
    "id": "mGS0VGTi3eWq",
    "outputId": "c6df8b95-39fe-4ddc-89b1-ecb401afe286"
   },
   "outputs": [],
   "source": [
    "#Logistic Classifier\n",
    "from sklearn.linear_model import LogisticRegression\n",
    "classifier1 = LogisticRegression(random_state=1)\n",
    "classifier1.fit(X_train,y_train)"
   ]
  },
  {
   "cell_type": "code",
   "execution_count": null,
   "metadata": {
    "id": "Wng-NuET5LwS"
   },
   "outputs": [],
   "source": [
    "y_pred1 = classifier1.predict(X_test)\n",
    "#print(np.concatenate((y_pred1.reshape(len(y_pred1),1), y_test.reshape(len(y_test),1)),1))"
   ]
  },
  {
   "cell_type": "code",
   "execution_count": null,
   "metadata": {},
   "outputs": [],
   "source": [
    "from sklearn.metrics import confusion_matrix, accuracy_score, roc_auc_score\n",
    "from sklearn.model_selection import cross_val_score\n",
    "from sklearn.model_selection import GridSearchCV"
   ]
  },
  {
   "cell_type": "code",
   "execution_count": null,
   "metadata": {
    "id": "n0gBQ1hR5R5B"
   },
   "outputs": [],
   "source": [
    "cm1 = confusion_matrix(y_test, y_pred1)\n",
    "print(cm1)"
   ]
  },
  {
   "cell_type": "code",
   "execution_count": null,
   "metadata": {
    "id": "H9W6B7LF5Sos"
   },
   "outputs": [],
   "source": [
    "accuracy_score(y_test, y_pred1)"
   ]
  },
  {
   "cell_type": "code",
   "execution_count": null,
   "metadata": {},
   "outputs": [],
   "source": [
    "roc_auc_score(y_test, y_pred1)"
   ]
  },
  {
   "cell_type": "code",
   "execution_count": null,
   "metadata": {
    "id": "QMOL04Pv5T9Y"
   },
   "outputs": [],
   "source": [
    "acc1 = cross_val_score(estimator = classifier1, X = X_train, y = y_train, cv = 10)\n",
    "print(\"Accuracy of LR: {:.2f} %\".format(acc1.mean()*100))\n",
    "print(\"SD of LR: {:.2f} %\".format(acc1.std()*100))"
   ]
  },
  {
   "cell_type": "code",
   "execution_count": null,
   "metadata": {},
   "outputs": [],
   "source": [
    "import sklearn.metrics as metrics\n",
    "print(metrics.classification_report(y_test, y_pred1))"
   ]
  },
  {
   "cell_type": "code",
   "execution_count": null,
   "metadata": {},
   "outputs": [],
   "source": [
    "from mlxtend.plotting import plot_confusion_matrix\n",
    " \n",
    "fig, ax = plot_confusion_matrix(conf_mat=cm1, figsize=(6, 6), cmap=plt.cm.Greens)\n",
    "plt.xlabel('Predictions', fontsize=18)\n",
    "plt.ylabel('Actuals', fontsize=18)\n",
    "plt.title('Confusion Matrix', fontsize=18)\n",
    "plt.show()"
   ]
  },
  {
   "cell_type": "code",
   "execution_count": null,
   "metadata": {},
   "outputs": [],
   "source": [
    "from sklearn.model_selection import GridSearchCV\n",
    "parameters_lr = [{'penalty':['l1','l2'],'C': [0.001, 0.01, 0.1, 1, 10, 100, 1000]}]\n",
    "grid_search_lr = GridSearchCV(estimator = classifier1,\n",
    "                           param_grid = parameters_lr,\n",
    "                           scoring = 'accuracy',\n",
    "                           cv = 10,\n",
    "                           n_jobs = -1)\n",
    "grid_search_lr.fit(X_train, y_train)\n",
    "best_accuracy_lr = grid_search_lr.best_score_\n",
    "best_paramaeter_lr = grid_search_lr.best_params_  \n",
    "print(\"Best Accuracy of LR: {:.2f} %\".format(best_accuracy_lr.mean()*100))\n",
    "print(\"Best Parameter of LR:\", best_paramaeter_lr) "
   ]
  },
  {
   "cell_type": "markdown",
   "metadata": {
    "id": "MSEJaZXN-HZT"
   },
   "source": [
    "**K Nearest Neighbour**"
   ]
  },
  {
   "cell_type": "code",
   "execution_count": null,
   "metadata": {
    "id": "PLk5tYej5ZvJ"
   },
   "outputs": [],
   "source": [
    "#KNearest Neighbour\n",
    "from sklearn.neighbors import KNeighborsClassifier\n",
    "classifier2 = KNeighborsClassifier()\n",
    "classifier2.fit(X_train,y_train)"
   ]
  },
  {
   "cell_type": "code",
   "execution_count": null,
   "metadata": {
    "id": "ESyNns5f5boA"
   },
   "outputs": [],
   "source": [
    "y_pred2 = classifier2.predict(X_test)\n",
    "#print(np.concatenate((y_pred2.reshape(len(y_pred2),1), y_test.reshape(len(y_test),1)),1))"
   ]
  },
  {
   "cell_type": "code",
   "execution_count": null,
   "metadata": {
    "id": "mZe3uS5e5dnK"
   },
   "outputs": [],
   "source": [
    "cm2 = confusion_matrix(y_test, y_pred2)\n",
    "print(cm2)"
   ]
  },
  {
   "cell_type": "code",
   "execution_count": null,
   "metadata": {
    "id": "JdNRKJDt5e7N"
   },
   "outputs": [],
   "source": [
    "accuracy_score(y_test, y_pred2)"
   ]
  },
  {
   "cell_type": "code",
   "execution_count": null,
   "metadata": {},
   "outputs": [],
   "source": [
    "roc_auc_score(y_test, y_pred2)"
   ]
  },
  {
   "cell_type": "code",
   "execution_count": null,
   "metadata": {
    "id": "R3hXNgVF5f_o"
   },
   "outputs": [],
   "source": [
    "acc2 = cross_val_score(estimator = classifier2, X = X_train, y = y_train, cv = 10)\n",
    "print(\"Accuracy of KNN: {:.2f} %\".format(acc2.mean()*100))\n",
    "print(\"SD of KNN: {:.2f} %\".format(acc2.std()*100))"
   ]
  },
  {
   "cell_type": "code",
   "execution_count": null,
   "metadata": {},
   "outputs": [],
   "source": [
    "print(metrics.classification_report(y_test, y_pred2))"
   ]
  },
  {
   "cell_type": "code",
   "execution_count": null,
   "metadata": {},
   "outputs": [],
   "source": [
    "from mlxtend.plotting import plot_confusion_matrix\n",
    " \n",
    "fig, ax = plot_confusion_matrix(conf_mat=cm2, figsize=(6, 6), cmap=plt.cm.Greens)\n",
    "plt.xlabel('Predictions', fontsize=18)\n",
    "plt.ylabel('Actuals', fontsize=18)\n",
    "plt.title('Confusion Matrix', fontsize=18)\n",
    "plt.show()"
   ]
  },
  {
   "cell_type": "code",
   "execution_count": null,
   "metadata": {},
   "outputs": [],
   "source": [
    "from sklearn.model_selection import GridSearchCV\n",
    "parameters_knn = [{'n_neighbors':[3,5,7,9,11,13,15,17,19,21],\n",
    "                   'weights': ['uniform','distance'],\n",
    "                    'metric':['euclidean','manhattan']}]\n",
    "grid_search_knn = GridSearchCV(estimator = classifier2,\n",
    "                           param_grid = parameters_knn,\n",
    "                           scoring = 'accuracy',\n",
    "                           cv = 10,\n",
    "                           n_jobs = -1)\n",
    "grid_search_knn.fit(X_train, y_train)\n",
    "best_accuracy_knn = grid_search_knn.best_score_\n",
    "best_paramaeter_knn = grid_search_knn.best_params_  \n",
    "print(\"Best Accuracy of KNN: {:.2f} %\".format(best_accuracy_knn.mean()*100))\n",
    "print(\"Best Parameter of KNN:\", best_paramaeter_knn) "
   ]
  },
  {
   "cell_type": "markdown",
   "metadata": {
    "id": "NBev0vsg-MgG"
   },
   "source": [
    "**Support Vector Machine**"
   ]
  },
  {
   "cell_type": "code",
   "execution_count": null,
   "metadata": {
    "id": "B-0UosR05hJ3"
   },
   "outputs": [],
   "source": [
    "#Support Vector Machine\n",
    "from sklearn.svm import SVC\n",
    "classifier3 = SVC(kernel = 'linear', random_state =1)\n",
    "classifier3.fit(X_train,y_train)"
   ]
  },
  {
   "cell_type": "code",
   "execution_count": null,
   "metadata": {
    "id": "p7VQwmhz5iZN"
   },
   "outputs": [],
   "source": [
    "y_pred3 = classifier3.predict(X_test)\n",
    "#print(np.concatenate((y_pred3.reshape(len(y_pred3),1), y_test.reshape(len(y_test),1)),1))"
   ]
  },
  {
   "cell_type": "code",
   "execution_count": null,
   "metadata": {
    "id": "RYb73mj85kLC"
   },
   "outputs": [],
   "source": [
    "cm3 = confusion_matrix(y_test, y_pred3)\n",
    "print(cm3)"
   ]
  },
  {
   "cell_type": "code",
   "execution_count": null,
   "metadata": {
    "id": "-SdU4EnB5lUl"
   },
   "outputs": [],
   "source": [
    "accuracy_score(y_test, y_pred3)"
   ]
  },
  {
   "cell_type": "code",
   "execution_count": null,
   "metadata": {},
   "outputs": [],
   "source": [
    "roc_auc_score(y_test, y_pred3)"
   ]
  },
  {
   "cell_type": "code",
   "execution_count": null,
   "metadata": {
    "id": "0f5aYHoM5ma9"
   },
   "outputs": [],
   "source": [
    "acc3 = cross_val_score(estimator = classifier3, X = X_train, y = y_train, cv = 10)\n",
    "print(\"Accuracy of SVM: {:.2f} %\".format(acc3.mean()*100))\n",
    "print(\"SD of SVM: {:.2f} %\".format(acc3.std()*100))"
   ]
  },
  {
   "cell_type": "code",
   "execution_count": null,
   "metadata": {},
   "outputs": [],
   "source": [
    "print(metrics.classification_report(y_test, y_pred3))"
   ]
  },
  {
   "cell_type": "code",
   "execution_count": null,
   "metadata": {},
   "outputs": [],
   "source": [
    "from mlxtend.plotting import plot_confusion_matrix\n",
    " \n",
    "fig, ax = plot_confusion_matrix(conf_mat=cm3, figsize=(6, 6), cmap=plt.cm.Greens)\n",
    "plt.xlabel('Predictions', fontsize=18)\n",
    "plt.ylabel('Actuals', fontsize=18)\n",
    "plt.title('Confusion Matrix', fontsize=18)\n",
    "plt.show()"
   ]
  },
  {
   "cell_type": "code",
   "execution_count": null,
   "metadata": {
    "id": "MPEJDXFW5ngz"
   },
   "outputs": [],
   "source": [
    "classifier4 = SVC(kernel = 'rbf', random_state =1)\n",
    "classifier4.fit(X_train,y_train)"
   ]
  },
  {
   "cell_type": "code",
   "execution_count": null,
   "metadata": {
    "id": "JP_QRyVI5opx"
   },
   "outputs": [],
   "source": [
    "y_pred4 = classifier4.predict(X_test)\n",
    "#print(np.concatenate((y_pred4.reshape(len(y_pred4),1), y_test.reshape(len(y_test),1)),1))"
   ]
  },
  {
   "cell_type": "code",
   "execution_count": null,
   "metadata": {
    "id": "rnOOtoeB5qo9"
   },
   "outputs": [],
   "source": [
    "cm4 = confusion_matrix(y_test, y_pred4)\n",
    "print(cm4)"
   ]
  },
  {
   "cell_type": "code",
   "execution_count": null,
   "metadata": {
    "id": "julPDhpx5rre"
   },
   "outputs": [],
   "source": [
    "accuracy_score(y_test, y_pred4)"
   ]
  },
  {
   "cell_type": "code",
   "execution_count": null,
   "metadata": {},
   "outputs": [],
   "source": [
    "roc_auc_score(y_test, y_pred4)"
   ]
  },
  {
   "cell_type": "code",
   "execution_count": null,
   "metadata": {
    "id": "wRc34Oib5s1K"
   },
   "outputs": [],
   "source": [
    "acc4 = cross_val_score(estimator = classifier4, X = X_train, y = y_train, cv = 10)\n",
    "print(\"Accuracy of SVM: {:.2f} %\".format(acc4.mean()*100))\n",
    "print(\"SD of SVM: {:.2f} %\".format(acc4.std()*100))"
   ]
  },
  {
   "cell_type": "code",
   "execution_count": null,
   "metadata": {},
   "outputs": [],
   "source": [
    "print(metrics.classification_report(y_test, y_pred4))"
   ]
  },
  {
   "cell_type": "code",
   "execution_count": null,
   "metadata": {},
   "outputs": [],
   "source": [
    "from mlxtend.plotting import plot_confusion_matrix\n",
    " \n",
    "fig, ax = plot_confusion_matrix(conf_mat=cm4, figsize=(6, 6), cmap=plt.cm.Greens)\n",
    "plt.xlabel('Predictions', fontsize=18)\n",
    "plt.ylabel('Actuals', fontsize=18)\n",
    "plt.title('Confusion Matrix', fontsize=18)\n",
    "plt.show()"
   ]
  },
  {
   "cell_type": "code",
   "execution_count": null,
   "metadata": {
    "id": "BbYwRjE65uDQ"
   },
   "outputs": [],
   "source": [
    "parameters = [{'C': [0.25, 0.5, 0.75, 1], 'kernel':['linear']},\n",
    "              {'C': [0.25, 0.5, 0.75, 1], 'kernel':['rbf'], 'gamma':[0.1, 0.2, 0.3, 0.4, 0.5, 0.6, 0.7, 0.8, 0.9]}]\n",
    "grid_search = GridSearchCV(estimator = classifier4,\n",
    "                           param_grid = parameters,\n",
    "                           scoring = 'accuracy',\n",
    "                           cv = 10,\n",
    "                           n_jobs = -1)\n",
    "grid_search.fit(X_train, y_train)\n",
    "best_accuracy = grid_search.best_score_\n",
    "best_paramaeter = grid_search.best_params_  \n",
    "print(\"Best Accuracy of SVM: {:.2f} %\".format(best_accuracy.mean()*100))\n",
    "print(\"Best Parameter of SVM:\", best_paramaeter)            "
   ]
  },
  {
   "cell_type": "markdown",
   "metadata": {
    "id": "sSh4uMaV-Tj2"
   },
   "source": [
    "**Naive Bayes**"
   ]
  },
  {
   "cell_type": "code",
   "execution_count": null,
   "metadata": {
    "id": "JMFtXLGK5wiX"
   },
   "outputs": [],
   "source": [
    "#Naive Bayes\n",
    "from sklearn.naive_bayes import GaussianNB\n",
    "classifier5 = GaussianNB()\n",
    "classifier5.fit(X_train,y_train)"
   ]
  },
  {
   "cell_type": "code",
   "execution_count": null,
   "metadata": {
    "id": "_kKfLz0n5xwa"
   },
   "outputs": [],
   "source": [
    "y_pred5 = classifier5.predict(X_test)\n",
    "#print(np.concatenate((y_pred5.reshape(len(y_pred5),1), y_test.reshape(len(y_test),1)),1))"
   ]
  },
  {
   "cell_type": "code",
   "execution_count": null,
   "metadata": {
    "id": "vpagdomu5zyV"
   },
   "outputs": [],
   "source": [
    "cm5 = confusion_matrix(y_test, y_pred5)\n",
    "print(cm5)"
   ]
  },
  {
   "cell_type": "code",
   "execution_count": null,
   "metadata": {
    "id": "VLMbBLSG508n"
   },
   "outputs": [],
   "source": [
    "accuracy_score(y_test, y_pred5)"
   ]
  },
  {
   "cell_type": "code",
   "execution_count": null,
   "metadata": {},
   "outputs": [],
   "source": [
    "roc_auc_score(y_test, y_pred5)"
   ]
  },
  {
   "cell_type": "code",
   "execution_count": null,
   "metadata": {
    "id": "dRd18m5p52Ab"
   },
   "outputs": [],
   "source": [
    "acc5 = cross_val_score(estimator = classifier5, X = X_train, y = y_train, cv = 10)\n",
    "print(\"Accuracy of NB: {:.2f} %\".format(acc5.mean()*100))\n",
    "print(\"SD of NB: {:.2f} %\".format(acc5.std()*100))"
   ]
  },
  {
   "cell_type": "code",
   "execution_count": null,
   "metadata": {},
   "outputs": [],
   "source": [
    "print(metrics.classification_report(y_test, y_pred5))"
   ]
  },
  {
   "cell_type": "code",
   "execution_count": null,
   "metadata": {},
   "outputs": [],
   "source": [
    "from mlxtend.plotting import plot_confusion_matrix\n",
    " \n",
    "fig, ax = plot_confusion_matrix(conf_mat=cm5, figsize=(6, 6), cmap=plt.cm.Greens)\n",
    "plt.xlabel('Predictions', fontsize=18)\n",
    "plt.ylabel('Actuals', fontsize=18)\n",
    "plt.title('Confusion Matrix', fontsize=18)\n",
    "plt.show()"
   ]
  },
  {
   "cell_type": "markdown",
   "metadata": {
    "id": "OBQXgVry-Xap"
   },
   "source": [
    "**Decision Tree**"
   ]
  },
  {
   "cell_type": "code",
   "execution_count": null,
   "metadata": {
    "id": "35I3Duu753CS"
   },
   "outputs": [],
   "source": [
    "#Decision Tree\n",
    "from sklearn.tree import DecisionTreeClassifier\n",
    "classifier6 = DecisionTreeClassifier(criterion = 'entropy', random_state=1)\n",
    "classifier6.fit(X_train, y_train)"
   ]
  },
  {
   "cell_type": "code",
   "execution_count": null,
   "metadata": {
    "id": "LV4hRhdn54Oj"
   },
   "outputs": [],
   "source": [
    "y_pred6 = classifier6.predict(X_test)\n",
    "#print(np.concatenate((y_pred6.reshape(len(y_pred6),1), y_test.reshape(len(y_test),1)),1))"
   ]
  },
  {
   "cell_type": "code",
   "execution_count": null,
   "metadata": {
    "id": "joFNwuI655ST"
   },
   "outputs": [],
   "source": [
    "cm6 = confusion_matrix(y_test, y_pred6)\n",
    "print(cm6)"
   ]
  },
  {
   "cell_type": "code",
   "execution_count": null,
   "metadata": {},
   "outputs": [],
   "source": [
    "from mlxtend.plotting import plot_confusion_matrix\n",
    " \n",
    "fig, ax = plot_confusion_matrix(conf_mat=cm6, figsize=(6, 6), cmap=plt.cm.Greens)\n",
    "plt.xlabel('Predictions', fontsize=18)\n",
    "plt.ylabel('Actuals', fontsize=18)\n",
    "plt.title('Confusion Matrix', fontsize=18)\n",
    "plt.show()"
   ]
  },
  {
   "cell_type": "code",
   "execution_count": null,
   "metadata": {
    "id": "tQhSRJcr58pW"
   },
   "outputs": [],
   "source": [
    "accuracy_score(y_test, y_pred6)"
   ]
  },
  {
   "cell_type": "code",
   "execution_count": null,
   "metadata": {},
   "outputs": [],
   "source": [
    "roc_auc_score(y_test, y_pred6)"
   ]
  },
  {
   "cell_type": "code",
   "execution_count": null,
   "metadata": {
    "id": "UTXv58tL59lv"
   },
   "outputs": [],
   "source": [
    "acc6 = cross_val_score(estimator = classifier6, X = X_train, y = y_train, cv = 10)\n",
    "print(\"Accuracy of DT: {:.2f} %\".format(acc6.mean()*100))\n",
    "print(\"SD of DT: {:.2f} %\".format(acc6.std()*100))"
   ]
  },
  {
   "cell_type": "code",
   "execution_count": null,
   "metadata": {},
   "outputs": [],
   "source": [
    "print(metrics.classification_report(y_test, y_pred6))"
   ]
  },
  {
   "cell_type": "code",
   "execution_count": null,
   "metadata": {
    "id": "6WCAS1GK5-i8"
   },
   "outputs": [],
   "source": [
    "param_grid_dt = {\n",
    "    'max_depth' : [2,4,6,8,10,12,14,16,18,20],\n",
    "    'criterion' :['gini', 'entropy']\n",
    "}\n",
    "grid_search_dt = GridSearchCV(estimator= classifier6,\n",
    "                              param_grid=param_grid_dt,\n",
    "                              scoring='accuracy', \n",
    "                              n_jobs=-1)\n",
    "grid_search_dt.fit(X_train, y_train)\n",
    "best_accuracy_dt = grid_search_dt.best_score_\n",
    "best_paramaeter_dt = grid_search_dt.best_params_ \n",
    "print(\"Best Accuracy of dt: {:.2f} %\".format(best_accuracy_dt.mean()*100))\n",
    "print(\"Best Parameter of dt:\", best_paramaeter_dt)"
   ]
  },
  {
   "cell_type": "markdown",
   "metadata": {
    "id": "JVNyjTNi-cF_"
   },
   "source": [
    "**Random Forest**"
   ]
  },
  {
   "cell_type": "code",
   "execution_count": null,
   "metadata": {
    "id": "RqoGO02Q5_r1"
   },
   "outputs": [],
   "source": [
    "#RandomForest\n",
    "from sklearn.ensemble import RandomForestClassifier\n",
    "classifier7 = RandomForestClassifier(criterion = 'entropy', random_state=1)\n",
    "classifier7.fit(X_train, y_train)"
   ]
  },
  {
   "cell_type": "code",
   "execution_count": null,
   "metadata": {
    "id": "X7MCkpWE6BDS"
   },
   "outputs": [],
   "source": [
    "y_pred7 = classifier7.predict(X_test)\n",
    "#print(np.concatenate((y_pred7.reshape(len(y_pred7),1), y_test.reshape(len(y_test),1)),1))"
   ]
  },
  {
   "cell_type": "code",
   "execution_count": null,
   "metadata": {
    "id": "ZmUdJ5ma6CoJ"
   },
   "outputs": [],
   "source": [
    "cm7 = confusion_matrix(y_test, y_pred7)\n",
    "print(cm7)"
   ]
  },
  {
   "cell_type": "code",
   "execution_count": null,
   "metadata": {},
   "outputs": [],
   "source": [
    "from mlxtend.plotting import plot_confusion_matrix\n",
    " \n",
    "fig, ax = plot_confusion_matrix(conf_mat=cm7, figsize=(6, 6), cmap=plt.cm.Greens)\n",
    "plt.xlabel('Predictions', fontsize=18)\n",
    "plt.ylabel('Actuals', fontsize=18)\n",
    "plt.title('Confusion Matrix', fontsize=18)\n",
    "plt.show()"
   ]
  },
  {
   "cell_type": "code",
   "execution_count": null,
   "metadata": {
    "id": "li0jRcmt6DsE"
   },
   "outputs": [],
   "source": [
    "accuracy_score(y_test, y_pred7)"
   ]
  },
  {
   "cell_type": "code",
   "execution_count": null,
   "metadata": {},
   "outputs": [],
   "source": [
    "roc_auc_score(y_test, y_pred7)"
   ]
  },
  {
   "cell_type": "code",
   "execution_count": null,
   "metadata": {
    "id": "n8HruSZo6E4O"
   },
   "outputs": [],
   "source": [
    "acc7 = cross_val_score(estimator = classifier7, X = X_train, y = y_train, cv = 10)\n",
    "print(\"Accuracy of RF: {:.2f} %\".format(acc7.mean()*100))\n",
    "print(\"SD of RF: {:.2f} %\".format(acc7.std()*100))"
   ]
  },
  {
   "cell_type": "code",
   "execution_count": null,
   "metadata": {},
   "outputs": [],
   "source": [
    "print(metrics.classification_report(y_test, y_pred7))"
   ]
  },
  {
   "cell_type": "code",
   "execution_count": null,
   "metadata": {
    "id": "xdIR7dEH6GXC"
   },
   "outputs": [],
   "source": [
    "param_grid_rf = { \n",
    "    'n_estimators': [200, 500,700,900,1100],\n",
    "    'max_features': ['auto', 'sqrt', 'log2'],\n",
    "    'max_depth' : [4,5,6,7,8,9,10,20,30,40,50],\n",
    "    'criterion' :['gini', 'entropy']\n",
    "}\n",
    "grid_search_rf = GridSearchCV(estimator= classifier7,\n",
    "                               param_grid=param_grid_rf,\n",
    "                               scoring='accuracy', \n",
    "                               n_jobs=-1)\n",
    "grid_search_rf.fit(X_train, y_train)\n",
    "best_accuracy_rf = grid_search_rf.best_score_\n",
    "best_paramaeter_rf = grid_search_rf.best_params_ \n",
    "print(\"Best Accuracy of rf: {:.2f} %\".format(best_accuracy_rf.mean()*100))\n",
    "print(\"Best Parameter of rf:\", best_paramaeter_rf)"
   ]
  },
  {
   "cell_type": "markdown",
   "metadata": {
    "id": "QXIdPdWA-iL5"
   },
   "source": [
    "**XGBOOST**"
   ]
  },
  {
   "cell_type": "code",
   "execution_count": null,
   "metadata": {
    "id": "PnAKiSXl6Hh_"
   },
   "outputs": [],
   "source": [
    "#XGBOOST\n",
    "from xgboost import XGBClassifier\n",
    "classifier8 = XGBClassifier()\n",
    "classifier8.fit(X_train,y_train)"
   ]
  },
  {
   "cell_type": "code",
   "execution_count": null,
   "metadata": {
    "id": "X9fnzgP56Il0"
   },
   "outputs": [],
   "source": [
    "y_pred8 = classifier8.predict(X_test)\n",
    "#print(np.concatenate((y_pred8.reshape(len(y_pred8),1), y_test.reshape(len(y_test),1)),1))"
   ]
  },
  {
   "cell_type": "code",
   "execution_count": null,
   "metadata": {
    "id": "0RivAs4Y6KJc"
   },
   "outputs": [],
   "source": [
    "cm8 = confusion_matrix(y_test, y_pred8)\n",
    "print(cm8)"
   ]
  },
  {
   "cell_type": "code",
   "execution_count": null,
   "metadata": {},
   "outputs": [],
   "source": [
    "from mlxtend.plotting import plot_confusion_matrix\n",
    " \n",
    "fig, ax = plot_confusion_matrix(conf_mat=cm8, figsize=(6, 6), cmap=plt.cm.Greens)\n",
    "plt.xlabel('Predictions', fontsize=18)\n",
    "plt.ylabel('Actuals', fontsize=18)\n",
    "plt.title('Confusion Matrix', fontsize=18)\n",
    "plt.show()"
   ]
  },
  {
   "cell_type": "code",
   "execution_count": null,
   "metadata": {
    "id": "DtYrAmZ96LMS"
   },
   "outputs": [],
   "source": [
    "accuracy_score(y_test, y_pred8)"
   ]
  },
  {
   "cell_type": "code",
   "execution_count": null,
   "metadata": {},
   "outputs": [],
   "source": [
    "roc_auc_score(y_test, y_pred8)"
   ]
  },
  {
   "cell_type": "code",
   "execution_count": null,
   "metadata": {
    "id": "NLrolHkL6MPO"
   },
   "outputs": [],
   "source": [
    "acc8 = cross_val_score(estimator = classifier8, X = X_train, y = y_train, cv = 10)\n",
    "print(\"Accuracy of xgboost: {:.2f} %\".format(acc8.mean()*100))\n",
    "print(\"SD of xgboost: {:.2f} %\".format(acc8.std()*100))"
   ]
  },
  {
   "cell_type": "code",
   "execution_count": null,
   "metadata": {},
   "outputs": [],
   "source": [
    "print(metrics.classification_report(y_test, y_pred8))"
   ]
  },
  {
   "cell_type": "code",
   "execution_count": null,
   "metadata": {
    "id": "o-4WkCxu6Ncs"
   },
   "outputs": [],
   "source": [
    "# A parameter grid for XGBoost\n",
    "parameter_xgboost = {\n",
    "        'min_child_weight': [1, 5, 10],\n",
    "        'gamma': [0.5, 1, 1.5, 2, 5],\n",
    "        'subsample': [0.6, 0.8, 1.0],\n",
    "        'colsample_bytree': [0.6, 0.8, 1.0],\n",
    "        'max_depth': [3, 4, 5, 7, 9]\n",
    "        }\n",
    "grid_search_xgb = GridSearchCV(estimator= classifier8,\n",
    "                               param_grid=parameter_xgboost,\n",
    "                               scoring='accuracy', \n",
    "                               n_jobs=-1)\n",
    "grid_search_xgb.fit(X_train, y_train)\n",
    "best_accuracy_xgb = grid_search_xgb.best_score_\n",
    "best_paramaeter_xgb = grid_search_xgb.best_params_ \n",
    "print(\"Best Accuracy of XGB: {:.2f} %\".format(best_accuracy_xgb.mean()*100))\n",
    "print(\"Best Parameter of XGB:\", best_paramaeter_xgb)"
   ]
  },
  {
   "cell_type": "markdown",
   "metadata": {
    "id": "IxwwXlS8-oEa"
   },
   "source": [
    "**AdaBoost**"
   ]
  },
  {
   "cell_type": "code",
   "execution_count": null,
   "metadata": {
    "id": "ws3hn4tq6Ol7"
   },
   "outputs": [],
   "source": [
    "from sklearn.ensemble import AdaBoostClassifier\n",
    "classifier9 = AdaBoostClassifier(random_state=1)\n",
    "classifier9.fit(X_train, y_train)"
   ]
  },
  {
   "cell_type": "code",
   "execution_count": null,
   "metadata": {
    "id": "k_TIgiZj7YWQ"
   },
   "outputs": [],
   "source": [
    "y_pred9 = classifier9.predict(X_test)\n",
    "#print(np.concatenate((y_pred9.reshape(len(y_pred9),1), y_test.reshape(len(y_test),1)),1))"
   ]
  },
  {
   "cell_type": "code",
   "execution_count": null,
   "metadata": {
    "id": "1VO2dyUb7b_P"
   },
   "outputs": [],
   "source": [
    "cm9 = confusion_matrix(y_test, y_pred9)\n",
    "print(cm9)"
   ]
  },
  {
   "cell_type": "code",
   "execution_count": null,
   "metadata": {},
   "outputs": [],
   "source": [
    "from mlxtend.plotting import plot_confusion_matrix\n",
    " \n",
    "fig, ax = plot_confusion_matrix(conf_mat=cm9, figsize=(6, 6), cmap=plt.cm.Greens)\n",
    "plt.xlabel('Predictions', fontsize=18)\n",
    "plt.ylabel('Actuals', fontsize=18)\n",
    "plt.title('Confusion Matrix', fontsize=18)\n",
    "plt.show()"
   ]
  },
  {
   "cell_type": "code",
   "execution_count": null,
   "metadata": {
    "id": "X1KhTOBm7d3E"
   },
   "outputs": [],
   "source": [
    "accuracy_score(y_test, y_pred9)"
   ]
  },
  {
   "cell_type": "code",
   "execution_count": null,
   "metadata": {},
   "outputs": [],
   "source": [
    "roc_auc_score(y_test, y_pred9)"
   ]
  },
  {
   "cell_type": "code",
   "execution_count": null,
   "metadata": {},
   "outputs": [],
   "source": [
    "acc9 = cross_val_score(estimator = classifier9, X = X_train, y = y_train, cv = 10)\n",
    "print(\"Accuracy of xgboost: {:.2f} %\".format(acc9.mean()*100))\n",
    "print(\"SD of xgboost: {:.2f} %\".format(acc9.std()*100))"
   ]
  },
  {
   "cell_type": "code",
   "execution_count": null,
   "metadata": {
    "id": "BBzfeVDp7gpY"
   },
   "outputs": [],
   "source": [
    "print(metrics.classification_report(y_test, y_pred9))"
   ]
  },
  {
   "cell_type": "code",
   "execution_count": null,
   "metadata": {},
   "outputs": [],
   "source": [
    "from sklearn.model_selection import GridSearchCV\n",
    "parameters_ada = [{'n_estimators':[100,200,300,400,500,1000,1500,2000],\n",
    "                   'learning_rate':[0.001,0.01,0.1,1]}]\n",
    "grid_search_ada = GridSearchCV(estimator = classifier9,\n",
    "                           param_grid = parameters_ada,\n",
    "                           scoring = 'accuracy',\n",
    "                           cv = 10,\n",
    "                           n_jobs = -1)\n",
    "grid_search_ada.fit(X_train, y_train)\n",
    "best_accuracy_ada = grid_search_ada.best_score_\n",
    "best_paramaeter_ada = grid_search_ada.best_params_  \n",
    "print(\"Best Accuracy of adaboost: {:.2f} %\".format(best_accuracy_ada.mean()*100))\n",
    "print(\"Best Parameter of adaboost:\", best_paramaeter_ada) "
   ]
  },
  {
   "cell_type": "markdown",
   "metadata": {
    "id": "91s03b0T-tDx"
   },
   "source": [
    "**Gradient Boost**"
   ]
  },
  {
   "cell_type": "code",
   "execution_count": null,
   "metadata": {
    "id": "6JwPczJD7kTk"
   },
   "outputs": [],
   "source": [
    "from sklearn.ensemble import GradientBoostingClassifier\n",
    "classifier10= GradientBoostingClassifier(n_estimators=20, learning_rate=0.5, max_features=2, max_depth=2, random_state=0)\n",
    "classifier10.fit(X_train, y_train)"
   ]
  },
  {
   "cell_type": "code",
   "execution_count": null,
   "metadata": {
    "id": "UKa0spQu7mdE"
   },
   "outputs": [],
   "source": [
    "y_pred10 = classifier10.predict(X_test)\n",
    "#print(np.concatenate((y_pred10.reshape(len(y_pred10),1), y_test.reshape(len(y_test),1)),1))"
   ]
  },
  {
   "cell_type": "code",
   "execution_count": null,
   "metadata": {
    "id": "Gv1GT_1I7pBP"
   },
   "outputs": [],
   "source": [
    "cm10 = confusion_matrix(y_test, y_pred10)\n",
    "print(cm10)"
   ]
  },
  {
   "cell_type": "code",
   "execution_count": null,
   "metadata": {},
   "outputs": [],
   "source": [
    "from mlxtend.plotting import plot_confusion_matrix\n",
    " \n",
    "fig, ax = plot_confusion_matrix(conf_mat=cm10, figsize=(6, 6), cmap=plt.cm.Greens)\n",
    "plt.xlabel('Predictions', fontsize=18)\n",
    "plt.ylabel('Actuals', fontsize=18)\n",
    "plt.title('Confusion Matrix', fontsize=18)\n",
    "plt.show()"
   ]
  },
  {
   "cell_type": "code",
   "execution_count": null,
   "metadata": {
    "id": "f0vlD_Qm7rOz"
   },
   "outputs": [],
   "source": [
    "accuracy_score(y_test, y_pred10)"
   ]
  },
  {
   "cell_type": "code",
   "execution_count": null,
   "metadata": {},
   "outputs": [],
   "source": [
    "roc_auc_score(y_test, y_pred10)"
   ]
  },
  {
   "cell_type": "code",
   "execution_count": null,
   "metadata": {},
   "outputs": [],
   "source": [
    "acc10 = cross_val_score(estimator = classifier10, X = X_train, y = y_train, cv = 10)\n",
    "print(\"Accuracy of gbboost: {:.2f} %\".format(acc10.mean()*100))\n",
    "print(\"SD of gbboost: {:.2f} %\".format(acc10.std()*100))"
   ]
  },
  {
   "cell_type": "code",
   "execution_count": null,
   "metadata": {
    "id": "MFrvwnio7stN"
   },
   "outputs": [],
   "source": [
    "print(metrics.classification_report(y_test, y_pred10))"
   ]
  },
  {
   "cell_type": "code",
   "execution_count": null,
   "metadata": {},
   "outputs": [],
   "source": [
    "from sklearn.model_selection import GridSearchCV\n",
    "parameters_gb = [{'learning_rate':[0.15,0.1,0.05,0.01,0.005,0.001], \n",
    "                  'n_estimators':[100,250,500,750,1000,1250,1500,1750]}]\n",
    "grid_search_gb = GridSearchCV(estimator = classifier10,\n",
    "                           param_grid = parameters_gb,\n",
    "                           scoring = 'accuracy',\n",
    "                           cv = 10,\n",
    "                           n_jobs = -1)\n",
    "grid_search_gb.fit(X_train, y_train)\n",
    "best_accuracy_gb = grid_search_gb.best_score_\n",
    "best_paramaeter_gb = grid_search_gb.best_params_  \n",
    "print(\"Best Accuracy of gradient boost: {:.2f} %\".format(best_accuracy_gb.mean()*100))\n",
    "print(\"Best Parameter of gradient boost:\", best_paramaeter_gb) "
   ]
  },
  {
   "cell_type": "markdown",
   "metadata": {
    "id": "QTu5uIc6-x4w"
   },
   "source": [
    "**light GBM**"
   ]
  },
  {
   "cell_type": "code",
   "execution_count": null,
   "metadata": {
    "id": "hrmhHVkE7vMp"
   },
   "outputs": [],
   "source": [
    "import lightgbm as lgb\n",
    "classifier11= lgb.LGBMClassifier()\n",
    "classifier11.fit(X_train, y_train)"
   ]
  },
  {
   "cell_type": "code",
   "execution_count": null,
   "metadata": {
    "id": "uqtMocDC7x7P"
   },
   "outputs": [],
   "source": [
    "y_pred11 = classifier11.predict(X_test)\n",
    "#print(np.concatenate((y_pred11.reshape(len(y_pred11),1), y_test.reshape(len(y_test),1)),1))"
   ]
  },
  {
   "cell_type": "code",
   "execution_count": null,
   "metadata": {
    "id": "Rkcg6lb97zz-"
   },
   "outputs": [],
   "source": [
    "cm11 = confusion_matrix(y_test, y_pred11)\n",
    "print(cm11)"
   ]
  },
  {
   "cell_type": "code",
   "execution_count": null,
   "metadata": {},
   "outputs": [],
   "source": [
    "from mlxtend.plotting import plot_confusion_matrix\n",
    " \n",
    "fig, ax = plot_confusion_matrix(conf_mat=cm11, figsize=(6, 6), cmap=plt.cm.Greens)\n",
    "plt.xlabel('Predictions', fontsize=18)\n",
    "plt.ylabel('Actuals', fontsize=18)\n",
    "plt.title('Confusion Matrix', fontsize=18)\n",
    "plt.show()"
   ]
  },
  {
   "cell_type": "code",
   "execution_count": null,
   "metadata": {
    "id": "41AZ26ph72Pd"
   },
   "outputs": [],
   "source": [
    "accuracy_score(y_test, y_pred11)"
   ]
  },
  {
   "cell_type": "code",
   "execution_count": null,
   "metadata": {},
   "outputs": [],
   "source": [
    "roc_auc_score(y_test, y_pred11)"
   ]
  },
  {
   "cell_type": "code",
   "execution_count": null,
   "metadata": {},
   "outputs": [],
   "source": [
    "acc11 = cross_val_score(estimator = classifier11, X = X_train, y = y_train, cv = 10)\n",
    "print(\"Accuracy of lightgbm: {:.2f} %\".format(acc11.mean()*100))\n",
    "print(\"SD of lightgbm: {:.2f} %\".format(acc11.std()*100))"
   ]
  },
  {
   "cell_type": "code",
   "execution_count": null,
   "metadata": {
    "id": "Slc4ds1U73qp"
   },
   "outputs": [],
   "source": [
    "print(metrics.classification_report(y_test, y_pred11))"
   ]
  },
  {
   "cell_type": "code",
   "execution_count": null,
   "metadata": {},
   "outputs": [],
   "source": [
    "from sklearn.model_selection import GridSearchCV\n",
    "parameters_lb = [{'n_estimators': [400, 700, 1000,1500],\n",
    "    'colsample_bytree': [0.7, 0.8, 0.9],\n",
    "    'max_depth': [15,20,25,30,35],\n",
    "    'num_leaves': [50, 100, 200,300],\n",
    "    'reg_alpha': [1.1, 1.2, 1.3],\n",
    "    'reg_lambda': [1.1, 1.2, 1.3],\n",
    "    'min_split_gain': [0.3, 0.4],\n",
    "    'subsample': [0.7, 0.8, 0.9],\n",
    "    'subsample_freq': [20]}]\n",
    "grid_search_lb = GridSearchCV(estimator = classifier11,\n",
    "                           param_grid = parameters_lb,\n",
    "                           scoring = 'accuracy',\n",
    "                           cv = 10,\n",
    "                           n_jobs = -1)\n",
    "grid_search_lb.fit(X_train, y_train)\n",
    "best_accuracy_lb = grid_search_lb.best_score_\n",
    "best_paramaeter_lb = grid_search_lb.best_params_  \n",
    "print(\"Best Accuracy of light boost: {:.2f} %\".format(best_accuracy_lb.mean()*100))\n",
    "print(\"Best Parameter of light boost:\", best_paramaeter_lb) "
   ]
  },
  {
   "cell_type": "markdown",
   "metadata": {},
   "source": [
    "**CatBoost**"
   ]
  },
  {
   "cell_type": "code",
   "execution_count": null,
   "metadata": {},
   "outputs": [],
   "source": [
    "from catboost import CatBoostClassifier\n",
    "from sklearn.model_selection import cross_val_score\n",
    "classifier12 = CatBoostClassifier(max_depth=3)\n",
    "classifier12.fit(X_train, y_train)"
   ]
  },
  {
   "cell_type": "code",
   "execution_count": null,
   "metadata": {},
   "outputs": [],
   "source": [
    "y_pred12 = classifier12.predict(X_test)\n",
    "#print(np.concatenate((y_pred12.reshape(len(y_pred12),1), y_test.reshape(len(y_test),1)),1))"
   ]
  },
  {
   "cell_type": "code",
   "execution_count": null,
   "metadata": {},
   "outputs": [],
   "source": [
    "cm12 = confusion_matrix(y_test, y_pred12)\n",
    "print(cm12)"
   ]
  },
  {
   "cell_type": "code",
   "execution_count": null,
   "metadata": {},
   "outputs": [],
   "source": [
    "from mlxtend.plotting import plot_confusion_matrix\n",
    " \n",
    "fig, ax = plot_confusion_matrix(conf_mat=cm12, figsize=(6, 6), cmap=plt.cm.Greens)\n",
    "plt.xlabel('Predictions', fontsize=18)\n",
    "plt.ylabel('Actuals', fontsize=18)\n",
    "plt.title('Confusion Matrix', fontsize=18)\n",
    "plt.show()"
   ]
  },
  {
   "cell_type": "code",
   "execution_count": null,
   "metadata": {},
   "outputs": [],
   "source": [
    "accuracy_score(y_test, y_pred12)"
   ]
  },
  {
   "cell_type": "code",
   "execution_count": null,
   "metadata": {},
   "outputs": [],
   "source": [
    "roc_auc_score(y_test, y_pred12)"
   ]
  },
  {
   "cell_type": "code",
   "execution_count": null,
   "metadata": {},
   "outputs": [],
   "source": [
    "acc12 = cross_val_score(estimator = classifier12, X = X_train, y = y_train, cv = 10)\n",
    "print(\"Accuracy of catboost: {:.2f} %\".format(acc12.mean()*100))\n",
    "print(\"SD of catboost: {:.2f} %\".format(acc12.std()*100))"
   ]
  },
  {
   "cell_type": "code",
   "execution_count": null,
   "metadata": {},
   "outputs": [],
   "source": [
    "print(metrics.classification_report(y_test, y_pred12))"
   ]
  },
  {
   "cell_type": "code",
   "execution_count": null,
   "metadata": {},
   "outputs": [],
   "source": [
    "from sklearn.model_selection import GridSearchCV\n",
    "parameters_cat = [{'depth':[3,1,2,6,4,5,7,8,9,10],\n",
    "          'iterations':[250,100,500,1000],\n",
    "          'learning_rate':[0.03,0.001,0.01,0.1,0.2,0.3], \n",
    "          'l2_leaf_reg':[3,1,5,10,100],\n",
    "          'border_count':[32,5,10,20,50,100,200],\n",
    "          'ctr_border_count':[50,5,10,20,100,200],\n",
    "          'thread_count':4}]\n",
    "grid_search_cat = GridSearchCV(estimator = classifier12,\n",
    "                           param_grid = parameters_cat,\n",
    "                           scoring = 'accuracy',\n",
    "                           cv = 10,\n",
    "                           n_jobs = -1)\n",
    "grid_search_cat.fit(X_train, y_train)\n",
    "best_accuracy_cat = grid_search_cat.best_score_\n",
    "best_paramaeter_cat = grid_search_cat.best_params_  \n",
    "print(\"Best Accuracy of cat boost: {:.2f} %\".format(best_accuracy_cat.mean()*100))\n",
    "print(\"Best Parameter of cat boost:\", best_paramaeter_cat) "
   ]
  },
  {
   "cell_type": "code",
   "execution_count": null,
   "metadata": {},
   "outputs": [],
   "source": []
  },
  {
   "cell_type": "code",
   "execution_count": null,
   "metadata": {},
   "outputs": [],
   "source": []
  }
 ],
 "metadata": {
  "colab": {
   "collapsed_sections": [],
   "name": "ptbdb_ann_cnn_ml.ipynb",
   "provenance": []
  },
  "kernelspec": {
   "display_name": "Python 3 (ipykernel)",
   "language": "python",
   "name": "python3"
  },
  "language_info": {
   "codemirror_mode": {
    "name": "ipython",
    "version": 3
   },
   "file_extension": ".py",
   "mimetype": "text/x-python",
   "name": "python",
   "nbconvert_exporter": "python",
   "pygments_lexer": "ipython3",
   "version": "3.8.11"
  }
 },
 "nbformat": 4,
 "nbformat_minor": 1
}
