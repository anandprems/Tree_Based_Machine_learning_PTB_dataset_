{
 "cells": [
  {
   "cell_type": "code",
   "execution_count": 2,
   "metadata": {
    "id": "yZ88N--lufvS"
   },
   "outputs": [],
   "source": [
    "#importing libraries\n",
    "import numpy as np\n",
    "import pandas as pd\n",
    "import matplotlib.pyplot as plt"
   ]
  },
  {
   "cell_type": "code",
   "execution_count": 3,
   "metadata": {
    "id": "57WvsXQru-AA"
   },
   "outputs": [],
   "source": [
    "#importing datasets\n",
    "normal = pd.read_csv('ptbdb_normal.csv')\n",
    "abnormal = pd.read_csv('ptbdb_abnormal.csv')"
   ]
  },
  {
   "cell_type": "code",
   "execution_count": 4,
   "metadata": {
    "colab": {
     "base_uri": "https://localhost:8080/",
     "height": 261
    },
    "id": "E3WKFXxlvRSn",
    "outputId": "1efd901b-a259-4c8c-8b03-7fe4f47cbe75"
   },
   "outputs": [
    {
     "data": {
      "text/html": [
       "<div>\n",
       "<style scoped>\n",
       "    .dataframe tbody tr th:only-of-type {\n",
       "        vertical-align: middle;\n",
       "    }\n",
       "\n",
       "    .dataframe tbody tr th {\n",
       "        vertical-align: top;\n",
       "    }\n",
       "\n",
       "    .dataframe thead th {\n",
       "        text-align: right;\n",
       "    }\n",
       "</style>\n",
       "<table border=\"1\" class=\"dataframe\">\n",
       "  <thead>\n",
       "    <tr style=\"text-align: right;\">\n",
       "      <th></th>\n",
       "      <th>1.000000000000000000e+00</th>\n",
       "      <th>9.003241658210754395e-01</th>\n",
       "      <th>3.585899472236633301e-01</th>\n",
       "      <th>5.145867168903350830e-02</th>\n",
       "      <th>4.659643396735191345e-02</th>\n",
       "      <th>1.268233358860015869e-01</th>\n",
       "      <th>1.333063244819641113e-01</th>\n",
       "      <th>1.191247999668121338e-01</th>\n",
       "      <th>1.106158867478370667e-01</th>\n",
       "      <th>1.130470037460327148e-01</th>\n",
       "      <th>...</th>\n",
       "      <th>0.000000000000000000e+00.56</th>\n",
       "      <th>0.000000000000000000e+00.57</th>\n",
       "      <th>0.000000000000000000e+00.58</th>\n",
       "      <th>0.000000000000000000e+00.59</th>\n",
       "      <th>0.000000000000000000e+00.60</th>\n",
       "      <th>0.000000000000000000e+00.61</th>\n",
       "      <th>0.000000000000000000e+00.62</th>\n",
       "      <th>0.000000000000000000e+00.63</th>\n",
       "      <th>0.000000000000000000e+00.64</th>\n",
       "      <th>0.000000000000000000e+00.65</th>\n",
       "    </tr>\n",
       "  </thead>\n",
       "  <tbody>\n",
       "    <tr>\n",
       "      <th>0</th>\n",
       "      <td>1.000000</td>\n",
       "      <td>0.794681</td>\n",
       "      <td>0.375387</td>\n",
       "      <td>0.116883</td>\n",
       "      <td>0.000000</td>\n",
       "      <td>0.171923</td>\n",
       "      <td>0.283859</td>\n",
       "      <td>0.293754</td>\n",
       "      <td>0.325912</td>\n",
       "      <td>0.345083</td>\n",
       "      <td>...</td>\n",
       "      <td>0.0</td>\n",
       "      <td>0.0</td>\n",
       "      <td>0.0</td>\n",
       "      <td>0.0</td>\n",
       "      <td>0.0</td>\n",
       "      <td>0.0</td>\n",
       "      <td>0.0</td>\n",
       "      <td>0.0</td>\n",
       "      <td>0.0</td>\n",
       "      <td>0.0</td>\n",
       "    </tr>\n",
       "    <tr>\n",
       "      <th>1</th>\n",
       "      <td>0.909029</td>\n",
       "      <td>0.791482</td>\n",
       "      <td>0.423169</td>\n",
       "      <td>0.186712</td>\n",
       "      <td>0.000000</td>\n",
       "      <td>0.007836</td>\n",
       "      <td>0.063032</td>\n",
       "      <td>0.077002</td>\n",
       "      <td>0.074957</td>\n",
       "      <td>0.077342</td>\n",
       "      <td>...</td>\n",
       "      <td>0.0</td>\n",
       "      <td>0.0</td>\n",
       "      <td>0.0</td>\n",
       "      <td>0.0</td>\n",
       "      <td>0.0</td>\n",
       "      <td>0.0</td>\n",
       "      <td>0.0</td>\n",
       "      <td>0.0</td>\n",
       "      <td>0.0</td>\n",
       "      <td>0.0</td>\n",
       "    </tr>\n",
       "    <tr>\n",
       "      <th>2</th>\n",
       "      <td>1.000000</td>\n",
       "      <td>0.478893</td>\n",
       "      <td>0.056760</td>\n",
       "      <td>0.064176</td>\n",
       "      <td>0.081289</td>\n",
       "      <td>0.072732</td>\n",
       "      <td>0.055619</td>\n",
       "      <td>0.048774</td>\n",
       "      <td>0.054478</td>\n",
       "      <td>0.041643</td>\n",
       "      <td>...</td>\n",
       "      <td>0.0</td>\n",
       "      <td>0.0</td>\n",
       "      <td>0.0</td>\n",
       "      <td>0.0</td>\n",
       "      <td>0.0</td>\n",
       "      <td>0.0</td>\n",
       "      <td>0.0</td>\n",
       "      <td>0.0</td>\n",
       "      <td>0.0</td>\n",
       "      <td>0.0</td>\n",
       "    </tr>\n",
       "    <tr>\n",
       "      <th>3</th>\n",
       "      <td>1.000000</td>\n",
       "      <td>0.867238</td>\n",
       "      <td>0.201360</td>\n",
       "      <td>0.099349</td>\n",
       "      <td>0.141336</td>\n",
       "      <td>0.120934</td>\n",
       "      <td>0.108516</td>\n",
       "      <td>0.096393</td>\n",
       "      <td>0.093436</td>\n",
       "      <td>0.100828</td>\n",
       "      <td>...</td>\n",
       "      <td>0.0</td>\n",
       "      <td>0.0</td>\n",
       "      <td>0.0</td>\n",
       "      <td>0.0</td>\n",
       "      <td>0.0</td>\n",
       "      <td>0.0</td>\n",
       "      <td>0.0</td>\n",
       "      <td>0.0</td>\n",
       "      <td>0.0</td>\n",
       "      <td>0.0</td>\n",
       "    </tr>\n",
       "    <tr>\n",
       "      <th>4</th>\n",
       "      <td>0.948983</td>\n",
       "      <td>0.505265</td>\n",
       "      <td>0.004176</td>\n",
       "      <td>0.022513</td>\n",
       "      <td>0.059550</td>\n",
       "      <td>0.107298</td>\n",
       "      <td>0.110385</td>\n",
       "      <td>0.111293</td>\n",
       "      <td>0.116558</td>\n",
       "      <td>0.118192</td>\n",
       "      <td>...</td>\n",
       "      <td>0.0</td>\n",
       "      <td>0.0</td>\n",
       "      <td>0.0</td>\n",
       "      <td>0.0</td>\n",
       "      <td>0.0</td>\n",
       "      <td>0.0</td>\n",
       "      <td>0.0</td>\n",
       "      <td>0.0</td>\n",
       "      <td>0.0</td>\n",
       "      <td>0.0</td>\n",
       "    </tr>\n",
       "  </tbody>\n",
       "</table>\n",
       "<p>5 rows × 188 columns</p>\n",
       "</div>"
      ],
      "text/plain": [
       "   1.000000000000000000e+00  9.003241658210754395e-01  \\\n",
       "0                  1.000000                  0.794681   \n",
       "1                  0.909029                  0.791482   \n",
       "2                  1.000000                  0.478893   \n",
       "3                  1.000000                  0.867238   \n",
       "4                  0.948983                  0.505265   \n",
       "\n",
       "   3.585899472236633301e-01  5.145867168903350830e-02  \\\n",
       "0                  0.375387                  0.116883   \n",
       "1                  0.423169                  0.186712   \n",
       "2                  0.056760                  0.064176   \n",
       "3                  0.201360                  0.099349   \n",
       "4                  0.004176                  0.022513   \n",
       "\n",
       "   4.659643396735191345e-02  1.268233358860015869e-01  \\\n",
       "0                  0.000000                  0.171923   \n",
       "1                  0.000000                  0.007836   \n",
       "2                  0.081289                  0.072732   \n",
       "3                  0.141336                  0.120934   \n",
       "4                  0.059550                  0.107298   \n",
       "\n",
       "   1.333063244819641113e-01  1.191247999668121338e-01  \\\n",
       "0                  0.283859                  0.293754   \n",
       "1                  0.063032                  0.077002   \n",
       "2                  0.055619                  0.048774   \n",
       "3                  0.108516                  0.096393   \n",
       "4                  0.110385                  0.111293   \n",
       "\n",
       "   1.106158867478370667e-01  1.130470037460327148e-01  ...  \\\n",
       "0                  0.325912                  0.345083  ...   \n",
       "1                  0.074957                  0.077342  ...   \n",
       "2                  0.054478                  0.041643  ...   \n",
       "3                  0.093436                  0.100828  ...   \n",
       "4                  0.116558                  0.118192  ...   \n",
       "\n",
       "   0.000000000000000000e+00.56  0.000000000000000000e+00.57  \\\n",
       "0                          0.0                          0.0   \n",
       "1                          0.0                          0.0   \n",
       "2                          0.0                          0.0   \n",
       "3                          0.0                          0.0   \n",
       "4                          0.0                          0.0   \n",
       "\n",
       "   0.000000000000000000e+00.58  0.000000000000000000e+00.59  \\\n",
       "0                          0.0                          0.0   \n",
       "1                          0.0                          0.0   \n",
       "2                          0.0                          0.0   \n",
       "3                          0.0                          0.0   \n",
       "4                          0.0                          0.0   \n",
       "\n",
       "   0.000000000000000000e+00.60  0.000000000000000000e+00.61  \\\n",
       "0                          0.0                          0.0   \n",
       "1                          0.0                          0.0   \n",
       "2                          0.0                          0.0   \n",
       "3                          0.0                          0.0   \n",
       "4                          0.0                          0.0   \n",
       "\n",
       "   0.000000000000000000e+00.62  0.000000000000000000e+00.63  \\\n",
       "0                          0.0                          0.0   \n",
       "1                          0.0                          0.0   \n",
       "2                          0.0                          0.0   \n",
       "3                          0.0                          0.0   \n",
       "4                          0.0                          0.0   \n",
       "\n",
       "   0.000000000000000000e+00.64  0.000000000000000000e+00.65  \n",
       "0                          0.0                          0.0  \n",
       "1                          0.0                          0.0  \n",
       "2                          0.0                          0.0  \n",
       "3                          0.0                          0.0  \n",
       "4                          0.0                          0.0  \n",
       "\n",
       "[5 rows x 188 columns]"
      ]
     },
     "execution_count": 4,
     "metadata": {},
     "output_type": "execute_result"
    }
   ],
   "source": [
    "#viewing normal dataset\n",
    "normal.head()"
   ]
  },
  {
   "cell_type": "code",
   "execution_count": 5,
   "metadata": {
    "colab": {
     "base_uri": "https://localhost:8080/",
     "height": 261
    },
    "id": "asdcrKOsvWv3",
    "outputId": "53e66acd-fd90-4647-c50e-8ed73e7e6f12"
   },
   "outputs": [
    {
     "data": {
      "text/html": [
       "<div>\n",
       "<style scoped>\n",
       "    .dataframe tbody tr th:only-of-type {\n",
       "        vertical-align: middle;\n",
       "    }\n",
       "\n",
       "    .dataframe tbody tr th {\n",
       "        vertical-align: top;\n",
       "    }\n",
       "\n",
       "    .dataframe thead th {\n",
       "        text-align: right;\n",
       "    }\n",
       "</style>\n",
       "<table border=\"1\" class=\"dataframe\">\n",
       "  <thead>\n",
       "    <tr style=\"text-align: right;\">\n",
       "      <th></th>\n",
       "      <th>9.322328567504882812e-01</th>\n",
       "      <th>8.696785569190979004e-01</th>\n",
       "      <th>8.861859440803527832e-01</th>\n",
       "      <th>9.296264052391052246e-01</th>\n",
       "      <th>9.087749719619750977e-01</th>\n",
       "      <th>9.339704513549804688e-01</th>\n",
       "      <th>8.010425567626953125e-01</th>\n",
       "      <th>7.497828006744384766e-01</th>\n",
       "      <th>6.872285008430480957e-01</th>\n",
       "      <th>6.350998878479003906e-01</th>\n",
       "      <th>...</th>\n",
       "      <th>0.000000000000000000e+00.117</th>\n",
       "      <th>0.000000000000000000e+00.118</th>\n",
       "      <th>0.000000000000000000e+00.119</th>\n",
       "      <th>0.000000000000000000e+00.120</th>\n",
       "      <th>0.000000000000000000e+00.121</th>\n",
       "      <th>0.000000000000000000e+00.122</th>\n",
       "      <th>0.000000000000000000e+00.123</th>\n",
       "      <th>0.000000000000000000e+00.124</th>\n",
       "      <th>0.000000000000000000e+00.125</th>\n",
       "      <th>1.000000000000000000e+00.1</th>\n",
       "    </tr>\n",
       "  </thead>\n",
       "  <tbody>\n",
       "    <tr>\n",
       "      <th>0</th>\n",
       "      <td>1.000000</td>\n",
       "      <td>0.606941</td>\n",
       "      <td>0.384181</td>\n",
       "      <td>0.254237</td>\n",
       "      <td>0.223567</td>\n",
       "      <td>0.276836</td>\n",
       "      <td>0.253430</td>\n",
       "      <td>0.184826</td>\n",
       "      <td>0.153349</td>\n",
       "      <td>0.121872</td>\n",
       "      <td>...</td>\n",
       "      <td>0.0</td>\n",
       "      <td>0.0</td>\n",
       "      <td>0.0</td>\n",
       "      <td>0.0</td>\n",
       "      <td>0.0</td>\n",
       "      <td>0.0</td>\n",
       "      <td>0.0</td>\n",
       "      <td>0.0</td>\n",
       "      <td>0.0</td>\n",
       "      <td>1.0</td>\n",
       "    </tr>\n",
       "    <tr>\n",
       "      <th>1</th>\n",
       "      <td>1.000000</td>\n",
       "      <td>0.951613</td>\n",
       "      <td>0.923963</td>\n",
       "      <td>0.853303</td>\n",
       "      <td>0.791859</td>\n",
       "      <td>0.734255</td>\n",
       "      <td>0.672043</td>\n",
       "      <td>0.685100</td>\n",
       "      <td>0.670507</td>\n",
       "      <td>0.667435</td>\n",
       "      <td>...</td>\n",
       "      <td>0.0</td>\n",
       "      <td>0.0</td>\n",
       "      <td>0.0</td>\n",
       "      <td>0.0</td>\n",
       "      <td>0.0</td>\n",
       "      <td>0.0</td>\n",
       "      <td>0.0</td>\n",
       "      <td>0.0</td>\n",
       "      <td>0.0</td>\n",
       "      <td>1.0</td>\n",
       "    </tr>\n",
       "    <tr>\n",
       "      <th>2</th>\n",
       "      <td>0.977819</td>\n",
       "      <td>0.899261</td>\n",
       "      <td>0.230129</td>\n",
       "      <td>0.032348</td>\n",
       "      <td>0.142329</td>\n",
       "      <td>0.223660</td>\n",
       "      <td>0.328096</td>\n",
       "      <td>0.367837</td>\n",
       "      <td>0.381701</td>\n",
       "      <td>0.389094</td>\n",
       "      <td>...</td>\n",
       "      <td>0.0</td>\n",
       "      <td>0.0</td>\n",
       "      <td>0.0</td>\n",
       "      <td>0.0</td>\n",
       "      <td>0.0</td>\n",
       "      <td>0.0</td>\n",
       "      <td>0.0</td>\n",
       "      <td>0.0</td>\n",
       "      <td>0.0</td>\n",
       "      <td>1.0</td>\n",
       "    </tr>\n",
       "    <tr>\n",
       "      <th>3</th>\n",
       "      <td>0.935618</td>\n",
       "      <td>0.801661</td>\n",
       "      <td>0.805815</td>\n",
       "      <td>1.000000</td>\n",
       "      <td>0.722741</td>\n",
       "      <td>0.480789</td>\n",
       "      <td>0.454829</td>\n",
       "      <td>0.319834</td>\n",
       "      <td>0.266874</td>\n",
       "      <td>0.308411</td>\n",
       "      <td>...</td>\n",
       "      <td>0.0</td>\n",
       "      <td>0.0</td>\n",
       "      <td>0.0</td>\n",
       "      <td>0.0</td>\n",
       "      <td>0.0</td>\n",
       "      <td>0.0</td>\n",
       "      <td>0.0</td>\n",
       "      <td>0.0</td>\n",
       "      <td>0.0</td>\n",
       "      <td>1.0</td>\n",
       "    </tr>\n",
       "    <tr>\n",
       "      <th>4</th>\n",
       "      <td>0.925265</td>\n",
       "      <td>0.433352</td>\n",
       "      <td>0.073620</td>\n",
       "      <td>0.079197</td>\n",
       "      <td>0.136643</td>\n",
       "      <td>0.182934</td>\n",
       "      <td>0.182934</td>\n",
       "      <td>0.182376</td>\n",
       "      <td>0.196877</td>\n",
       "      <td>0.203569</td>\n",
       "      <td>...</td>\n",
       "      <td>0.0</td>\n",
       "      <td>0.0</td>\n",
       "      <td>0.0</td>\n",
       "      <td>0.0</td>\n",
       "      <td>0.0</td>\n",
       "      <td>0.0</td>\n",
       "      <td>0.0</td>\n",
       "      <td>0.0</td>\n",
       "      <td>0.0</td>\n",
       "      <td>1.0</td>\n",
       "    </tr>\n",
       "  </tbody>\n",
       "</table>\n",
       "<p>5 rows × 188 columns</p>\n",
       "</div>"
      ],
      "text/plain": [
       "   9.322328567504882812e-01  8.696785569190979004e-01  \\\n",
       "0                  1.000000                  0.606941   \n",
       "1                  1.000000                  0.951613   \n",
       "2                  0.977819                  0.899261   \n",
       "3                  0.935618                  0.801661   \n",
       "4                  0.925265                  0.433352   \n",
       "\n",
       "   8.861859440803527832e-01  9.296264052391052246e-01  \\\n",
       "0                  0.384181                  0.254237   \n",
       "1                  0.923963                  0.853303   \n",
       "2                  0.230129                  0.032348   \n",
       "3                  0.805815                  1.000000   \n",
       "4                  0.073620                  0.079197   \n",
       "\n",
       "   9.087749719619750977e-01  9.339704513549804688e-01  \\\n",
       "0                  0.223567                  0.276836   \n",
       "1                  0.791859                  0.734255   \n",
       "2                  0.142329                  0.223660   \n",
       "3                  0.722741                  0.480789   \n",
       "4                  0.136643                  0.182934   \n",
       "\n",
       "   8.010425567626953125e-01  7.497828006744384766e-01  \\\n",
       "0                  0.253430                  0.184826   \n",
       "1                  0.672043                  0.685100   \n",
       "2                  0.328096                  0.367837   \n",
       "3                  0.454829                  0.319834   \n",
       "4                  0.182934                  0.182376   \n",
       "\n",
       "   6.872285008430480957e-01  6.350998878479003906e-01  ...  \\\n",
       "0                  0.153349                  0.121872  ...   \n",
       "1                  0.670507                  0.667435  ...   \n",
       "2                  0.381701                  0.389094  ...   \n",
       "3                  0.266874                  0.308411  ...   \n",
       "4                  0.196877                  0.203569  ...   \n",
       "\n",
       "   0.000000000000000000e+00.117  0.000000000000000000e+00.118  \\\n",
       "0                           0.0                           0.0   \n",
       "1                           0.0                           0.0   \n",
       "2                           0.0                           0.0   \n",
       "3                           0.0                           0.0   \n",
       "4                           0.0                           0.0   \n",
       "\n",
       "   0.000000000000000000e+00.119  0.000000000000000000e+00.120  \\\n",
       "0                           0.0                           0.0   \n",
       "1                           0.0                           0.0   \n",
       "2                           0.0                           0.0   \n",
       "3                           0.0                           0.0   \n",
       "4                           0.0                           0.0   \n",
       "\n",
       "   0.000000000000000000e+00.121  0.000000000000000000e+00.122  \\\n",
       "0                           0.0                           0.0   \n",
       "1                           0.0                           0.0   \n",
       "2                           0.0                           0.0   \n",
       "3                           0.0                           0.0   \n",
       "4                           0.0                           0.0   \n",
       "\n",
       "   0.000000000000000000e+00.123  0.000000000000000000e+00.124  \\\n",
       "0                           0.0                           0.0   \n",
       "1                           0.0                           0.0   \n",
       "2                           0.0                           0.0   \n",
       "3                           0.0                           0.0   \n",
       "4                           0.0                           0.0   \n",
       "\n",
       "   0.000000000000000000e+00.125  1.000000000000000000e+00.1  \n",
       "0                           0.0                         1.0  \n",
       "1                           0.0                         1.0  \n",
       "2                           0.0                         1.0  \n",
       "3                           0.0                         1.0  \n",
       "4                           0.0                         1.0  \n",
       "\n",
       "[5 rows x 188 columns]"
      ]
     },
     "execution_count": 5,
     "metadata": {},
     "output_type": "execute_result"
    }
   ],
   "source": [
    "#viewing abnormal dataset\n",
    "abnormal.head()"
   ]
  },
  {
   "cell_type": "code",
   "execution_count": 6,
   "metadata": {
    "colab": {
     "base_uri": "https://localhost:8080/"
    },
    "id": "xSSz9M-Pvcqn",
    "outputId": "eb9fd199-18fe-4128-9487-2d4e320a47ba"
   },
   "outputs": [
    {
     "data": {
      "text/plain": [
       "(4045, 188)"
      ]
     },
     "execution_count": 6,
     "metadata": {},
     "output_type": "execute_result"
    }
   ],
   "source": [
    "#dimenion for normal\n",
    "normal.shape"
   ]
  },
  {
   "cell_type": "code",
   "execution_count": 7,
   "metadata": {
    "colab": {
     "base_uri": "https://localhost:8080/"
    },
    "id": "09vnUEtpvhBL",
    "outputId": "d76c04be-bb1e-4540-bc66-fb95a1bbb5e2"
   },
   "outputs": [
    {
     "data": {
      "text/plain": [
       "(10505, 188)"
      ]
     },
     "execution_count": 7,
     "metadata": {},
     "output_type": "execute_result"
    }
   ],
   "source": [
    "#dimension for abnormal\n",
    "abnormal.shape"
   ]
  },
  {
   "cell_type": "code",
   "execution_count": 8,
   "metadata": {
    "id": "uR7mhv6YvmTo"
   },
   "outputs": [],
   "source": [
    "#changing the random column names to sequential - normal\n",
    "#as we have some numbers name as columns we need to change that to numbers as\n",
    "for normals in normal:\n",
    "    normal.columns = list(range(len(normal.columns)))"
   ]
  },
  {
   "cell_type": "code",
   "execution_count": 9,
   "metadata": {
    "colab": {
     "base_uri": "https://localhost:8080/",
     "height": 244
    },
    "id": "hLuPw1ovwNvN",
    "outputId": "d64dd455-7258-40e1-94f5-fcfcc940215a"
   },
   "outputs": [
    {
     "data": {
      "text/html": [
       "<div>\n",
       "<style scoped>\n",
       "    .dataframe tbody tr th:only-of-type {\n",
       "        vertical-align: middle;\n",
       "    }\n",
       "\n",
       "    .dataframe tbody tr th {\n",
       "        vertical-align: top;\n",
       "    }\n",
       "\n",
       "    .dataframe thead th {\n",
       "        text-align: right;\n",
       "    }\n",
       "</style>\n",
       "<table border=\"1\" class=\"dataframe\">\n",
       "  <thead>\n",
       "    <tr style=\"text-align: right;\">\n",
       "      <th></th>\n",
       "      <th>0</th>\n",
       "      <th>1</th>\n",
       "      <th>2</th>\n",
       "      <th>3</th>\n",
       "      <th>4</th>\n",
       "      <th>5</th>\n",
       "      <th>6</th>\n",
       "      <th>7</th>\n",
       "      <th>8</th>\n",
       "      <th>9</th>\n",
       "      <th>...</th>\n",
       "      <th>178</th>\n",
       "      <th>179</th>\n",
       "      <th>180</th>\n",
       "      <th>181</th>\n",
       "      <th>182</th>\n",
       "      <th>183</th>\n",
       "      <th>184</th>\n",
       "      <th>185</th>\n",
       "      <th>186</th>\n",
       "      <th>187</th>\n",
       "    </tr>\n",
       "  </thead>\n",
       "  <tbody>\n",
       "    <tr>\n",
       "      <th>0</th>\n",
       "      <td>1.000000</td>\n",
       "      <td>0.794681</td>\n",
       "      <td>0.375387</td>\n",
       "      <td>0.116883</td>\n",
       "      <td>0.000000</td>\n",
       "      <td>0.171923</td>\n",
       "      <td>0.283859</td>\n",
       "      <td>0.293754</td>\n",
       "      <td>0.325912</td>\n",
       "      <td>0.345083</td>\n",
       "      <td>...</td>\n",
       "      <td>0.0</td>\n",
       "      <td>0.0</td>\n",
       "      <td>0.0</td>\n",
       "      <td>0.0</td>\n",
       "      <td>0.0</td>\n",
       "      <td>0.0</td>\n",
       "      <td>0.0</td>\n",
       "      <td>0.0</td>\n",
       "      <td>0.0</td>\n",
       "      <td>0.0</td>\n",
       "    </tr>\n",
       "    <tr>\n",
       "      <th>1</th>\n",
       "      <td>0.909029</td>\n",
       "      <td>0.791482</td>\n",
       "      <td>0.423169</td>\n",
       "      <td>0.186712</td>\n",
       "      <td>0.000000</td>\n",
       "      <td>0.007836</td>\n",
       "      <td>0.063032</td>\n",
       "      <td>0.077002</td>\n",
       "      <td>0.074957</td>\n",
       "      <td>0.077342</td>\n",
       "      <td>...</td>\n",
       "      <td>0.0</td>\n",
       "      <td>0.0</td>\n",
       "      <td>0.0</td>\n",
       "      <td>0.0</td>\n",
       "      <td>0.0</td>\n",
       "      <td>0.0</td>\n",
       "      <td>0.0</td>\n",
       "      <td>0.0</td>\n",
       "      <td>0.0</td>\n",
       "      <td>0.0</td>\n",
       "    </tr>\n",
       "    <tr>\n",
       "      <th>2</th>\n",
       "      <td>1.000000</td>\n",
       "      <td>0.478893</td>\n",
       "      <td>0.056760</td>\n",
       "      <td>0.064176</td>\n",
       "      <td>0.081289</td>\n",
       "      <td>0.072732</td>\n",
       "      <td>0.055619</td>\n",
       "      <td>0.048774</td>\n",
       "      <td>0.054478</td>\n",
       "      <td>0.041643</td>\n",
       "      <td>...</td>\n",
       "      <td>0.0</td>\n",
       "      <td>0.0</td>\n",
       "      <td>0.0</td>\n",
       "      <td>0.0</td>\n",
       "      <td>0.0</td>\n",
       "      <td>0.0</td>\n",
       "      <td>0.0</td>\n",
       "      <td>0.0</td>\n",
       "      <td>0.0</td>\n",
       "      <td>0.0</td>\n",
       "    </tr>\n",
       "    <tr>\n",
       "      <th>3</th>\n",
       "      <td>1.000000</td>\n",
       "      <td>0.867238</td>\n",
       "      <td>0.201360</td>\n",
       "      <td>0.099349</td>\n",
       "      <td>0.141336</td>\n",
       "      <td>0.120934</td>\n",
       "      <td>0.108516</td>\n",
       "      <td>0.096393</td>\n",
       "      <td>0.093436</td>\n",
       "      <td>0.100828</td>\n",
       "      <td>...</td>\n",
       "      <td>0.0</td>\n",
       "      <td>0.0</td>\n",
       "      <td>0.0</td>\n",
       "      <td>0.0</td>\n",
       "      <td>0.0</td>\n",
       "      <td>0.0</td>\n",
       "      <td>0.0</td>\n",
       "      <td>0.0</td>\n",
       "      <td>0.0</td>\n",
       "      <td>0.0</td>\n",
       "    </tr>\n",
       "    <tr>\n",
       "      <th>4</th>\n",
       "      <td>0.948983</td>\n",
       "      <td>0.505265</td>\n",
       "      <td>0.004176</td>\n",
       "      <td>0.022513</td>\n",
       "      <td>0.059550</td>\n",
       "      <td>0.107298</td>\n",
       "      <td>0.110385</td>\n",
       "      <td>0.111293</td>\n",
       "      <td>0.116558</td>\n",
       "      <td>0.118192</td>\n",
       "      <td>...</td>\n",
       "      <td>0.0</td>\n",
       "      <td>0.0</td>\n",
       "      <td>0.0</td>\n",
       "      <td>0.0</td>\n",
       "      <td>0.0</td>\n",
       "      <td>0.0</td>\n",
       "      <td>0.0</td>\n",
       "      <td>0.0</td>\n",
       "      <td>0.0</td>\n",
       "      <td>0.0</td>\n",
       "    </tr>\n",
       "  </tbody>\n",
       "</table>\n",
       "<p>5 rows × 188 columns</p>\n",
       "</div>"
      ],
      "text/plain": [
       "        0         1         2         3         4         5         6    \\\n",
       "0  1.000000  0.794681  0.375387  0.116883  0.000000  0.171923  0.283859   \n",
       "1  0.909029  0.791482  0.423169  0.186712  0.000000  0.007836  0.063032   \n",
       "2  1.000000  0.478893  0.056760  0.064176  0.081289  0.072732  0.055619   \n",
       "3  1.000000  0.867238  0.201360  0.099349  0.141336  0.120934  0.108516   \n",
       "4  0.948983  0.505265  0.004176  0.022513  0.059550  0.107298  0.110385   \n",
       "\n",
       "        7         8         9    ...  178  179  180  181  182  183  184  185  \\\n",
       "0  0.293754  0.325912  0.345083  ...  0.0  0.0  0.0  0.0  0.0  0.0  0.0  0.0   \n",
       "1  0.077002  0.074957  0.077342  ...  0.0  0.0  0.0  0.0  0.0  0.0  0.0  0.0   \n",
       "2  0.048774  0.054478  0.041643  ...  0.0  0.0  0.0  0.0  0.0  0.0  0.0  0.0   \n",
       "3  0.096393  0.093436  0.100828  ...  0.0  0.0  0.0  0.0  0.0  0.0  0.0  0.0   \n",
       "4  0.111293  0.116558  0.118192  ...  0.0  0.0  0.0  0.0  0.0  0.0  0.0  0.0   \n",
       "\n",
       "   186  187  \n",
       "0  0.0  0.0  \n",
       "1  0.0  0.0  \n",
       "2  0.0  0.0  \n",
       "3  0.0  0.0  \n",
       "4  0.0  0.0  \n",
       "\n",
       "[5 rows x 188 columns]"
      ]
     },
     "execution_count": 9,
     "metadata": {},
     "output_type": "execute_result"
    }
   ],
   "source": [
    "#viewing edited columns for normal data\n",
    "normal.head()"
   ]
  },
  {
   "cell_type": "code",
   "execution_count": 10,
   "metadata": {
    "id": "3uym3IC0wVC-"
   },
   "outputs": [],
   "source": [
    "#changing the random column names to sequential - abnormal\n",
    "#as we have some numbers name as columns we need to change that to numbers as\n",
    "for abnormals in abnormal:\n",
    "    abnormal.columns = list(range(len(abnormal.columns)))"
   ]
  },
  {
   "cell_type": "code",
   "execution_count": 11,
   "metadata": {
    "colab": {
     "base_uri": "https://localhost:8080/",
     "height": 244
    },
    "id": "dW91Ywn1whoP",
    "outputId": "409f556e-69bf-47f9-d306-0d4379cd3b5a"
   },
   "outputs": [
    {
     "data": {
      "text/html": [
       "<div>\n",
       "<style scoped>\n",
       "    .dataframe tbody tr th:only-of-type {\n",
       "        vertical-align: middle;\n",
       "    }\n",
       "\n",
       "    .dataframe tbody tr th {\n",
       "        vertical-align: top;\n",
       "    }\n",
       "\n",
       "    .dataframe thead th {\n",
       "        text-align: right;\n",
       "    }\n",
       "</style>\n",
       "<table border=\"1\" class=\"dataframe\">\n",
       "  <thead>\n",
       "    <tr style=\"text-align: right;\">\n",
       "      <th></th>\n",
       "      <th>0</th>\n",
       "      <th>1</th>\n",
       "      <th>2</th>\n",
       "      <th>3</th>\n",
       "      <th>4</th>\n",
       "      <th>5</th>\n",
       "      <th>6</th>\n",
       "      <th>7</th>\n",
       "      <th>8</th>\n",
       "      <th>9</th>\n",
       "      <th>...</th>\n",
       "      <th>178</th>\n",
       "      <th>179</th>\n",
       "      <th>180</th>\n",
       "      <th>181</th>\n",
       "      <th>182</th>\n",
       "      <th>183</th>\n",
       "      <th>184</th>\n",
       "      <th>185</th>\n",
       "      <th>186</th>\n",
       "      <th>187</th>\n",
       "    </tr>\n",
       "  </thead>\n",
       "  <tbody>\n",
       "    <tr>\n",
       "      <th>0</th>\n",
       "      <td>1.000000</td>\n",
       "      <td>0.606941</td>\n",
       "      <td>0.384181</td>\n",
       "      <td>0.254237</td>\n",
       "      <td>0.223567</td>\n",
       "      <td>0.276836</td>\n",
       "      <td>0.253430</td>\n",
       "      <td>0.184826</td>\n",
       "      <td>0.153349</td>\n",
       "      <td>0.121872</td>\n",
       "      <td>...</td>\n",
       "      <td>0.0</td>\n",
       "      <td>0.0</td>\n",
       "      <td>0.0</td>\n",
       "      <td>0.0</td>\n",
       "      <td>0.0</td>\n",
       "      <td>0.0</td>\n",
       "      <td>0.0</td>\n",
       "      <td>0.0</td>\n",
       "      <td>0.0</td>\n",
       "      <td>1.0</td>\n",
       "    </tr>\n",
       "    <tr>\n",
       "      <th>1</th>\n",
       "      <td>1.000000</td>\n",
       "      <td>0.951613</td>\n",
       "      <td>0.923963</td>\n",
       "      <td>0.853303</td>\n",
       "      <td>0.791859</td>\n",
       "      <td>0.734255</td>\n",
       "      <td>0.672043</td>\n",
       "      <td>0.685100</td>\n",
       "      <td>0.670507</td>\n",
       "      <td>0.667435</td>\n",
       "      <td>...</td>\n",
       "      <td>0.0</td>\n",
       "      <td>0.0</td>\n",
       "      <td>0.0</td>\n",
       "      <td>0.0</td>\n",
       "      <td>0.0</td>\n",
       "      <td>0.0</td>\n",
       "      <td>0.0</td>\n",
       "      <td>0.0</td>\n",
       "      <td>0.0</td>\n",
       "      <td>1.0</td>\n",
       "    </tr>\n",
       "    <tr>\n",
       "      <th>2</th>\n",
       "      <td>0.977819</td>\n",
       "      <td>0.899261</td>\n",
       "      <td>0.230129</td>\n",
       "      <td>0.032348</td>\n",
       "      <td>0.142329</td>\n",
       "      <td>0.223660</td>\n",
       "      <td>0.328096</td>\n",
       "      <td>0.367837</td>\n",
       "      <td>0.381701</td>\n",
       "      <td>0.389094</td>\n",
       "      <td>...</td>\n",
       "      <td>0.0</td>\n",
       "      <td>0.0</td>\n",
       "      <td>0.0</td>\n",
       "      <td>0.0</td>\n",
       "      <td>0.0</td>\n",
       "      <td>0.0</td>\n",
       "      <td>0.0</td>\n",
       "      <td>0.0</td>\n",
       "      <td>0.0</td>\n",
       "      <td>1.0</td>\n",
       "    </tr>\n",
       "    <tr>\n",
       "      <th>3</th>\n",
       "      <td>0.935618</td>\n",
       "      <td>0.801661</td>\n",
       "      <td>0.805815</td>\n",
       "      <td>1.000000</td>\n",
       "      <td>0.722741</td>\n",
       "      <td>0.480789</td>\n",
       "      <td>0.454829</td>\n",
       "      <td>0.319834</td>\n",
       "      <td>0.266874</td>\n",
       "      <td>0.308411</td>\n",
       "      <td>...</td>\n",
       "      <td>0.0</td>\n",
       "      <td>0.0</td>\n",
       "      <td>0.0</td>\n",
       "      <td>0.0</td>\n",
       "      <td>0.0</td>\n",
       "      <td>0.0</td>\n",
       "      <td>0.0</td>\n",
       "      <td>0.0</td>\n",
       "      <td>0.0</td>\n",
       "      <td>1.0</td>\n",
       "    </tr>\n",
       "    <tr>\n",
       "      <th>4</th>\n",
       "      <td>0.925265</td>\n",
       "      <td>0.433352</td>\n",
       "      <td>0.073620</td>\n",
       "      <td>0.079197</td>\n",
       "      <td>0.136643</td>\n",
       "      <td>0.182934</td>\n",
       "      <td>0.182934</td>\n",
       "      <td>0.182376</td>\n",
       "      <td>0.196877</td>\n",
       "      <td>0.203569</td>\n",
       "      <td>...</td>\n",
       "      <td>0.0</td>\n",
       "      <td>0.0</td>\n",
       "      <td>0.0</td>\n",
       "      <td>0.0</td>\n",
       "      <td>0.0</td>\n",
       "      <td>0.0</td>\n",
       "      <td>0.0</td>\n",
       "      <td>0.0</td>\n",
       "      <td>0.0</td>\n",
       "      <td>1.0</td>\n",
       "    </tr>\n",
       "  </tbody>\n",
       "</table>\n",
       "<p>5 rows × 188 columns</p>\n",
       "</div>"
      ],
      "text/plain": [
       "        0         1         2         3         4         5         6    \\\n",
       "0  1.000000  0.606941  0.384181  0.254237  0.223567  0.276836  0.253430   \n",
       "1  1.000000  0.951613  0.923963  0.853303  0.791859  0.734255  0.672043   \n",
       "2  0.977819  0.899261  0.230129  0.032348  0.142329  0.223660  0.328096   \n",
       "3  0.935618  0.801661  0.805815  1.000000  0.722741  0.480789  0.454829   \n",
       "4  0.925265  0.433352  0.073620  0.079197  0.136643  0.182934  0.182934   \n",
       "\n",
       "        7         8         9    ...  178  179  180  181  182  183  184  185  \\\n",
       "0  0.184826  0.153349  0.121872  ...  0.0  0.0  0.0  0.0  0.0  0.0  0.0  0.0   \n",
       "1  0.685100  0.670507  0.667435  ...  0.0  0.0  0.0  0.0  0.0  0.0  0.0  0.0   \n",
       "2  0.367837  0.381701  0.389094  ...  0.0  0.0  0.0  0.0  0.0  0.0  0.0  0.0   \n",
       "3  0.319834  0.266874  0.308411  ...  0.0  0.0  0.0  0.0  0.0  0.0  0.0  0.0   \n",
       "4  0.182376  0.196877  0.203569  ...  0.0  0.0  0.0  0.0  0.0  0.0  0.0  0.0   \n",
       "\n",
       "   186  187  \n",
       "0  0.0  1.0  \n",
       "1  0.0  1.0  \n",
       "2  0.0  1.0  \n",
       "3  0.0  1.0  \n",
       "4  0.0  1.0  \n",
       "\n",
       "[5 rows x 188 columns]"
      ]
     },
     "execution_count": 11,
     "metadata": {},
     "output_type": "execute_result"
    }
   ],
   "source": [
    "#viewing edited columns for abnormal data\n",
    "abnormal.head()"
   ]
  },
  {
   "cell_type": "code",
   "execution_count": 12,
   "metadata": {
    "id": "R7L1XTEJwlqa"
   },
   "outputs": [],
   "source": [
    "#combining two data into one\n",
    "#suffling the dataset and dropping the index\n",
    "#As when concatenating we all have arranged 0 and 1 class in order manner\n",
    "dataset = pd.concat([normal, abnormal], axis=0).sample(frac=1.0, random_state =0).reset_index(drop=True)"
   ]
  },
  {
   "cell_type": "code",
   "execution_count": 13,
   "metadata": {
    "colab": {
     "base_uri": "https://localhost:8080/",
     "height": 244
    },
    "id": "NNV38Ke7w8Sv",
    "outputId": "7b25bbd4-71d7-4eee-f685-2d06ab153b6b"
   },
   "outputs": [
    {
     "data": {
      "text/html": [
       "<div>\n",
       "<style scoped>\n",
       "    .dataframe tbody tr th:only-of-type {\n",
       "        vertical-align: middle;\n",
       "    }\n",
       "\n",
       "    .dataframe tbody tr th {\n",
       "        vertical-align: top;\n",
       "    }\n",
       "\n",
       "    .dataframe thead th {\n",
       "        text-align: right;\n",
       "    }\n",
       "</style>\n",
       "<table border=\"1\" class=\"dataframe\">\n",
       "  <thead>\n",
       "    <tr style=\"text-align: right;\">\n",
       "      <th></th>\n",
       "      <th>0</th>\n",
       "      <th>1</th>\n",
       "      <th>2</th>\n",
       "      <th>3</th>\n",
       "      <th>4</th>\n",
       "      <th>5</th>\n",
       "      <th>6</th>\n",
       "      <th>7</th>\n",
       "      <th>8</th>\n",
       "      <th>9</th>\n",
       "      <th>...</th>\n",
       "      <th>178</th>\n",
       "      <th>179</th>\n",
       "      <th>180</th>\n",
       "      <th>181</th>\n",
       "      <th>182</th>\n",
       "      <th>183</th>\n",
       "      <th>184</th>\n",
       "      <th>185</th>\n",
       "      <th>186</th>\n",
       "      <th>187</th>\n",
       "    </tr>\n",
       "  </thead>\n",
       "  <tbody>\n",
       "    <tr>\n",
       "      <th>0</th>\n",
       "      <td>1.000000</td>\n",
       "      <td>0.487164</td>\n",
       "      <td>0.368582</td>\n",
       "      <td>0.424205</td>\n",
       "      <td>0.346577</td>\n",
       "      <td>0.328851</td>\n",
       "      <td>0.287897</td>\n",
       "      <td>0.295232</td>\n",
       "      <td>0.333741</td>\n",
       "      <td>0.306846</td>\n",
       "      <td>...</td>\n",
       "      <td>0.0</td>\n",
       "      <td>0.0</td>\n",
       "      <td>0.0</td>\n",
       "      <td>0.0</td>\n",
       "      <td>0.0</td>\n",
       "      <td>0.0</td>\n",
       "      <td>0.0</td>\n",
       "      <td>0.0</td>\n",
       "      <td>0.0</td>\n",
       "      <td>1.0</td>\n",
       "    </tr>\n",
       "    <tr>\n",
       "      <th>1</th>\n",
       "      <td>0.960630</td>\n",
       "      <td>0.981252</td>\n",
       "      <td>0.764154</td>\n",
       "      <td>0.410949</td>\n",
       "      <td>0.155980</td>\n",
       "      <td>0.009749</td>\n",
       "      <td>0.064867</td>\n",
       "      <td>0.130484</td>\n",
       "      <td>0.123360</td>\n",
       "      <td>0.126359</td>\n",
       "      <td>...</td>\n",
       "      <td>0.0</td>\n",
       "      <td>0.0</td>\n",
       "      <td>0.0</td>\n",
       "      <td>0.0</td>\n",
       "      <td>0.0</td>\n",
       "      <td>0.0</td>\n",
       "      <td>0.0</td>\n",
       "      <td>0.0</td>\n",
       "      <td>0.0</td>\n",
       "      <td>0.0</td>\n",
       "    </tr>\n",
       "    <tr>\n",
       "      <th>2</th>\n",
       "      <td>0.960156</td>\n",
       "      <td>0.596484</td>\n",
       "      <td>0.528906</td>\n",
       "      <td>0.286719</td>\n",
       "      <td>0.113281</td>\n",
       "      <td>0.108984</td>\n",
       "      <td>0.040234</td>\n",
       "      <td>0.021484</td>\n",
       "      <td>0.030469</td>\n",
       "      <td>0.000000</td>\n",
       "      <td>...</td>\n",
       "      <td>0.0</td>\n",
       "      <td>0.0</td>\n",
       "      <td>0.0</td>\n",
       "      <td>0.0</td>\n",
       "      <td>0.0</td>\n",
       "      <td>0.0</td>\n",
       "      <td>0.0</td>\n",
       "      <td>0.0</td>\n",
       "      <td>0.0</td>\n",
       "      <td>1.0</td>\n",
       "    </tr>\n",
       "    <tr>\n",
       "      <th>3</th>\n",
       "      <td>1.000000</td>\n",
       "      <td>0.526476</td>\n",
       "      <td>0.387097</td>\n",
       "      <td>0.384662</td>\n",
       "      <td>0.421181</td>\n",
       "      <td>0.335971</td>\n",
       "      <td>0.231284</td>\n",
       "      <td>0.276324</td>\n",
       "      <td>0.211808</td>\n",
       "      <td>0.237371</td>\n",
       "      <td>...</td>\n",
       "      <td>0.0</td>\n",
       "      <td>0.0</td>\n",
       "      <td>0.0</td>\n",
       "      <td>0.0</td>\n",
       "      <td>0.0</td>\n",
       "      <td>0.0</td>\n",
       "      <td>0.0</td>\n",
       "      <td>0.0</td>\n",
       "      <td>0.0</td>\n",
       "      <td>1.0</td>\n",
       "    </tr>\n",
       "    <tr>\n",
       "      <th>4</th>\n",
       "      <td>0.957125</td>\n",
       "      <td>0.695460</td>\n",
       "      <td>0.343001</td>\n",
       "      <td>0.159521</td>\n",
       "      <td>0.085750</td>\n",
       "      <td>0.075662</td>\n",
       "      <td>0.108449</td>\n",
       "      <td>0.089533</td>\n",
       "      <td>0.108449</td>\n",
       "      <td>0.105296</td>\n",
       "      <td>...</td>\n",
       "      <td>0.0</td>\n",
       "      <td>0.0</td>\n",
       "      <td>0.0</td>\n",
       "      <td>0.0</td>\n",
       "      <td>0.0</td>\n",
       "      <td>0.0</td>\n",
       "      <td>0.0</td>\n",
       "      <td>0.0</td>\n",
       "      <td>0.0</td>\n",
       "      <td>1.0</td>\n",
       "    </tr>\n",
       "  </tbody>\n",
       "</table>\n",
       "<p>5 rows × 188 columns</p>\n",
       "</div>"
      ],
      "text/plain": [
       "        0         1         2         3         4         5         6    \\\n",
       "0  1.000000  0.487164  0.368582  0.424205  0.346577  0.328851  0.287897   \n",
       "1  0.960630  0.981252  0.764154  0.410949  0.155980  0.009749  0.064867   \n",
       "2  0.960156  0.596484  0.528906  0.286719  0.113281  0.108984  0.040234   \n",
       "3  1.000000  0.526476  0.387097  0.384662  0.421181  0.335971  0.231284   \n",
       "4  0.957125  0.695460  0.343001  0.159521  0.085750  0.075662  0.108449   \n",
       "\n",
       "        7         8         9    ...  178  179  180  181  182  183  184  185  \\\n",
       "0  0.295232  0.333741  0.306846  ...  0.0  0.0  0.0  0.0  0.0  0.0  0.0  0.0   \n",
       "1  0.130484  0.123360  0.126359  ...  0.0  0.0  0.0  0.0  0.0  0.0  0.0  0.0   \n",
       "2  0.021484  0.030469  0.000000  ...  0.0  0.0  0.0  0.0  0.0  0.0  0.0  0.0   \n",
       "3  0.276324  0.211808  0.237371  ...  0.0  0.0  0.0  0.0  0.0  0.0  0.0  0.0   \n",
       "4  0.089533  0.108449  0.105296  ...  0.0  0.0  0.0  0.0  0.0  0.0  0.0  0.0   \n",
       "\n",
       "   186  187  \n",
       "0  0.0  1.0  \n",
       "1  0.0  0.0  \n",
       "2  0.0  1.0  \n",
       "3  0.0  1.0  \n",
       "4  0.0  1.0  \n",
       "\n",
       "[5 rows x 188 columns]"
      ]
     },
     "execution_count": 13,
     "metadata": {},
     "output_type": "execute_result"
    }
   ],
   "source": [
    "#viewing combined dataset\n",
    "dataset.head()"
   ]
  },
  {
   "cell_type": "code",
   "execution_count": 14,
   "metadata": {
    "colab": {
     "base_uri": "https://localhost:8080/"
    },
    "id": "aPg9xtDaw_2x",
    "outputId": "e80d9b39-0b88-451c-a13b-02474a03cd2f"
   },
   "outputs": [
    {
     "data": {
      "text/plain": [
       "(14550, 188)"
      ]
     },
     "execution_count": 14,
     "metadata": {},
     "output_type": "execute_result"
    }
   ],
   "source": [
    "dataset.shape"
   ]
  },
  {
   "cell_type": "code",
   "execution_count": 15,
   "metadata": {
    "colab": {
     "base_uri": "https://localhost:8080/",
     "height": 333
    },
    "id": "KvzJ_h3pxBoj",
    "outputId": "aeeeeda3-6a91-4009-987a-512a4cfdd041"
   },
   "outputs": [
    {
     "data": {
      "text/html": [
       "<div>\n",
       "<style scoped>\n",
       "    .dataframe tbody tr th:only-of-type {\n",
       "        vertical-align: middle;\n",
       "    }\n",
       "\n",
       "    .dataframe tbody tr th {\n",
       "        vertical-align: top;\n",
       "    }\n",
       "\n",
       "    .dataframe thead th {\n",
       "        text-align: right;\n",
       "    }\n",
       "</style>\n",
       "<table border=\"1\" class=\"dataframe\">\n",
       "  <thead>\n",
       "    <tr style=\"text-align: right;\">\n",
       "      <th></th>\n",
       "      <th>0</th>\n",
       "      <th>1</th>\n",
       "      <th>2</th>\n",
       "      <th>3</th>\n",
       "      <th>4</th>\n",
       "      <th>5</th>\n",
       "      <th>6</th>\n",
       "      <th>7</th>\n",
       "      <th>8</th>\n",
       "      <th>9</th>\n",
       "      <th>...</th>\n",
       "      <th>178</th>\n",
       "      <th>179</th>\n",
       "      <th>180</th>\n",
       "      <th>181</th>\n",
       "      <th>182</th>\n",
       "      <th>183</th>\n",
       "      <th>184</th>\n",
       "      <th>185</th>\n",
       "      <th>186</th>\n",
       "      <th>187</th>\n",
       "    </tr>\n",
       "  </thead>\n",
       "  <tbody>\n",
       "    <tr>\n",
       "      <th>count</th>\n",
       "      <td>14550.000000</td>\n",
       "      <td>14550.000000</td>\n",
       "      <td>14550.000000</td>\n",
       "      <td>14550.000000</td>\n",
       "      <td>14550.000000</td>\n",
       "      <td>14550.000000</td>\n",
       "      <td>14550.000000</td>\n",
       "      <td>14550.000000</td>\n",
       "      <td>14550.000000</td>\n",
       "      <td>14550.000000</td>\n",
       "      <td>...</td>\n",
       "      <td>14550.000000</td>\n",
       "      <td>14550.000000</td>\n",
       "      <td>14550.000000</td>\n",
       "      <td>14550.000000</td>\n",
       "      <td>14550.000000</td>\n",
       "      <td>14550.000000</td>\n",
       "      <td>14550.000000</td>\n",
       "      <td>14550.000000</td>\n",
       "      <td>14550.0</td>\n",
       "      <td>14550.000000</td>\n",
       "    </tr>\n",
       "    <tr>\n",
       "      <th>mean</th>\n",
       "      <td>0.976638</td>\n",
       "      <td>0.721640</td>\n",
       "      <td>0.403068</td>\n",
       "      <td>0.242859</td>\n",
       "      <td>0.207181</td>\n",
       "      <td>0.216410</td>\n",
       "      <td>0.221718</td>\n",
       "      <td>0.224457</td>\n",
       "      <td>0.227325</td>\n",
       "      <td>0.229684</td>\n",
       "      <td>...</td>\n",
       "      <td>0.001190</td>\n",
       "      <td>0.001133</td>\n",
       "      <td>0.000900</td>\n",
       "      <td>0.000739</td>\n",
       "      <td>0.000661</td>\n",
       "      <td>0.000475</td>\n",
       "      <td>0.000177</td>\n",
       "      <td>0.000185</td>\n",
       "      <td>0.0</td>\n",
       "      <td>0.721993</td>\n",
       "    </tr>\n",
       "    <tr>\n",
       "      <th>std</th>\n",
       "      <td>0.034532</td>\n",
       "      <td>0.195694</td>\n",
       "      <td>0.249779</td>\n",
       "      <td>0.249466</td>\n",
       "      <td>0.218030</td>\n",
       "      <td>0.192331</td>\n",
       "      <td>0.180687</td>\n",
       "      <td>0.176900</td>\n",
       "      <td>0.176642</td>\n",
       "      <td>0.176557</td>\n",
       "      <td>...</td>\n",
       "      <td>0.021363</td>\n",
       "      <td>0.021014</td>\n",
       "      <td>0.017317</td>\n",
       "      <td>0.014641</td>\n",
       "      <td>0.014034</td>\n",
       "      <td>0.012290</td>\n",
       "      <td>0.006545</td>\n",
       "      <td>0.006836</td>\n",
       "      <td>0.0</td>\n",
       "      <td>0.448032</td>\n",
       "    </tr>\n",
       "    <tr>\n",
       "      <th>min</th>\n",
       "      <td>0.624227</td>\n",
       "      <td>0.000000</td>\n",
       "      <td>0.000000</td>\n",
       "      <td>0.000000</td>\n",
       "      <td>0.000000</td>\n",
       "      <td>0.000000</td>\n",
       "      <td>0.000000</td>\n",
       "      <td>0.000000</td>\n",
       "      <td>0.000000</td>\n",
       "      <td>0.000000</td>\n",
       "      <td>...</td>\n",
       "      <td>0.000000</td>\n",
       "      <td>0.000000</td>\n",
       "      <td>0.000000</td>\n",
       "      <td>0.000000</td>\n",
       "      <td>0.000000</td>\n",
       "      <td>0.000000</td>\n",
       "      <td>0.000000</td>\n",
       "      <td>0.000000</td>\n",
       "      <td>0.0</td>\n",
       "      <td>0.000000</td>\n",
       "    </tr>\n",
       "    <tr>\n",
       "      <th>25%</th>\n",
       "      <td>0.959381</td>\n",
       "      <td>0.584500</td>\n",
       "      <td>0.212294</td>\n",
       "      <td>0.052278</td>\n",
       "      <td>0.061899</td>\n",
       "      <td>0.090473</td>\n",
       "      <td>0.096495</td>\n",
       "      <td>0.097092</td>\n",
       "      <td>0.097225</td>\n",
       "      <td>0.097127</td>\n",
       "      <td>...</td>\n",
       "      <td>0.000000</td>\n",
       "      <td>0.000000</td>\n",
       "      <td>0.000000</td>\n",
       "      <td>0.000000</td>\n",
       "      <td>0.000000</td>\n",
       "      <td>0.000000</td>\n",
       "      <td>0.000000</td>\n",
       "      <td>0.000000</td>\n",
       "      <td>0.0</td>\n",
       "      <td>0.000000</td>\n",
       "    </tr>\n",
       "    <tr>\n",
       "      <th>50%</th>\n",
       "      <td>1.000000</td>\n",
       "      <td>0.740115</td>\n",
       "      <td>0.371911</td>\n",
       "      <td>0.168148</td>\n",
       "      <td>0.136082</td>\n",
       "      <td>0.159451</td>\n",
       "      <td>0.167479</td>\n",
       "      <td>0.171541</td>\n",
       "      <td>0.177380</td>\n",
       "      <td>0.180337</td>\n",
       "      <td>...</td>\n",
       "      <td>0.000000</td>\n",
       "      <td>0.000000</td>\n",
       "      <td>0.000000</td>\n",
       "      <td>0.000000</td>\n",
       "      <td>0.000000</td>\n",
       "      <td>0.000000</td>\n",
       "      <td>0.000000</td>\n",
       "      <td>0.000000</td>\n",
       "      <td>0.0</td>\n",
       "      <td>1.000000</td>\n",
       "    </tr>\n",
       "    <tr>\n",
       "      <th>75%</th>\n",
       "      <td>1.000000</td>\n",
       "      <td>0.881478</td>\n",
       "      <td>0.557741</td>\n",
       "      <td>0.336155</td>\n",
       "      <td>0.264083</td>\n",
       "      <td>0.264610</td>\n",
       "      <td>0.286449</td>\n",
       "      <td>0.302235</td>\n",
       "      <td>0.311657</td>\n",
       "      <td>0.325235</td>\n",
       "      <td>...</td>\n",
       "      <td>0.000000</td>\n",
       "      <td>0.000000</td>\n",
       "      <td>0.000000</td>\n",
       "      <td>0.000000</td>\n",
       "      <td>0.000000</td>\n",
       "      <td>0.000000</td>\n",
       "      <td>0.000000</td>\n",
       "      <td>0.000000</td>\n",
       "      <td>0.0</td>\n",
       "      <td>1.000000</td>\n",
       "    </tr>\n",
       "    <tr>\n",
       "      <th>max</th>\n",
       "      <td>1.000000</td>\n",
       "      <td>1.000000</td>\n",
       "      <td>1.000000</td>\n",
       "      <td>1.000000</td>\n",
       "      <td>1.000000</td>\n",
       "      <td>1.000000</td>\n",
       "      <td>1.000000</td>\n",
       "      <td>0.985523</td>\n",
       "      <td>0.993213</td>\n",
       "      <td>0.997738</td>\n",
       "      <td>...</td>\n",
       "      <td>0.791899</td>\n",
       "      <td>0.773743</td>\n",
       "      <td>0.789804</td>\n",
       "      <td>0.628177</td>\n",
       "      <td>0.602033</td>\n",
       "      <td>0.644880</td>\n",
       "      <td>0.371502</td>\n",
       "      <td>0.376668</td>\n",
       "      <td>0.0</td>\n",
       "      <td>1.000000</td>\n",
       "    </tr>\n",
       "  </tbody>\n",
       "</table>\n",
       "<p>8 rows × 188 columns</p>\n",
       "</div>"
      ],
      "text/plain": [
       "                0             1             2             3             4    \\\n",
       "count  14550.000000  14550.000000  14550.000000  14550.000000  14550.000000   \n",
       "mean       0.976638      0.721640      0.403068      0.242859      0.207181   \n",
       "std        0.034532      0.195694      0.249779      0.249466      0.218030   \n",
       "min        0.624227      0.000000      0.000000      0.000000      0.000000   \n",
       "25%        0.959381      0.584500      0.212294      0.052278      0.061899   \n",
       "50%        1.000000      0.740115      0.371911      0.168148      0.136082   \n",
       "75%        1.000000      0.881478      0.557741      0.336155      0.264083   \n",
       "max        1.000000      1.000000      1.000000      1.000000      1.000000   \n",
       "\n",
       "                5             6             7             8             9    \\\n",
       "count  14550.000000  14550.000000  14550.000000  14550.000000  14550.000000   \n",
       "mean       0.216410      0.221718      0.224457      0.227325      0.229684   \n",
       "std        0.192331      0.180687      0.176900      0.176642      0.176557   \n",
       "min        0.000000      0.000000      0.000000      0.000000      0.000000   \n",
       "25%        0.090473      0.096495      0.097092      0.097225      0.097127   \n",
       "50%        0.159451      0.167479      0.171541      0.177380      0.180337   \n",
       "75%        0.264610      0.286449      0.302235      0.311657      0.325235   \n",
       "max        1.000000      1.000000      0.985523      0.993213      0.997738   \n",
       "\n",
       "       ...           178           179           180           181  \\\n",
       "count  ...  14550.000000  14550.000000  14550.000000  14550.000000   \n",
       "mean   ...      0.001190      0.001133      0.000900      0.000739   \n",
       "std    ...      0.021363      0.021014      0.017317      0.014641   \n",
       "min    ...      0.000000      0.000000      0.000000      0.000000   \n",
       "25%    ...      0.000000      0.000000      0.000000      0.000000   \n",
       "50%    ...      0.000000      0.000000      0.000000      0.000000   \n",
       "75%    ...      0.000000      0.000000      0.000000      0.000000   \n",
       "max    ...      0.791899      0.773743      0.789804      0.628177   \n",
       "\n",
       "                182           183           184           185      186  \\\n",
       "count  14550.000000  14550.000000  14550.000000  14550.000000  14550.0   \n",
       "mean       0.000661      0.000475      0.000177      0.000185      0.0   \n",
       "std        0.014034      0.012290      0.006545      0.006836      0.0   \n",
       "min        0.000000      0.000000      0.000000      0.000000      0.0   \n",
       "25%        0.000000      0.000000      0.000000      0.000000      0.0   \n",
       "50%        0.000000      0.000000      0.000000      0.000000      0.0   \n",
       "75%        0.000000      0.000000      0.000000      0.000000      0.0   \n",
       "max        0.602033      0.644880      0.371502      0.376668      0.0   \n",
       "\n",
       "                187  \n",
       "count  14550.000000  \n",
       "mean       0.721993  \n",
       "std        0.448032  \n",
       "min        0.000000  \n",
       "25%        0.000000  \n",
       "50%        1.000000  \n",
       "75%        1.000000  \n",
       "max        1.000000  \n",
       "\n",
       "[8 rows x 188 columns]"
      ]
     },
     "execution_count": 15,
     "metadata": {},
     "output_type": "execute_result"
    }
   ],
   "source": [
    "#basic info of statistics\n",
    "dataset.describe()"
   ]
  },
  {
   "cell_type": "code",
   "execution_count": 16,
   "metadata": {
    "colab": {
     "base_uri": "https://localhost:8080/"
    },
    "id": "NJ1Q9WnyxHxa",
    "outputId": "4b7b7acd-90ce-4689-a4b3-37c122287067"
   },
   "outputs": [
    {
     "name": "stdout",
     "output_type": "stream",
     "text": [
      "<class 'pandas.core.frame.DataFrame'>\n",
      "RangeIndex: 14550 entries, 0 to 14549\n",
      "Columns: 188 entries, 0 to 187\n",
      "dtypes: float64(188)\n",
      "memory usage: 20.9 MB\n"
     ]
    }
   ],
   "source": [
    "#basic information of dataset\n",
    "dataset.info()"
   ]
  },
  {
   "cell_type": "code",
   "execution_count": 17,
   "metadata": {
    "colab": {
     "base_uri": "https://localhost:8080/"
    },
    "id": "bd0AlaKSxNaG",
    "outputId": "09b81fe7-2ea2-4bfc-cd7e-adea9b619ee8"
   },
   "outputs": [
    {
     "data": {
      "text/plain": [
       "0       6905\n",
       "1      13303\n",
       "2      14020\n",
       "3      12749\n",
       "4      13172\n",
       "       ...  \n",
       "183       33\n",
       "184       15\n",
       "185       15\n",
       "186        1\n",
       "187        2\n",
       "Length: 188, dtype: int64"
      ]
     },
     "execution_count": 17,
     "metadata": {},
     "output_type": "execute_result"
    }
   ],
   "source": [
    "#viewing the uniqueness in dataset\n",
    "dataset.nunique()"
   ]
  },
  {
   "cell_type": "code",
   "execution_count": 18,
   "metadata": {
    "colab": {
     "base_uri": "https://localhost:8080/"
    },
    "id": "aFkiBOpZxTcX",
    "outputId": "471dc309-8a62-4995-816d-93d79e8aeb72"
   },
   "outputs": [
    {
     "data": {
      "text/plain": [
       "0      -1.996666\n",
       "1      -0.476897\n",
       "2       0.522176\n",
       "3       1.341882\n",
       "4       1.695414\n",
       "         ...    \n",
       "183    33.173038\n",
       "184    43.456478\n",
       "185    42.695593\n",
       "186     0.000000\n",
       "187    -0.991106\n",
       "Length: 188, dtype: float64"
      ]
     },
     "execution_count": 18,
     "metadata": {},
     "output_type": "execute_result"
    }
   ],
   "source": [
    "#skewness of the dataset\n",
    "#the deviation of the distribution of the data from a normal distribution\n",
    "#+ve mean > median > mode\n",
    "#-ve mean < median < mode\n",
    "dataset.skew()"
   ]
  },
  {
   "cell_type": "code",
   "execution_count": 19,
   "metadata": {
    "colab": {
     "base_uri": "https://localhost:8080/"
    },
    "id": "no5SeFzxxagb",
    "outputId": "417f520f-a748-426e-ea4c-e3b53d44ff9b"
   },
   "outputs": [
    {
     "data": {
      "text/plain": [
       "0         6.525932\n",
       "1        -0.358119\n",
       "2        -0.432733\n",
       "3         1.049821\n",
       "4         2.382486\n",
       "          ...     \n",
       "183    1268.425311\n",
       "184    2057.330509\n",
       "185    1970.628170\n",
       "186       0.000000\n",
       "187      -1.017849\n",
       "Length: 188, dtype: float64"
      ]
     },
     "execution_count": 19,
     "metadata": {},
     "output_type": "execute_result"
    }
   ],
   "source": [
    "#kurtosis of dataset\n",
    "#identifies whether the tails of a given distribution contain extreme values\n",
    "#Leptokurtic indicates a positive excess kurtosis\n",
    "#mesokurtic distribution shows an excess kurtosis of zero or close to zero\n",
    "#platykurtic distribution shows a negative excess kurtosis\n",
    "dataset.kurtosis()"
   ]
  },
  {
   "cell_type": "code",
   "execution_count": 20,
   "metadata": {
    "colab": {
     "base_uri": "https://localhost:8080/"
    },
    "id": "qHxbzRYpxfgy",
    "outputId": "b68430e2-1af3-4cef-fd1f-4f7d70007b72"
   },
   "outputs": [
    {
     "name": "stdout",
     "output_type": "stream",
     "text": [
      "Any missing data or NaN in the dataset: False\n"
     ]
    }
   ],
   "source": [
    "#missing values any from the dataset\n",
    "print(str('Any missing data or NaN in the dataset:'), dataset.isnull().values.any())"
   ]
  },
  {
   "cell_type": "code",
   "execution_count": 21,
   "metadata": {
    "colab": {
     "base_uri": "https://localhost:8080/"
    },
    "id": "V974RCCq4EKQ",
    "outputId": "98d5fba5-b089-4a5c-f3a1-34149c489dcf"
   },
   "outputs": [
    {
     "name": "stdout",
     "output_type": "stream",
     "text": [
      "The minimum and maximum values are 0.0, 1.0\n"
     ]
    }
   ],
   "source": [
    "#data ranges in the dataset - sample\n",
    "print(\"The minimum and maximum values are {}, {}\".format(np.min(dataset.iloc[-2,:].values), np.max(dataset.iloc[-2,:].values)))"
   ]
  },
  {
   "cell_type": "code",
   "execution_count": 22,
   "metadata": {
    "colab": {
     "base_uri": "https://localhost:8080/"
    },
    "id": "iVzsfQaaxrKK",
    "outputId": "170e23c1-bb5e-45d1-b37a-6ced351fe16a"
   },
   "outputs": [
    {
     "name": "stdout",
     "output_type": "stream",
     "text": [
      "          0         1         2         3         4         5         6    \\\n",
      "0    1.000000 -0.144659 -0.177473 -0.152565 -0.096012 -0.065027 -0.054873   \n",
      "1   -0.144659  1.000000  0.751293  0.500776  0.305996  0.212239  0.181912   \n",
      "2   -0.177473  0.751293  1.000000  0.838456  0.622193  0.472163  0.384679   \n",
      "3   -0.152565  0.500776  0.838456  1.000000  0.872606  0.688537  0.561440   \n",
      "4   -0.096012  0.305996  0.622193  0.872606  1.000000  0.894368  0.763562   \n",
      "..        ...       ...       ...       ...       ...       ...       ...   \n",
      "183  0.000727 -0.013414 -0.002895  0.013430  0.011029  0.002736 -0.002890   \n",
      "184 -0.005036 -0.004615 -0.008376 -0.004826 -0.007732 -0.012645 -0.018202   \n",
      "185 -0.005020 -0.004240 -0.008052 -0.004498 -0.007584 -0.012545 -0.018113   \n",
      "186       NaN       NaN       NaN       NaN       NaN       NaN       NaN   \n",
      "187 -0.054400  0.032348  0.227082  0.306628  0.337449  0.276078  0.213135   \n",
      "\n",
      "          7         8         9    ...       178       179       180  \\\n",
      "0   -0.046317 -0.040963 -0.038091  ... -0.004408 -0.007506 -0.005209   \n",
      "1    0.167001  0.159070  0.155503  ... -0.012059 -0.008719  0.000365   \n",
      "2    0.339476  0.315996  0.304602  ...  0.004875  0.009901  0.002115   \n",
      "3    0.479019  0.443247  0.421765  ...  0.008462  0.010670  0.003823   \n",
      "4    0.661675  0.601772  0.568697  ...  0.025964  0.027605  0.000381   \n",
      "..        ...       ...       ...  ...       ...       ...       ...   \n",
      "183 -0.006996 -0.009368 -0.010145  ...  0.486545  0.512015  0.641034   \n",
      "184 -0.020839 -0.021866 -0.022724  ...  0.206689  0.224608  0.294532   \n",
      "185 -0.020755 -0.021788 -0.022661  ...  0.207089  0.224653  0.294442   \n",
      "186       NaN       NaN       NaN  ...       NaN       NaN       NaN   \n",
      "187  0.206396  0.208343  0.206972  ... -0.010175 -0.005865 -0.014482   \n",
      "\n",
      "          181       182       183       184       185  186       187  \n",
      "0   -0.001657  0.001747  0.000727 -0.005036 -0.005020  NaN -0.054400  \n",
      "1   -0.002075 -0.005425 -0.013414 -0.004615 -0.004240  NaN  0.032348  \n",
      "2    0.006449  0.004493 -0.002895 -0.008376 -0.008052  NaN  0.227082  \n",
      "3    0.013104  0.013057  0.013430 -0.004826 -0.004498  NaN  0.306628  \n",
      "4    0.003772  0.006265  0.011029 -0.007732 -0.007584  NaN  0.337449  \n",
      "..        ...       ...       ...       ...       ...  ...       ...  \n",
      "183  0.806979  0.843296  1.000000  0.507711  0.507192  NaN -0.021190  \n",
      "184  0.373079  0.414228  0.507711  1.000000  0.999194  NaN -0.026262  \n",
      "185  0.372649  0.413676  0.507192  0.999194  1.000000  NaN -0.026180  \n",
      "186       NaN       NaN       NaN       NaN       NaN  NaN       NaN  \n",
      "187 -0.020380 -0.014623 -0.021190 -0.026262 -0.026180  NaN  1.000000  \n",
      "\n",
      "[188 rows x 188 columns]\n"
     ]
    }
   ],
   "source": [
    "#correlation for all features in the dataset\n",
    "correlation_data =dataset.corr()\n",
    "print(correlation_data)"
   ]
  },
  {
   "cell_type": "code",
   "execution_count": 23,
   "metadata": {
    "colab": {
     "base_uri": "https://localhost:8080/",
     "height": 486
    },
    "id": "X2tVm_bex1D3",
    "outputId": "08aa36c0-6e4e-4d05-8b4d-bd9b92543254"
   },
   "outputs": [
    {
     "data": {
      "text/plain": [
       "<matplotlib.axes._subplots.AxesSubplot at 0x29f0e9ccf70>"
      ]
     },
     "execution_count": 23,
     "metadata": {},
     "output_type": "execute_result"
    },
    {
     "data": {
      "image/png": "[encoded data removed]",
      "text/plain": [
       "<Figure size 720x540 with 2 Axes>"
      ]
     },
     "metadata": {
      "needs_background": "light"
     },
     "output_type": "display_data"
    }
   ],
   "source": [
    "import seaborn as sns\n",
    "#visulaization for correlation\n",
    "plt.figure(figsize=(10,7.5))\n",
    "sns.heatmap(correlation_data, annot=True, cmap='BrBG')"
   ]
  },
  {
   "cell_type": "code",
   "execution_count": 24,
   "metadata": {
    "colab": {
     "base_uri": "https://localhost:8080/"
    },
    "id": "dZ087NIiy2CS",
    "outputId": "4ff9fd96-91ea-4523-9b2d-2613d2ed6489"
   },
   "outputs": [
    {
     "data": {
      "text/plain": [
       "1.0    10505\n",
       "0.0     4045\n",
       "Name: 187, dtype: int64"
      ]
     },
     "execution_count": 24,
     "metadata": {},
     "output_type": "execute_result"
    }
   ],
   "source": [
    "#for target value count\n",
    "label_dataset = dataset[187].value_counts()\n",
    "label_dataset\n"
   ]
  },
  {
   "cell_type": "code",
   "execution_count": 25,
   "metadata": {
    "colab": {
     "base_uri": "https://localhost:8080/",
     "height": 288
    },
    "id": "6t7qcMEqzoS5",
    "outputId": "8c350396-bc2e-4d5f-93cb-971344bb1fa5"
   },
   "outputs": [
    {
     "data": {
      "text/plain": [
       "<matplotlib.axes._subplots.AxesSubplot at 0x29f43720460>"
      ]
     },
     "execution_count": 25,
     "metadata": {},
     "output_type": "execute_result"
    },
    {
     "data": {
      "image/png": "[encoded data removed]",
      "text/plain": [
       "<Figure size 432x288 with 1 Axes>"
      ]
     },
     "metadata": {
      "needs_background": "light"
     },
     "output_type": "display_data"
    }
   ],
   "source": [
    "#visualization for target label\n",
    "label_dataset.plot.bar()"
   ]
  },
  {
   "cell_type": "code",
   "execution_count": 26,
   "metadata": {
    "id": "WHXJQ-Crz00x"
   },
   "outputs": [],
   "source": [
    "#splitting dataset to dependent and independent variable\n",
    "X = dataset.iloc[:,:-1].values #independent values / features\n",
    "y = dataset.iloc[:,-1].values #dependent values / target"
   ]
  },
  {
   "cell_type": "code",
   "execution_count": 27,
   "metadata": {
    "colab": {
     "base_uri": "https://localhost:8080/"
    },
    "id": "JcdJeeyg0Nfz",
    "outputId": "74e52fc5-099d-4ce0-8d2f-aa57a1910476"
   },
   "outputs": [
    {
     "name": "stdout",
     "output_type": "stream",
     "text": [
      "Counter({1.0: 10505, 0.0: 4045})\n"
     ]
    }
   ],
   "source": [
    "#checking imbalance of the labels\n",
    "from collections import Counter\n",
    "counter_before = Counter(y)\n",
    "print(counter_before)"
   ]
  },
  {
   "cell_type": "code",
   "execution_count": 28,
   "metadata": {
    "colab": {
     "base_uri": "https://localhost:8080/"
    },
    "id": "LOlByMz40cFB",
    "outputId": "b3d4b711-ec1d-4254-bb98-61688f855529"
   },
   "outputs": [],
   "source": [
    "#applying SMOTE for imbalance\n",
    "from imblearn.over_sampling import SMOTE\n",
    "oversample = SMOTE()\n",
    "X, y = oversample.fit_resample(X, y)"
   ]
  },
  {
   "cell_type": "code",
   "execution_count": 29,
   "metadata": {
    "colab": {
     "base_uri": "https://localhost:8080/"
    },
    "id": "p8JKYwDm0pBk",
    "outputId": "9f1a0a81-d612-4d74-cc3c-883f3553461c"
   },
   "outputs": [
    {
     "name": "stdout",
     "output_type": "stream",
     "text": [
      "Counter({1.0: 10505, 0.0: 10505})\n"
     ]
    }
   ],
   "source": [
    "#after applying SMOTE for imbalance condition\n",
    "counter_after = Counter(y)\n",
    "print(counter_after)"
   ]
  },
  {
   "cell_type": "code",
   "execution_count": 30,
   "metadata": {
    "id": "mHIxlFY600ES"
   },
   "outputs": [],
   "source": [
    "#splitting the datasets for training and testing process\n",
    "from sklearn.model_selection import train_test_split\n",
    "X_train, X_test, y_train, y_test = train_test_split(X, y, test_size =0.3, random_state=42)"
   ]
  },
  {
   "cell_type": "code",
   "execution_count": 31,
   "metadata": {
    "colab": {
     "base_uri": "https://localhost:8080/"
    },
    "id": "Svo2xvjq63lY",
    "outputId": "a4948b1b-8630-49e1-f8c0-8b3c1f6eba83"
   },
   "outputs": [
    {
     "name": "stdout",
     "output_type": "stream",
     "text": [
      "size of X_train: (14707, 187)\n",
      "size of X_test: (6303, 187)\n",
      "size of y_train: (14707,)\n",
      "size of y_test: (6303,)\n"
     ]
    }
   ],
   "source": [
    "#size for the sets\n",
    "print('size of X_train:', X_train.shape)\n",
    "print('size of X_test:', X_test.shape)\n",
    "print('size of y_train:', y_train.shape)\n",
    "print('size of y_test:', y_test.shape)"
   ]
  },
  {
   "cell_type": "code",
   "execution_count": 32,
   "metadata": {},
   "outputs": [
    {
     "name": "stderr",
     "output_type": "stream",
     "text": [
      "100%|██████████████████████████████████████████████████████████████████████████████████| 29/29 [03:45<00:00,  7.76s/it]\n"
     ]
    },
    {
     "data": {
      "text/html": [
       "<div>\n",
       "<style scoped>\n",
       "    .dataframe tbody tr th:only-of-type {\n",
       "        vertical-align: middle;\n",
       "    }\n",
       "\n",
       "    .dataframe tbody tr th {\n",
       "        vertical-align: top;\n",
       "    }\n",
       "\n",
       "    .dataframe thead th {\n",
       "        text-align: right;\n",
       "    }\n",
       "</style>\n",
       "<table border=\"1\" class=\"dataframe\">\n",
       "  <thead>\n",
       "    <tr style=\"text-align: right;\">\n",
       "      <th></th>\n",
       "      <th>Accuracy</th>\n",
       "      <th>Balanced Accuracy</th>\n",
       "      <th>ROC AUC</th>\n",
       "      <th>F1 Score</th>\n",
       "      <th>Time Taken</th>\n",
       "    </tr>\n",
       "    <tr>\n",
       "      <th>Model</th>\n",
       "      <th></th>\n",
       "      <th></th>\n",
       "      <th></th>\n",
       "      <th></th>\n",
       "      <th></th>\n",
       "    </tr>\n",
       "  </thead>\n",
       "  <tbody>\n",
       "    <tr>\n",
       "      <th>ExtraTreesClassifier</th>\n",
       "      <td>0.99</td>\n",
       "      <td>0.99</td>\n",
       "      <td>0.99</td>\n",
       "      <td>0.99</td>\n",
       "      <td>2.96</td>\n",
       "    </tr>\n",
       "    <tr>\n",
       "      <th>XGBClassifier</th>\n",
       "      <td>0.98</td>\n",
       "      <td>0.98</td>\n",
       "      <td>0.98</td>\n",
       "      <td>0.98</td>\n",
       "      <td>3.95</td>\n",
       "    </tr>\n",
       "    <tr>\n",
       "      <th>RandomForestClassifier</th>\n",
       "      <td>0.98</td>\n",
       "      <td>0.98</td>\n",
       "      <td>0.98</td>\n",
       "      <td>0.98</td>\n",
       "      <td>10.01</td>\n",
       "    </tr>\n",
       "    <tr>\n",
       "      <th>LGBMClassifier</th>\n",
       "      <td>0.98</td>\n",
       "      <td>0.98</td>\n",
       "      <td>0.98</td>\n",
       "      <td>0.98</td>\n",
       "      <td>1.11</td>\n",
       "    </tr>\n",
       "    <tr>\n",
       "      <th>BaggingClassifier</th>\n",
       "      <td>0.96</td>\n",
       "      <td>0.96</td>\n",
       "      <td>0.96</td>\n",
       "      <td>0.96</td>\n",
       "      <td>17.58</td>\n",
       "    </tr>\n",
       "    <tr>\n",
       "      <th>DecisionTreeClassifier</th>\n",
       "      <td>0.94</td>\n",
       "      <td>0.94</td>\n",
       "      <td>0.94</td>\n",
       "      <td>0.94</td>\n",
       "      <td>3.02</td>\n",
       "    </tr>\n",
       "    <tr>\n",
       "      <th>KNeighborsClassifier</th>\n",
       "      <td>0.93</td>\n",
       "      <td>0.93</td>\n",
       "      <td>0.93</td>\n",
       "      <td>0.93</td>\n",
       "      <td>18.58</td>\n",
       "    </tr>\n",
       "    <tr>\n",
       "      <th>SVC</th>\n",
       "      <td>0.93</td>\n",
       "      <td>0.93</td>\n",
       "      <td>0.93</td>\n",
       "      <td>0.93</td>\n",
       "      <td>22.24</td>\n",
       "    </tr>\n",
       "    <tr>\n",
       "      <th>ExtraTreeClassifier</th>\n",
       "      <td>0.92</td>\n",
       "      <td>0.92</td>\n",
       "      <td>0.92</td>\n",
       "      <td>0.92</td>\n",
       "      <td>0.16</td>\n",
       "    </tr>\n",
       "    <tr>\n",
       "      <th>LabelSpreading</th>\n",
       "      <td>0.91</td>\n",
       "      <td>0.91</td>\n",
       "      <td>0.91</td>\n",
       "      <td>0.91</td>\n",
       "      <td>22.13</td>\n",
       "    </tr>\n",
       "    <tr>\n",
       "      <th>LabelPropagation</th>\n",
       "      <td>0.91</td>\n",
       "      <td>0.91</td>\n",
       "      <td>0.91</td>\n",
       "      <td>0.91</td>\n",
       "      <td>18.57</td>\n",
       "    </tr>\n",
       "    <tr>\n",
       "      <th>AdaBoostClassifier</th>\n",
       "      <td>0.87</td>\n",
       "      <td>0.87</td>\n",
       "      <td>0.87</td>\n",
       "      <td>0.87</td>\n",
       "      <td>11.03</td>\n",
       "    </tr>\n",
       "    <tr>\n",
       "      <th>NuSVC</th>\n",
       "      <td>0.86</td>\n",
       "      <td>0.86</td>\n",
       "      <td>0.86</td>\n",
       "      <td>0.86</td>\n",
       "      <td>51.32</td>\n",
       "    </tr>\n",
       "    <tr>\n",
       "      <th>QuadraticDiscriminantAnalysis</th>\n",
       "      <td>0.82</td>\n",
       "      <td>0.82</td>\n",
       "      <td>0.82</td>\n",
       "      <td>0.82</td>\n",
       "      <td>0.41</td>\n",
       "    </tr>\n",
       "    <tr>\n",
       "      <th>CalibratedClassifierCV</th>\n",
       "      <td>0.81</td>\n",
       "      <td>0.81</td>\n",
       "      <td>0.81</td>\n",
       "      <td>0.81</td>\n",
       "      <td>30.31</td>\n",
       "    </tr>\n",
       "    <tr>\n",
       "      <th>LinearSVC</th>\n",
       "      <td>0.81</td>\n",
       "      <td>0.81</td>\n",
       "      <td>0.81</td>\n",
       "      <td>0.81</td>\n",
       "      <td>8.18</td>\n",
       "    </tr>\n",
       "    <tr>\n",
       "      <th>LogisticRegression</th>\n",
       "      <td>0.81</td>\n",
       "      <td>0.81</td>\n",
       "      <td>0.81</td>\n",
       "      <td>0.81</td>\n",
       "      <td>0.47</td>\n",
       "    </tr>\n",
       "    <tr>\n",
       "      <th>Perceptron</th>\n",
       "      <td>0.80</td>\n",
       "      <td>0.80</td>\n",
       "      <td>0.80</td>\n",
       "      <td>0.80</td>\n",
       "      <td>0.20</td>\n",
       "    </tr>\n",
       "    <tr>\n",
       "      <th>RidgeClassifierCV</th>\n",
       "      <td>0.79</td>\n",
       "      <td>0.79</td>\n",
       "      <td>0.79</td>\n",
       "      <td>0.79</td>\n",
       "      <td>0.56</td>\n",
       "    </tr>\n",
       "    <tr>\n",
       "      <th>LinearDiscriminantAnalysis</th>\n",
       "      <td>0.79</td>\n",
       "      <td>0.79</td>\n",
       "      <td>0.79</td>\n",
       "      <td>0.79</td>\n",
       "      <td>0.70</td>\n",
       "    </tr>\n",
       "    <tr>\n",
       "      <th>RidgeClassifier</th>\n",
       "      <td>0.79</td>\n",
       "      <td>0.79</td>\n",
       "      <td>0.79</td>\n",
       "      <td>0.79</td>\n",
       "      <td>0.18</td>\n",
       "    </tr>\n",
       "    <tr>\n",
       "      <th>SGDClassifier</th>\n",
       "      <td>0.77</td>\n",
       "      <td>0.77</td>\n",
       "      <td>0.77</td>\n",
       "      <td>0.77</td>\n",
       "      <td>0.49</td>\n",
       "    </tr>\n",
       "    <tr>\n",
       "      <th>PassiveAggressiveClassifier</th>\n",
       "      <td>0.68</td>\n",
       "      <td>0.68</td>\n",
       "      <td>0.68</td>\n",
       "      <td>0.68</td>\n",
       "      <td>0.22</td>\n",
       "    </tr>\n",
       "    <tr>\n",
       "      <th>GaussianNB</th>\n",
       "      <td>0.67</td>\n",
       "      <td>0.67</td>\n",
       "      <td>0.67</td>\n",
       "      <td>0.66</td>\n",
       "      <td>0.19</td>\n",
       "    </tr>\n",
       "    <tr>\n",
       "      <th>BernoulliNB</th>\n",
       "      <td>0.64</td>\n",
       "      <td>0.64</td>\n",
       "      <td>0.64</td>\n",
       "      <td>0.63</td>\n",
       "      <td>0.17</td>\n",
       "    </tr>\n",
       "    <tr>\n",
       "      <th>NearestCentroid</th>\n",
       "      <td>0.63</td>\n",
       "      <td>0.63</td>\n",
       "      <td>0.63</td>\n",
       "      <td>0.62</td>\n",
       "      <td>0.14</td>\n",
       "    </tr>\n",
       "    <tr>\n",
       "      <th>DummyClassifier</th>\n",
       "      <td>0.50</td>\n",
       "      <td>0.50</td>\n",
       "      <td>0.50</td>\n",
       "      <td>0.50</td>\n",
       "      <td>0.13</td>\n",
       "    </tr>\n",
       "  </tbody>\n",
       "</table>\n",
       "</div>"
      ],
      "text/plain": [
       "                               Accuracy  Balanced Accuracy  ROC AUC  F1 Score  \\\n",
       "Model                                                                           \n",
       "ExtraTreesClassifier               0.99               0.99     0.99      0.99   \n",
       "XGBClassifier                      0.98               0.98     0.98      0.98   \n",
       "RandomForestClassifier             0.98               0.98     0.98      0.98   \n",
       "LGBMClassifier                     0.98               0.98     0.98      0.98   \n",
       "BaggingClassifier                  0.96               0.96     0.96      0.96   \n",
       "DecisionTreeClassifier             0.94               0.94     0.94      0.94   \n",
       "KNeighborsClassifier               0.93               0.93     0.93      0.93   \n",
       "SVC                                0.93               0.93     0.93      0.93   \n",
       "ExtraTreeClassifier                0.92               0.92     0.92      0.92   \n",
       "LabelSpreading                     0.91               0.91     0.91      0.91   \n",
       "LabelPropagation                   0.91               0.91     0.91      0.91   \n",
       "AdaBoostClassifier                 0.87               0.87     0.87      0.87   \n",
       "NuSVC                              0.86               0.86     0.86      0.86   \n",
       "QuadraticDiscriminantAnalysis      0.82               0.82     0.82      0.82   \n",
       "CalibratedClassifierCV             0.81               0.81     0.81      0.81   \n",
       "LinearSVC                          0.81               0.81     0.81      0.81   \n",
       "LogisticRegression                 0.81               0.81     0.81      0.81   \n",
       "Perceptron                         0.80               0.80     0.80      0.80   \n",
       "RidgeClassifierCV                  0.79               0.79     0.79      0.79   \n",
       "LinearDiscriminantAnalysis         0.79               0.79     0.79      0.79   \n",
       "RidgeClassifier                    0.79               0.79     0.79      0.79   \n",
       "SGDClassifier                      0.77               0.77     0.77      0.77   \n",
       "PassiveAggressiveClassifier        0.68               0.68     0.68      0.68   \n",
       "GaussianNB                         0.67               0.67     0.67      0.66   \n",
       "BernoulliNB                        0.64               0.64     0.64      0.63   \n",
       "NearestCentroid                    0.63               0.63     0.63      0.62   \n",
       "DummyClassifier                    0.50               0.50     0.50      0.50   \n",
       "\n",
       "                               Time Taken  \n",
       "Model                                      \n",
       "ExtraTreesClassifier                 2.96  \n",
       "XGBClassifier                        3.95  \n",
       "RandomForestClassifier              10.01  \n",
       "LGBMClassifier                       1.11  \n",
       "BaggingClassifier                   17.58  \n",
       "DecisionTreeClassifier               3.02  \n",
       "KNeighborsClassifier                18.58  \n",
       "SVC                                 22.24  \n",
       "ExtraTreeClassifier                  0.16  \n",
       "LabelSpreading                      22.13  \n",
       "LabelPropagation                    18.57  \n",
       "AdaBoostClassifier                  11.03  \n",
       "NuSVC                               51.32  \n",
       "QuadraticDiscriminantAnalysis        0.41  \n",
       "CalibratedClassifierCV              30.31  \n",
       "LinearSVC                            8.18  \n",
       "LogisticRegression                   0.47  \n",
       "Perceptron                           0.20  \n",
       "RidgeClassifierCV                    0.56  \n",
       "LinearDiscriminantAnalysis           0.70  \n",
       "RidgeClassifier                      0.18  \n",
       "SGDClassifier                        0.49  \n",
       "PassiveAggressiveClassifier          0.22  \n",
       "GaussianNB                           0.19  \n",
       "BernoulliNB                          0.17  \n",
       "NearestCentroid                      0.14  \n",
       "DummyClassifier                      0.13  "
      ]
     },
     "execution_count": 32,
     "metadata": {},
     "output_type": "execute_result"
    }
   ],
   "source": [
    "import pyforest\n",
    "import warnings\n",
    "warnings.filterwarnings(\"ignore\")\n",
    "from sklearn import metrics\n",
    "from sklearn.metrics import accuracy_score\n",
    "import lazypredict\n",
    "from lazypredict.Supervised import LazyClassifier\n",
    "clf = LazyClassifier(verbose=0,ignore_warnings=True)\n",
    "models, predictions = clf.fit(X_train, X_test, y_train, y_test)\n",
    "models"
   ]
  },
  {
   "cell_type": "markdown",
   "metadata": {
    "id": "QpHK0YpM9qMR"
   },
   "source": [
    "**MACHINE LEARNING ALGORITHMS**"
   ]
  },
  {
   "cell_type": "markdown",
   "metadata": {
    "id": "NmhVauQj-Bjs"
   },
   "source": [
    "**LOGISTIC REGRESSION**"
   ]
  },
  {
   "cell_type": "code",
   "execution_count": 33,
   "metadata": {
    "colab": {
     "base_uri": "https://localhost:8080/",
     "height": 354
    },
    "id": "mGS0VGTi3eWq",
    "outputId": "c6df8b95-39fe-4ddc-89b1-ecb401afe286"
   },
   "outputs": [
    {
     "data": {
      "text/plain": [
       "LogisticRegression(random_state=1)"
      ]
     },
     "execution_count": 33,
     "metadata": {},
     "output_type": "execute_result"
    }
   ],
   "source": [
    "#Logistic Classifier\n",
    "from sklearn.linear_model import LogisticRegression\n",
    "classifier1 = LogisticRegression(random_state=1)\n",
    "classifier1.fit(X_train,y_train)"
   ]
  },
  {
   "cell_type": "code",
   "execution_count": 34,
   "metadata": {
    "id": "Wng-NuET5LwS"
   },
   "outputs": [],
   "source": [
    "y_pred1 = classifier1.predict(X_test)\n",
    "#print(np.concatenate((y_pred1.reshape(len(y_pred1),1), y_test.reshape(len(y_test),1)),1))"
   ]
  },
  {
   "cell_type": "code",
   "execution_count": 35,
   "metadata": {},
   "outputs": [],
   "source": [
    "from sklearn.metrics import confusion_matrix, accuracy_score, roc_auc_score\n",
    "from sklearn.model_selection import cross_val_score\n",
    "from sklearn.model_selection import GridSearchCV"
   ]
  },
  {
   "cell_type": "code",
   "execution_count": 36,
   "metadata": {
    "id": "n0gBQ1hR5R5B"
   },
   "outputs": [
    {
     "name": "stdout",
     "output_type": "stream",
     "text": [
      "[[2675  462]\n",
      " [ 767 2399]]\n"
     ]
    }
   ],
   "source": [
    "cm1 = confusion_matrix(y_test, y_pred1)\n",
    "print(cm1)"
   ]
  },
  {
   "cell_type": "code",
   "execution_count": 37,
   "metadata": {
    "id": "H9W6B7LF5Sos"
   },
   "outputs": [
    {
     "data": {
      "text/plain": [
       "0.8050134856417579"
      ]
     },
     "execution_count": 37,
     "metadata": {},
     "output_type": "execute_result"
    }
   ],
   "source": [
    "accuracy_score(y_test, y_pred1)"
   ]
  },
  {
   "cell_type": "code",
   "execution_count": 38,
   "metadata": {},
   "outputs": [
    {
     "data": {
      "text/plain": [
       "0.8052320026033701"
      ]
     },
     "execution_count": 38,
     "metadata": {},
     "output_type": "execute_result"
    }
   ],
   "source": [
    "roc_auc_score(y_test, y_pred1)"
   ]
  },
  {
   "cell_type": "code",
   "execution_count": 39,
   "metadata": {
    "id": "QMOL04Pv5T9Y"
   },
   "outputs": [
    {
     "name": "stdout",
     "output_type": "stream",
     "text": [
      "Accuracy of LR: 80.72 %\n",
      "SD of LR: 1.00 %\n"
     ]
    }
   ],
   "source": [
    "acc1 = cross_val_score(estimator = classifier1, X = X_train, y = y_train, cv = 10)\n",
    "print(\"Accuracy of LR: {:.2f} %\".format(acc1.mean()*100))\n",
    "print(\"SD of LR: {:.2f} %\".format(acc1.std()*100))"
   ]
  },
  {
   "cell_type": "code",
   "execution_count": 40,
   "metadata": {},
   "outputs": [
    {
     "name": "stdout",
     "output_type": "stream",
     "text": [
      "              precision    recall  f1-score   support\n",
      "\n",
      "         0.0       0.78      0.85      0.81      3137\n",
      "         1.0       0.84      0.76      0.80      3166\n",
      "\n",
      "    accuracy                           0.81      6303\n",
      "   macro avg       0.81      0.81      0.80      6303\n",
      "weighted avg       0.81      0.81      0.80      6303\n",
      "\n"
     ]
    }
   ],
   "source": [
    "import sklearn.metrics as metrics\n",
    "print(metrics.classification_report(y_test, y_pred1))"
   ]
  },
  {
   "cell_type": "code",
   "execution_count": 41,
   "metadata": {},
   "outputs": [
    {
     "data": {
      "image/png": "[encoded data removed]",
      "text/plain": [
       "<Figure size 432x432 with 1 Axes>"
      ]
     },
     "metadata": {
      "needs_background": "light"
     },
     "output_type": "display_data"
    }
   ],
   "source": [
    "from mlxtend.plotting import plot_confusion_matrix\n",
    " \n",
    "fig, ax = plot_confusion_matrix(conf_mat=cm1, figsize=(6, 6), cmap=plt.cm.Greens)\n",
    "plt.xlabel('Predictions', fontsize=18)\n",
    "plt.ylabel('Actuals', fontsize=18)\n",
    "plt.title('Confusion Matrix', fontsize=18)\n",
    "plt.show()"
   ]
  },
  {
   "cell_type": "code",
   "execution_count": 42,
   "metadata": {},
   "outputs": [
    {
     "name": "stdout",
     "output_type": "stream",
     "text": [
      "Best Accuracy of LR: 81.27 %\n",
      "Best Parameter of LR: {'C': 10, 'penalty': 'l2'}\n"
     ]
    }
   ],
   "source": [
    "from sklearn.model_selection import GridSearchCV\n",
    "parameters_lr = [{'penalty':['l1','l2'],'C': [0.001, 0.01, 0.1, 1, 10, 100, 1000]}]\n",
    "grid_search_lr = GridSearchCV(estimator = classifier1,\n",
    "                           param_grid = parameters_lr,\n",
    "                           scoring = 'accuracy',\n",
    "                           cv = 10,\n",
    "                           n_jobs = -1)\n",
    "grid_search_lr.fit(X_train, y_train)\n",
    "best_accuracy_lr = grid_search_lr.best_score_\n",
    "best_paramaeter_lr = grid_search_lr.best_params_  \n",
    "print(\"Best Accuracy of LR: {:.2f} %\".format(best_accuracy_lr.mean()*100))\n",
    "print(\"Best Parameter of LR:\", best_paramaeter_lr) "
   ]
  },
  {
   "cell_type": "markdown",
   "metadata": {
    "id": "MSEJaZXN-HZT"
   },
   "source": [
    "**K Nearest Neighbour**"
   ]
  },
  {
   "cell_type": "code",
   "execution_count": 43,
   "metadata": {
    "id": "PLk5tYej5ZvJ"
   },
   "outputs": [
    {
     "data": {
      "text/plain": [
       "KNeighborsClassifier()"
      ]
     },
     "execution_count": 43,
     "metadata": {},
     "output_type": "execute_result"
    }
   ],
   "source": [
    "#KNearest Neighbour\n",
    "from sklearn.neighbors import KNeighborsClassifier\n",
    "classifier2 = KNeighborsClassifier()\n",
    "classifier2.fit(X_train,y_train)"
   ]
  },
  {
   "cell_type": "code",
   "execution_count": 44,
   "metadata": {
    "id": "ESyNns5f5boA"
   },
   "outputs": [],
   "source": [
    "y_pred2 = classifier2.predict(X_test)\n",
    "#print(np.concatenate((y_pred2.reshape(len(y_pred2),1), y_test.reshape(len(y_test),1)),1))"
   ]
  },
  {
   "cell_type": "code",
   "execution_count": 45,
   "metadata": {
    "id": "mZe3uS5e5dnK"
   },
   "outputs": [
    {
     "name": "stdout",
     "output_type": "stream",
     "text": [
      "[[3101   36]\n",
      " [ 341 2825]]\n"
     ]
    }
   ],
   "source": [
    "cm2 = confusion_matrix(y_test, y_pred2)\n",
    "print(cm2)"
   ]
  },
  {
   "cell_type": "code",
   "execution_count": 46,
   "metadata": {
    "id": "JdNRKJDt5e7N"
   },
   "outputs": [
    {
     "data": {
      "text/plain": [
       "0.9401872124385213"
      ]
     },
     "execution_count": 46,
     "metadata": {},
     "output_type": "execute_result"
    }
   ],
   "source": [
    "accuracy_score(y_test, y_pred2)"
   ]
  },
  {
   "cell_type": "code",
   "execution_count": 47,
   "metadata": {},
   "outputs": [
    {
     "data": {
      "text/plain": [
       "0.9404085909601761"
      ]
     },
     "execution_count": 47,
     "metadata": {},
     "output_type": "execute_result"
    }
   ],
   "source": [
    "roc_auc_score(y_test, y_pred2)"
   ]
  },
  {
   "cell_type": "code",
   "execution_count": 48,
   "metadata": {
    "id": "R3hXNgVF5f_o"
   },
   "outputs": [
    {
     "name": "stdout",
     "output_type": "stream",
     "text": [
      "Accuracy of KNN: 93.49 %\n",
      "SD of KNN: 0.63 %\n"
     ]
    }
   ],
   "source": [
    "acc2 = cross_val_score(estimator = classifier2, X = X_train, y = y_train, cv = 10)\n",
    "print(\"Accuracy of KNN: {:.2f} %\".format(acc2.mean()*100))\n",
    "print(\"SD of KNN: {:.2f} %\".format(acc2.std()*100))"
   ]
  },
  {
   "cell_type": "code",
   "execution_count": 49,
   "metadata": {},
   "outputs": [
    {
     "name": "stdout",
     "output_type": "stream",
     "text": [
      "              precision    recall  f1-score   support\n",
      "\n",
      "         0.0       0.90      0.99      0.94      3137\n",
      "         1.0       0.99      0.89      0.94      3166\n",
      "\n",
      "    accuracy                           0.94      6303\n",
      "   macro avg       0.94      0.94      0.94      6303\n",
      "weighted avg       0.94      0.94      0.94      6303\n",
      "\n"
     ]
    }
   ],
   "source": [
    "print(metrics.classification_report(y_test, y_pred2))"
   ]
  },
  {
   "cell_type": "code",
   "execution_count": 50,
   "metadata": {},
   "outputs": [
    {
     "data": {
      "image/png": "[encoded data removed]",
      "text/plain": [
       "<Figure size 432x432 with 1 Axes>"
      ]
     },
     "metadata": {
      "needs_background": "light"
     },
     "output_type": "display_data"
    }
   ],
   "source": [
    "from mlxtend.plotting import plot_confusion_matrix\n",
    " \n",
    "fig, ax = plot_confusion_matrix(conf_mat=cm2, figsize=(6, 6), cmap=plt.cm.Greens)\n",
    "plt.xlabel('Predictions', fontsize=18)\n",
    "plt.ylabel('Actuals', fontsize=18)\n",
    "plt.title('Confusion Matrix', fontsize=18)\n",
    "plt.show()"
   ]
  },
  {
   "cell_type": "code",
   "execution_count": 51,
   "metadata": {},
   "outputs": [
    {
     "name": "stdout",
     "output_type": "stream",
     "text": [
      "Best Accuracy of KNN: 96.28 %\n",
      "Best Parameter of KNN: {'metric': 'manhattan', 'n_neighbors': 3, 'weights': 'distance'}\n"
     ]
    }
   ],
   "source": [
    "from sklearn.model_selection import GridSearchCV\n",
    "parameters_knn = [{'n_neighbors':[3,5,7,9,11,13,15,17,19,21],\n",
    "                   'weights': ['uniform','distance'],\n",
    "                    'metric':['euclidean','manhattan']}]\n",
    "grid_search_knn = GridSearchCV(estimator = classifier2,\n",
    "                           param_grid = parameters_knn,\n",
    "                           scoring = 'accuracy',\n",
    "                           cv = 10,\n",
    "                           n_jobs = -1)\n",
    "grid_search_knn.fit(X_train, y_train)\n",
    "best_accuracy_knn = grid_search_knn.best_score_\n",
    "best_paramaeter_knn = grid_search_knn.best_params_  \n",
    "print(\"Best Accuracy of KNN: {:.2f} %\".format(best_accuracy_knn.mean()*100))\n",
    "print(\"Best Parameter of KNN:\", best_paramaeter_knn) "
   ]
  },
  {
   "cell_type": "markdown",
   "metadata": {
    "id": "NBev0vsg-MgG"
   },
   "source": [
    "**Support Vector Machine**"
   ]
  },
  {
   "cell_type": "code",
   "execution_count": 52,
   "metadata": {
    "id": "B-0UosR05hJ3"
   },
   "outputs": [
    {
     "data": {
      "text/plain": [
       "SVC(kernel='linear', random_state=1)"
      ]
     },
     "execution_count": 52,
     "metadata": {},
     "output_type": "execute_result"
    }
   ],
   "source": [
    "#Support Vector Machine\n",
    "from sklearn.svm import SVC\n",
    "classifier3 = SVC(kernel = 'linear', random_state =1)\n",
    "classifier3.fit(X_train,y_train)"
   ]
  },
  {
   "cell_type": "code",
   "execution_count": 53,
   "metadata": {
    "id": "p7VQwmhz5iZN"
   },
   "outputs": [],
   "source": [
    "y_pred3 = classifier3.predict(X_test)\n",
    "#print(np.concatenate((y_pred3.reshape(len(y_pred3),1), y_test.reshape(len(y_test),1)),1))"
   ]
  },
  {
   "cell_type": "code",
   "execution_count": 54,
   "metadata": {
    "id": "RYb73mj85kLC"
   },
   "outputs": [
    {
     "name": "stdout",
     "output_type": "stream",
     "text": [
      "[[2759  378]\n",
      " [ 776 2390]]\n"
     ]
    }
   ],
   "source": [
    "cm3 = confusion_matrix(y_test, y_pred3)\n",
    "print(cm3)"
   ]
  },
  {
   "cell_type": "code",
   "execution_count": 55,
   "metadata": {
    "id": "-SdU4EnB5lUl"
   },
   "outputs": [
    {
     "data": {
      "text/plain": [
       "0.816912581310487"
      ]
     },
     "execution_count": 55,
     "metadata": {},
     "output_type": "execute_result"
    }
   ],
   "source": [
    "accuracy_score(y_test, y_pred3)"
   ]
  },
  {
   "cell_type": "code",
   "execution_count": 56,
   "metadata": {},
   "outputs": [
    {
     "data": {
      "text/plain": [
       "0.8171992385625806"
      ]
     },
     "execution_count": 56,
     "metadata": {},
     "output_type": "execute_result"
    }
   ],
   "source": [
    "roc_auc_score(y_test, y_pred3)"
   ]
  },
  {
   "cell_type": "code",
   "execution_count": 57,
   "metadata": {
    "id": "0f5aYHoM5ma9"
   },
   "outputs": [
    {
     "name": "stdout",
     "output_type": "stream",
     "text": [
      "Accuracy of SVM: 82.22 %\n",
      "SD of SVM: 0.79 %\n"
     ]
    }
   ],
   "source": [
    "acc3 = cross_val_score(estimator = classifier3, X = X_train, y = y_train, cv = 10)\n",
    "print(\"Accuracy of SVM: {:.2f} %\".format(acc3.mean()*100))\n",
    "print(\"SD of SVM: {:.2f} %\".format(acc3.std()*100))"
   ]
  },
  {
   "cell_type": "code",
   "execution_count": 58,
   "metadata": {},
   "outputs": [
    {
     "name": "stdout",
     "output_type": "stream",
     "text": [
      "              precision    recall  f1-score   support\n",
      "\n",
      "         0.0       0.78      0.88      0.83      3137\n",
      "         1.0       0.86      0.75      0.81      3166\n",
      "\n",
      "    accuracy                           0.82      6303\n",
      "   macro avg       0.82      0.82      0.82      6303\n",
      "weighted avg       0.82      0.82      0.82      6303\n",
      "\n"
     ]
    }
   ],
   "source": [
    "print(metrics.classification_report(y_test, y_pred3))"
   ]
  },
  {
   "cell_type": "code",
   "execution_count": 59,
   "metadata": {},
   "outputs": [
    {
     "data": {
      "image/png": "[encoded data removed]",
      "text/plain": [
       "<Figure size 432x432 with 1 Axes>"
      ]
     },
     "metadata": {
      "needs_background": "light"
     },
     "output_type": "display_data"
    }
   ],
   "source": [
    "from mlxtend.plotting import plot_confusion_matrix\n",
    " \n",
    "fig, ax = plot_confusion_matrix(conf_mat=cm3, figsize=(6, 6), cmap=plt.cm.Greens)\n",
    "plt.xlabel('Predictions', fontsize=18)\n",
    "plt.ylabel('Actuals', fontsize=18)\n",
    "plt.title('Confusion Matrix', fontsize=18)\n",
    "plt.show()"
   ]
  },
  {
   "cell_type": "code",
   "execution_count": 60,
   "metadata": {
    "id": "MPEJDXFW5ngz"
   },
   "outputs": [
    {
     "data": {
      "text/plain": [
       "SVC(random_state=1)"
      ]
     },
     "execution_count": 60,
     "metadata": {},
     "output_type": "execute_result"
    }
   ],
   "source": [
    "classifier4 = SVC(kernel = 'rbf', random_state =1)\n",
    "classifier4.fit(X_train,y_train)"
   ]
  },
  {
   "cell_type": "code",
   "execution_count": 61,
   "metadata": {
    "id": "JP_QRyVI5opx"
   },
   "outputs": [],
   "source": [
    "y_pred4 = classifier4.predict(X_test)\n",
    "#print(np.concatenate((y_pred4.reshape(len(y_pred4),1), y_test.reshape(len(y_test),1)),1))"
   ]
  },
  {
   "cell_type": "code",
   "execution_count": 62,
   "metadata": {
    "id": "rnOOtoeB5qo9"
   },
   "outputs": [
    {
     "name": "stdout",
     "output_type": "stream",
     "text": [
      "[[3007  130]\n",
      " [ 385 2781]]\n"
     ]
    }
   ],
   "source": [
    "cm4 = confusion_matrix(y_test, y_pred4)\n",
    "print(cm4)"
   ]
  },
  {
   "cell_type": "code",
   "execution_count": 63,
   "metadata": {
    "id": "julPDhpx5rre"
   },
   "outputs": [
    {
     "data": {
      "text/plain": [
       "0.9182928764080597"
      ]
     },
     "execution_count": 63,
     "metadata": {},
     "output_type": "execute_result"
    }
   ],
   "source": [
    "accuracy_score(y_test, y_pred4)"
   ]
  },
  {
   "cell_type": "code",
   "execution_count": 64,
   "metadata": {},
   "outputs": [
    {
     "data": {
      "text/plain": [
       "0.9184772923017935"
      ]
     },
     "execution_count": 64,
     "metadata": {},
     "output_type": "execute_result"
    }
   ],
   "source": [
    "roc_auc_score(y_test, y_pred4)"
   ]
  },
  {
   "cell_type": "code",
   "execution_count": 65,
   "metadata": {
    "id": "wRc34Oib5s1K"
   },
   "outputs": [
    {
     "name": "stdout",
     "output_type": "stream",
     "text": [
      "Accuracy of SVM: 91.40 %\n",
      "SD of SVM: 0.78 %\n"
     ]
    }
   ],
   "source": [
    "acc4 = cross_val_score(estimator = classifier4, X = X_train, y = y_train, cv = 10)\n",
    "print(\"Accuracy of SVM: {:.2f} %\".format(acc4.mean()*100))\n",
    "print(\"SD of SVM: {:.2f} %\".format(acc4.std()*100))"
   ]
  },
  {
   "cell_type": "code",
   "execution_count": 66,
   "metadata": {},
   "outputs": [
    {
     "name": "stdout",
     "output_type": "stream",
     "text": [
      "              precision    recall  f1-score   support\n",
      "\n",
      "         0.0       0.89      0.96      0.92      3137\n",
      "         1.0       0.96      0.88      0.92      3166\n",
      "\n",
      "    accuracy                           0.92      6303\n",
      "   macro avg       0.92      0.92      0.92      6303\n",
      "weighted avg       0.92      0.92      0.92      6303\n",
      "\n"
     ]
    }
   ],
   "source": [
    "print(metrics.classification_report(y_test, y_pred4))"
   ]
  },
  {
   "cell_type": "code",
   "execution_count": 67,
   "metadata": {},
   "outputs": [
    {
     "data": {
      "image/png": "[encoded data removed]",
      "text/plain": [
       "<Figure size 432x432 with 1 Axes>"
      ]
     },
     "metadata": {
      "needs_background": "light"
     },
     "output_type": "display_data"
    }
   ],
   "source": [
    "from mlxtend.plotting import plot_confusion_matrix\n",
    " \n",
    "fig, ax = plot_confusion_matrix(conf_mat=cm4, figsize=(6, 6), cmap=plt.cm.Greens)\n",
    "plt.xlabel('Predictions', fontsize=18)\n",
    "plt.ylabel('Actuals', fontsize=18)\n",
    "plt.title('Confusion Matrix', fontsize=18)\n",
    "plt.show()"
   ]
  },
  {
   "cell_type": "code",
   "execution_count": 68,
   "metadata": {
    "id": "BbYwRjE65uDQ"
   },
   "outputs": [
    {
     "name": "stdout",
     "output_type": "stream",
     "text": [
      "Best Accuracy of SVM: 97.35 %\n",
      "Best Parameter of SVM: {'C': 1, 'gamma': 0.9, 'kernel': 'rbf'}\n"
     ]
    }
   ],
   "source": [
    "parameters = [{'C': [0.25, 0.5, 0.75, 1], 'kernel':['linear']},\n",
    "              {'C': [0.25, 0.5, 0.75, 1], 'kernel':['rbf'], 'gamma':[0.1, 0.2, 0.3, 0.4, 0.5, 0.6, 0.7, 0.8, 0.9]}]\n",
    "grid_search = GridSearchCV(estimator = classifier4,\n",
    "                           param_grid = parameters,\n",
    "                           scoring = 'accuracy',\n",
    "                           cv = 10,\n",
    "                           n_jobs = -1)\n",
    "grid_search.fit(X_train, y_train)\n",
    "best_accuracy = grid_search.best_score_\n",
    "best_paramaeter = grid_search.best_params_  \n",
    "print(\"Best Accuracy of SVM: {:.2f} %\".format(best_accuracy.mean()*100))\n",
    "print(\"Best Parameter of SVM:\", best_paramaeter)            "
   ]
  },
  {
   "cell_type": "markdown",
   "metadata": {
    "id": "sSh4uMaV-Tj2"
   },
   "source": [
    "**Naive Bayes**"
   ]
  },
  {
   "cell_type": "code",
   "execution_count": 69,
   "metadata": {
    "id": "JMFtXLGK5wiX"
   },
   "outputs": [
    {
     "data": {
      "text/plain": [
       "GaussianNB()"
      ]
     },
     "execution_count": 69,
     "metadata": {},
     "output_type": "execute_result"
    }
   ],
   "source": [
    "#Naive Bayes\n",
    "from sklearn.naive_bayes import GaussianNB\n",
    "classifier5 = GaussianNB()\n",
    "classifier5.fit(X_train,y_train)"
   ]
  },
  {
   "cell_type": "code",
   "execution_count": 70,
   "metadata": {
    "id": "_kKfLz0n5xwa"
   },
   "outputs": [],
   "source": [
    "y_pred5 = classifier5.predict(X_test)\n",
    "#print(np.concatenate((y_pred5.reshape(len(y_pred5),1), y_test.reshape(len(y_test),1)),1))"
   ]
  },
  {
   "cell_type": "code",
   "execution_count": 71,
   "metadata": {
    "id": "vpagdomu5zyV"
   },
   "outputs": [
    {
     "name": "stdout",
     "output_type": "stream",
     "text": [
      "[[2665  472]\n",
      " [1628 1538]]\n"
     ]
    }
   ],
   "source": [
    "cm5 = confusion_matrix(y_test, y_pred5)\n",
    "print(cm5)"
   ]
  },
  {
   "cell_type": "code",
   "execution_count": 72,
   "metadata": {
    "id": "VLMbBLSG508n"
   },
   "outputs": [
    {
     "data": {
      "text/plain": [
       "0.666825321275583"
      ]
     },
     "execution_count": 72,
     "metadata": {},
     "output_type": "execute_result"
    }
   ],
   "source": [
    "accuracy_score(y_test, y_pred5)"
   ]
  },
  {
   "cell_type": "code",
   "execution_count": 73,
   "metadata": {},
   "outputs": [
    {
     "data": {
      "text/plain": [
       "0.6676621281543561"
      ]
     },
     "execution_count": 73,
     "metadata": {},
     "output_type": "execute_result"
    }
   ],
   "source": [
    "roc_auc_score(y_test, y_pred5)"
   ]
  },
  {
   "cell_type": "code",
   "execution_count": 74,
   "metadata": {
    "id": "dRd18m5p52Ab"
   },
   "outputs": [
    {
     "name": "stdout",
     "output_type": "stream",
     "text": [
      "Accuracy of NB: 68.07 %\n",
      "SD of NB: 1.20 %\n"
     ]
    }
   ],
   "source": [
    "acc5 = cross_val_score(estimator = classifier5, X = X_train, y = y_train, cv = 10)\n",
    "print(\"Accuracy of NB: {:.2f} %\".format(acc5.mean()*100))\n",
    "print(\"SD of NB: {:.2f} %\".format(acc5.std()*100))"
   ]
  },
  {
   "cell_type": "code",
   "execution_count": 75,
   "metadata": {},
   "outputs": [
    {
     "name": "stdout",
     "output_type": "stream",
     "text": [
      "              precision    recall  f1-score   support\n",
      "\n",
      "         0.0       0.62      0.85      0.72      3137\n",
      "         1.0       0.77      0.49      0.59      3166\n",
      "\n",
      "    accuracy                           0.67      6303\n",
      "   macro avg       0.69      0.67      0.66      6303\n",
      "weighted avg       0.69      0.67      0.66      6303\n",
      "\n"
     ]
    }
   ],
   "source": [
    "print(metrics.classification_report(y_test, y_pred5))"
   ]
  },
  {
   "cell_type": "code",
   "execution_count": 76,
   "metadata": {},
   "outputs": [
    {
     "data": {
      "image/png": "[encoded data removed]",
      "text/plain": [
       "<Figure size 432x432 with 1 Axes>"
      ]
     },
     "metadata": {
      "needs_background": "light"
     },
     "output_type": "display_data"
    }
   ],
   "source": [
    "from mlxtend.plotting import plot_confusion_matrix\n",
    " \n",
    "fig, ax = plot_confusion_matrix(conf_mat=cm5, figsize=(6, 6), cmap=plt.cm.Greens)\n",
    "plt.xlabel('Predictions', fontsize=18)\n",
    "plt.ylabel('Actuals', fontsize=18)\n",
    "plt.title('Confusion Matrix', fontsize=18)\n",
    "plt.show()"
   ]
  },
  {
   "cell_type": "markdown",
   "metadata": {
    "id": "OBQXgVry-Xap"
   },
   "source": [
    "**Decision Tree**"
   ]
  },
  {
   "cell_type": "code",
   "execution_count": 77,
   "metadata": {
    "id": "35I3Duu753CS"
   },
   "outputs": [
    {
     "data": {
      "text/plain": [
       "DecisionTreeClassifier(criterion='entropy', random_state=1)"
      ]
     },
     "execution_count": 77,
     "metadata": {},
     "output_type": "execute_result"
    }
   ],
   "source": [
    "#Decision Tree\n",
    "from sklearn.tree import DecisionTreeClassifier\n",
    "classifier6 = DecisionTreeClassifier(criterion = 'entropy', random_state=1)\n",
    "classifier6.fit(X_train, y_train)"
   ]
  },
  {
   "cell_type": "code",
   "execution_count": 78,
   "metadata": {
    "id": "LV4hRhdn54Oj"
   },
   "outputs": [],
   "source": [
    "y_pred6 = classifier6.predict(X_test)\n",
    "#print(np.concatenate((y_pred6.reshape(len(y_pred6),1), y_test.reshape(len(y_test),1)),1))"
   ]
  },
  {
   "cell_type": "code",
   "execution_count": 79,
   "metadata": {
    "id": "joFNwuI655ST"
   },
   "outputs": [
    {
     "name": "stdout",
     "output_type": "stream",
     "text": [
      "[[2978  159]\n",
      " [ 208 2958]]\n"
     ]
    }
   ],
   "source": [
    "cm6 = confusion_matrix(y_test, y_pred6)\n",
    "print(cm6)"
   ]
  },
  {
   "cell_type": "code",
   "execution_count": 80,
   "metadata": {},
   "outputs": [
    {
     "data": {
      "image/png": "[encoded data removed]",
      "text/plain": [
       "<Figure size 432x432 with 1 Axes>"
      ]
     },
     "metadata": {
      "needs_background": "light"
     },
     "output_type": "display_data"
    }
   ],
   "source": [
    "from mlxtend.plotting import plot_confusion_matrix\n",
    " \n",
    "fig, ax = plot_confusion_matrix(conf_mat=cm6, figsize=(6, 6), cmap=plt.cm.Greens)\n",
    "plt.xlabel('Predictions', fontsize=18)\n",
    "plt.ylabel('Actuals', fontsize=18)\n",
    "plt.title('Confusion Matrix', fontsize=18)\n",
    "plt.show()"
   ]
  },
  {
   "cell_type": "code",
   "execution_count": 81,
   "metadata": {
    "id": "tQhSRJcr58pW"
   },
   "outputs": [
    {
     "data": {
      "text/plain": [
       "0.9417737585276852"
      ]
     },
     "execution_count": 81,
     "metadata": {},
     "output_type": "execute_result"
    }
   ],
   "source": [
    "accuracy_score(y_test, y_pred6)"
   ]
  },
  {
   "cell_type": "code",
   "execution_count": 82,
   "metadata": {},
   "outputs": [
    {
     "data": {
      "text/plain": [
       "0.9418082950604234"
      ]
     },
     "execution_count": 82,
     "metadata": {},
     "output_type": "execute_result"
    }
   ],
   "source": [
    "roc_auc_score(y_test, y_pred6)"
   ]
  },
  {
   "cell_type": "code",
   "execution_count": 83,
   "metadata": {
    "id": "UTXv58tL59lv"
   },
   "outputs": [
    {
     "name": "stdout",
     "output_type": "stream",
     "text": [
      "Accuracy of DT: 93.87 %\n",
      "SD of DT: 0.31 %\n"
     ]
    }
   ],
   "source": [
    "acc6 = cross_val_score(estimator = classifier6, X = X_train, y = y_train, cv = 10)\n",
    "print(\"Accuracy of DT: {:.2f} %\".format(acc6.mean()*100))\n",
    "print(\"SD of DT: {:.2f} %\".format(acc6.std()*100))"
   ]
  },
  {
   "cell_type": "code",
   "execution_count": 84,
   "metadata": {},
   "outputs": [
    {
     "name": "stdout",
     "output_type": "stream",
     "text": [
      "              precision    recall  f1-score   support\n",
      "\n",
      "         0.0       0.93      0.95      0.94      3137\n",
      "         1.0       0.95      0.93      0.94      3166\n",
      "\n",
      "    accuracy                           0.94      6303\n",
      "   macro avg       0.94      0.94      0.94      6303\n",
      "weighted avg       0.94      0.94      0.94      6303\n",
      "\n"
     ]
    }
   ],
   "source": [
    "print(metrics.classification_report(y_test, y_pred6))"
   ]
  },
  {
   "cell_type": "code",
   "execution_count": 85,
   "metadata": {
    "id": "6WCAS1GK5-i8"
   },
   "outputs": [
    {
     "name": "stdout",
     "output_type": "stream",
     "text": [
      "Best Accuracy of dt: 93.51 %\n",
      "Best Parameter of dt: {'criterion': 'entropy', 'max_depth': 18}\n"
     ]
    }
   ],
   "source": [
    "param_grid_dt = {\n",
    "    'max_depth' : [2,4,6,8,10,12,14,16,18,20],\n",
    "    'criterion' :['gini', 'entropy']\n",
    "}\n",
    "grid_search_dt = GridSearchCV(estimator= classifier6,\n",
    "                              param_grid=param_grid_dt,\n",
    "                              scoring='accuracy', \n",
    "                              n_jobs=-1)\n",
    "grid_search_dt.fit(X_train, y_train)\n",
    "best_accuracy_dt = grid_search_dt.best_score_\n",
    "best_paramaeter_dt = grid_search_dt.best_params_ \n",
    "print(\"Best Accuracy of dt: {:.2f} %\".format(best_accuracy_dt.mean()*100))\n",
    "print(\"Best Parameter of dt:\", best_paramaeter_dt)"
   ]
  },
  {
   "cell_type": "markdown",
   "metadata": {
    "id": "JVNyjTNi-cF_"
   },
   "source": [
    "**Random Forest**"
   ]
  },
  {
   "cell_type": "code",
   "execution_count": 86,
   "metadata": {
    "id": "RqoGO02Q5_r1"
   },
   "outputs": [
    {
     "data": {
      "text/plain": [
       "RandomForestClassifier(criterion='entropy', random_state=1)"
      ]
     },
     "execution_count": 86,
     "metadata": {},
     "output_type": "execute_result"
    }
   ],
   "source": [
    "#RandomForest\n",
    "from sklearn.ensemble import RandomForestClassifier\n",
    "classifier7 = RandomForestClassifier(criterion = 'entropy', random_state=1)\n",
    "classifier7.fit(X_train, y_train)"
   ]
  },
  {
   "cell_type": "code",
   "execution_count": 87,
   "metadata": {
    "id": "X7MCkpWE6BDS"
   },
   "outputs": [],
   "source": [
    "y_pred7 = classifier7.predict(X_test)\n",
    "#print(np.concatenate((y_pred7.reshape(len(y_pred7),1), y_test.reshape(len(y_test),1)),1))"
   ]
  },
  {
   "cell_type": "code",
   "execution_count": 88,
   "metadata": {
    "id": "ZmUdJ5ma6CoJ"
   },
   "outputs": [
    {
     "name": "stdout",
     "output_type": "stream",
     "text": [
      "[[3095   42]\n",
      " [  87 3079]]\n"
     ]
    }
   ],
   "source": [
    "cm7 = confusion_matrix(y_test, y_pred7)\n",
    "print(cm7)"
   ]
  },
  {
   "cell_type": "code",
   "execution_count": 89,
   "metadata": {},
   "outputs": [
    {
     "data": {
      "image/png": "[encoded data removed]",
      "text/plain": [
       "<Figure size 432x432 with 1 Axes>"
      ]
     },
     "metadata": {
      "needs_background": "light"
     },
     "output_type": "display_data"
    }
   ],
   "source": [
    "from mlxtend.plotting import plot_confusion_matrix\n",
    " \n",
    "fig, ax = plot_confusion_matrix(conf_mat=cm7, figsize=(6, 6), cmap=plt.cm.Greens)\n",
    "plt.xlabel('Predictions', fontsize=18)\n",
    "plt.ylabel('Actuals', fontsize=18)\n",
    "plt.title('Confusion Matrix', fontsize=18)\n",
    "plt.show()"
   ]
  },
  {
   "cell_type": "code",
   "execution_count": 90,
   "metadata": {
    "id": "li0jRcmt6DsE"
   },
   "outputs": [
    {
     "data": {
      "text/plain": [
       "0.9795335554497858"
      ]
     },
     "execution_count": 90,
     "metadata": {},
     "output_type": "execute_result"
    }
   ],
   "source": [
    "accuracy_score(y_test, y_pred7)"
   ]
  },
  {
   "cell_type": "code",
   "execution_count": 91,
   "metadata": {},
   "outputs": [
    {
     "data": {
      "text/plain": [
       "0.9795659714076341"
      ]
     },
     "execution_count": 91,
     "metadata": {},
     "output_type": "execute_result"
    }
   ],
   "source": [
    "roc_auc_score(y_test, y_pred7)"
   ]
  },
  {
   "cell_type": "code",
   "execution_count": 92,
   "metadata": {
    "id": "n8HruSZo6E4O"
   },
   "outputs": [
    {
     "name": "stdout",
     "output_type": "stream",
     "text": [
      "Accuracy of RF: 97.95 %\n",
      "SD of RF: 0.28 %\n"
     ]
    }
   ],
   "source": [
    "acc7 = cross_val_score(estimator = classifier7, X = X_train, y = y_train, cv = 10)\n",
    "print(\"Accuracy of RF: {:.2f} %\".format(acc7.mean()*100))\n",
    "print(\"SD of RF: {:.2f} %\".format(acc7.std()*100))"
   ]
  },
  {
   "cell_type": "code",
   "execution_count": 93,
   "metadata": {},
   "outputs": [
    {
     "name": "stdout",
     "output_type": "stream",
     "text": [
      "              precision    recall  f1-score   support\n",
      "\n",
      "         0.0       0.97      0.99      0.98      3137\n",
      "         1.0       0.99      0.97      0.98      3166\n",
      "\n",
      "    accuracy                           0.98      6303\n",
      "   macro avg       0.98      0.98      0.98      6303\n",
      "weighted avg       0.98      0.98      0.98      6303\n",
      "\n"
     ]
    }
   ],
   "source": [
    "print(metrics.classification_report(y_test, y_pred7))"
   ]
  },
  {
   "cell_type": "code",
   "execution_count": 94,
   "metadata": {
    "id": "xdIR7dEH6GXC"
   },
   "outputs": [
    {
     "name": "stdout",
     "output_type": "stream",
     "text": [
      "Best Accuracy of rf: 97.95 %\n",
      "Best Parameter of rf: {'criterion': 'entropy', 'max_depth': 30, 'max_features': 'auto', 'n_estimators': 700}\n"
     ]
    }
   ],
   "source": [
    "param_grid_rf = { \n",
    "    'n_estimators': [200, 500,700,900,1100],\n",
    "    'max_features': ['auto', 'sqrt', 'log2'],\n",
    "    'max_depth' : [4,5,6,7,8,9,10,20,30,40,50],\n",
    "    'criterion' :['gini', 'entropy']\n",
    "}\n",
    "grid_search_rf = GridSearchCV(estimator= classifier7,\n",
    "                               param_grid=param_grid_rf,\n",
    "                               scoring='accuracy', \n",
    "                               n_jobs=-1)\n",
    "grid_search_rf.fit(X_train, y_train)\n",
    "best_accuracy_rf = grid_search_rf.best_score_\n",
    "best_paramaeter_rf = grid_search_rf.best_params_ \n",
    "print(\"Best Accuracy of rf: {:.2f} %\".format(best_accuracy_rf.mean()*100))\n",
    "print(\"Best Parameter of rf:\", best_paramaeter_rf)"
   ]
  },
  {
   "cell_type": "markdown",
   "metadata": {
    "id": "QXIdPdWA-iL5"
   },
   "source": [
    "**XGBOOST**"
   ]
  },
  {
   "cell_type": "code",
   "execution_count": 95,
   "metadata": {
    "id": "PnAKiSXl6Hh_"
   },
   "outputs": [
    {
     "data": {
      "text/plain": [
       "XGBClassifier(base_score=0.5, booster='gbtree', colsample_bylevel=1,\n",
       "              colsample_bynode=1, colsample_bytree=1, gamma=0, gpu_id=-1,\n",
       "              importance_type='gain', interaction_constraints='',\n",
       "              learning_rate=0.300000012, max_delta_step=0, max_depth=6,\n",
       "              min_child_weight=1, missing=nan, monotone_constraints='()',\n",
       "              n_estimators=100, n_jobs=0, num_parallel_tree=1, random_state=0,\n",
       "              reg_alpha=0, reg_lambda=1, scale_pos_weight=1, subsample=1,\n",
       "              tree_method='exact', validate_parameters=1, verbosity=None)"
      ]
     },
     "execution_count": 95,
     "metadata": {},
     "output_type": "execute_result"
    }
   ],
   "source": [
    "#XGBOOST\n",
    "from xgboost import XGBClassifier\n",
    "classifier8 = XGBClassifier()\n",
    "classifier8.fit(X_train,y_train)"
   ]
  },
  {
   "cell_type": "code",
   "execution_count": 96,
   "metadata": {
    "id": "X9fnzgP56Il0"
   },
   "outputs": [],
   "source": [
    "y_pred8 = classifier8.predict(X_test)\n",
    "#print(np.concatenate((y_pred8.reshape(len(y_pred8),1), y_test.reshape(len(y_test),1)),1))"
   ]
  },
  {
   "cell_type": "code",
   "execution_count": 97,
   "metadata": {
    "id": "0RivAs4Y6KJc"
   },
   "outputs": [
    {
     "name": "stdout",
     "output_type": "stream",
     "text": [
      "[[3095   42]\n",
      " [  71 3095]]\n"
     ]
    }
   ],
   "source": [
    "cm8 = confusion_matrix(y_test, y_pred8)\n",
    "print(cm8)"
   ]
  },
  {
   "cell_type": "code",
   "execution_count": 98,
   "metadata": {},
   "outputs": [
    {
     "data": {
      "image/png": "[encoded data removed]",
      "text/plain": [
       "<Figure size 432x432 with 1 Axes>"
      ]
     },
     "metadata": {
      "needs_background": "light"
     },
     "output_type": "display_data"
    }
   ],
   "source": [
    "from mlxtend.plotting import plot_confusion_matrix\n",
    " \n",
    "fig, ax = plot_confusion_matrix(conf_mat=cm8, figsize=(6, 6), cmap=plt.cm.Greens)\n",
    "plt.xlabel('Predictions', fontsize=18)\n",
    "plt.ylabel('Actuals', fontsize=18)\n",
    "plt.title('Confusion Matrix', fontsize=18)\n",
    "plt.show()"
   ]
  },
  {
   "cell_type": "code",
   "execution_count": 99,
   "metadata": {
    "id": "DtYrAmZ96LMS"
   },
   "outputs": [
    {
     "data": {
      "text/plain": [
       "0.9820720291924481"
      ]
     },
     "execution_count": 99,
     "metadata": {},
     "output_type": "execute_result"
    }
   ],
   "source": [
    "accuracy_score(y_test, y_pred8)"
   ]
  },
  {
   "cell_type": "code",
   "execution_count": 100,
   "metadata": {},
   "outputs": [
    {
     "data": {
      "text/plain": [
       "0.9820928191650569"
      ]
     },
     "execution_count": 100,
     "metadata": {},
     "output_type": "execute_result"
    }
   ],
   "source": [
    "roc_auc_score(y_test, y_pred8)"
   ]
  },
  {
   "cell_type": "code",
   "execution_count": 101,
   "metadata": {
    "id": "NLrolHkL6MPO"
   },
   "outputs": [
    {
     "name": "stdout",
     "output_type": "stream",
     "text": [
      "Accuracy of xgboost: 98.19 %\n",
      "SD of xgboost: 0.30 %\n"
     ]
    }
   ],
   "source": [
    "acc8 = cross_val_score(estimator = classifier8, X = X_train, y = y_train, cv = 10)\n",
    "print(\"Accuracy of xgboost: {:.2f} %\".format(acc8.mean()*100))\n",
    "print(\"SD of xgboost: {:.2f} %\".format(acc8.std()*100))"
   ]
  },
  {
   "cell_type": "code",
   "execution_count": 102,
   "metadata": {},
   "outputs": [
    {
     "name": "stdout",
     "output_type": "stream",
     "text": [
      "              precision    recall  f1-score   support\n",
      "\n",
      "         0.0       0.98      0.99      0.98      3137\n",
      "         1.0       0.99      0.98      0.98      3166\n",
      "\n",
      "    accuracy                           0.98      6303\n",
      "   macro avg       0.98      0.98      0.98      6303\n",
      "weighted avg       0.98      0.98      0.98      6303\n",
      "\n"
     ]
    }
   ],
   "source": [
    "print(metrics.classification_report(y_test, y_pred8))"
   ]
  },
  {
   "cell_type": "code",
   "execution_count": 103,
   "metadata": {
    "id": "o-4WkCxu6Ncs"
   },
   "outputs": [
    {
     "name": "stdout",
     "output_type": "stream",
     "text": [
      "Best Accuracy of XGB: 98.15 %\n",
      "Best Parameter of XGB: {'colsample_bytree': 0.6, 'gamma': 0.5, 'max_depth': 7, 'min_child_weight': 1, 'subsample': 0.8}\n"
     ]
    }
   ],
   "source": [
    "# A parameter grid for XGBoost\n",
    "parameter_xgboost = {\n",
    "        'min_child_weight': [1, 5, 10],\n",
    "        'gamma': [0.5, 1, 1.5, 2, 5],\n",
    "        'subsample': [0.6, 0.8, 1.0],\n",
    "        'colsample_bytree': [0.6, 0.8, 1.0],\n",
    "        'max_depth': [3, 4, 5, 7, 9]\n",
    "        }\n",
    "grid_search_xgb = GridSearchCV(estimator= classifier8,\n",
    "                               param_grid=parameter_xgboost,\n",
    "                               scoring='accuracy', \n",
    "                               n_jobs=-1)\n",
    "grid_search_xgb.fit(X_train, y_train)\n",
    "best_accuracy_xgb = grid_search_xgb.best_score_\n",
    "best_paramaeter_xgb = grid_search_xgb.best_params_ \n",
    "print(\"Best Accuracy of XGB: {:.2f} %\".format(best_accuracy_xgb.mean()*100))\n",
    "print(\"Best Parameter of XGB:\", best_paramaeter_xgb)"
   ]
  },
  {
   "cell_type": "markdown",
   "metadata": {
    "id": "IxwwXlS8-oEa"
   },
   "source": [
    "**AdaBoost**"
   ]
  },
  {
   "cell_type": "code",
   "execution_count": 104,
   "metadata": {
    "id": "ws3hn4tq6Ol7"
   },
   "outputs": [
    {
     "data": {
      "text/plain": [
       "AdaBoostClassifier(random_state=1)"
      ]
     },
     "execution_count": 104,
     "metadata": {},
     "output_type": "execute_result"
    }
   ],
   "source": [
    "from sklearn.ensemble import AdaBoostClassifier\n",
    "classifier9 = AdaBoostClassifier(random_state=1)\n",
    "classifier9.fit(X_train, y_train)"
   ]
  },
  {
   "cell_type": "code",
   "execution_count": 105,
   "metadata": {
    "id": "k_TIgiZj7YWQ"
   },
   "outputs": [],
   "source": [
    "y_pred9 = classifier9.predict(X_test)\n",
    "#print(np.concatenate((y_pred9.reshape(len(y_pred9),1), y_test.reshape(len(y_test),1)),1))"
   ]
  },
  {
   "cell_type": "code",
   "execution_count": 106,
   "metadata": {
    "id": "1VO2dyUb7b_P"
   },
   "outputs": [
    {
     "name": "stdout",
     "output_type": "stream",
     "text": [
      "[[2884  253]\n",
      " [ 571 2595]]\n"
     ]
    }
   ],
   "source": [
    "cm9 = confusion_matrix(y_test, y_pred9)\n",
    "print(cm9)"
   ]
  },
  {
   "cell_type": "code",
   "execution_count": 107,
   "metadata": {},
   "outputs": [
    {
     "data": {
      "image/png": "[encoded data removed]",
      "text/plain": [
       "<Figure size 432x432 with 1 Axes>"
      ]
     },
     "metadata": {
      "needs_background": "light"
     },
     "output_type": "display_data"
    }
   ],
   "source": [
    "from mlxtend.plotting import plot_confusion_matrix\n",
    " \n",
    "fig, ax = plot_confusion_matrix(conf_mat=cm9, figsize=(6, 6), cmap=plt.cm.Greens)\n",
    "plt.xlabel('Predictions', fontsize=18)\n",
    "plt.ylabel('Actuals', fontsize=18)\n",
    "plt.title('Confusion Matrix', fontsize=18)\n",
    "plt.show()"
   ]
  },
  {
   "cell_type": "code",
   "execution_count": 108,
   "metadata": {
    "id": "X1KhTOBm7d3E"
   },
   "outputs": [
    {
     "data": {
      "text/plain": [
       "0.8692686022528955"
      ]
     },
     "execution_count": 108,
     "metadata": {},
     "output_type": "execute_result"
    }
   ],
   "source": [
    "accuracy_score(y_test, y_pred9)"
   ]
  },
  {
   "cell_type": "code",
   "execution_count": 109,
   "metadata": {},
   "outputs": [
    {
     "data": {
      "text/plain": [
       "0.8694979692384277"
      ]
     },
     "execution_count": 109,
     "metadata": {},
     "output_type": "execute_result"
    }
   ],
   "source": [
    "roc_auc_score(y_test, y_pred9)"
   ]
  },
  {
   "cell_type": "code",
   "execution_count": 110,
   "metadata": {},
   "outputs": [
    {
     "name": "stdout",
     "output_type": "stream",
     "text": [
      "Accuracy of xgboost: 86.99 %\n",
      "SD of xgboost: 0.59 %\n"
     ]
    }
   ],
   "source": [
    "acc9 = cross_val_score(estimator = classifier9, X = X_train, y = y_train, cv = 10)\n",
    "print(\"Accuracy of xgboost: {:.2f} %\".format(acc9.mean()*100))\n",
    "print(\"SD of xgboost: {:.2f} %\".format(acc9.std()*100))"
   ]
  },
  {
   "cell_type": "code",
   "execution_count": 111,
   "metadata": {
    "id": "BBzfeVDp7gpY"
   },
   "outputs": [
    {
     "name": "stdout",
     "output_type": "stream",
     "text": [
      "              precision    recall  f1-score   support\n",
      "\n",
      "         0.0       0.83      0.92      0.88      3137\n",
      "         1.0       0.91      0.82      0.86      3166\n",
      "\n",
      "    accuracy                           0.87      6303\n",
      "   macro avg       0.87      0.87      0.87      6303\n",
      "weighted avg       0.87      0.87      0.87      6303\n",
      "\n"
     ]
    }
   ],
   "source": [
    "print(metrics.classification_report(y_test, y_pred9))"
   ]
  },
  {
   "cell_type": "code",
   "execution_count": 112,
   "metadata": {},
   "outputs": [
    {
     "name": "stdout",
     "output_type": "stream",
     "text": [
      "Best Accuracy of adaboost: 93.24 %\n",
      "Best Parameter of adaboost: {'learning_rate': 1, 'n_estimators': 2000}\n"
     ]
    }
   ],
   "source": [
    "from sklearn.model_selection import GridSearchCV\n",
    "parameters_ada = [{'n_estimators':[100,200,300,400,500,1000,1500,2000],\n",
    "                   'learning_rate':[0.001,0.01,0.1,1]}]\n",
    "grid_search_ada = GridSearchCV(estimator = classifier9,\n",
    "                           param_grid = parameters_ada,\n",
    "                           scoring = 'accuracy',\n",
    "                           cv = 10,\n",
    "                           n_jobs = -1)\n",
    "grid_search_ada.fit(X_train, y_train)\n",
    "best_accuracy_ada = grid_search_ada.best_score_\n",
    "best_paramaeter_ada = grid_search_ada.best_params_  \n",
    "print(\"Best Accuracy of adaboost: {:.2f} %\".format(best_accuracy_ada.mean()*100))\n",
    "print(\"Best Parameter of adaboost:\", best_paramaeter_ada) "
   ]
  },
  {
   "cell_type": "markdown",
   "metadata": {
    "id": "91s03b0T-tDx"
   },
   "source": [
    "**Gradient Boost**"
   ]
  },
  {
   "cell_type": "code",
   "execution_count": 113,
   "metadata": {
    "id": "6JwPczJD7kTk"
   },
   "outputs": [
    {
     "data": {
      "text/plain": [
       "GradientBoostingClassifier(learning_rate=0.5, max_depth=2, max_features=2,\n",
       "                           n_estimators=20, random_state=0)"
      ]
     },
     "execution_count": 113,
     "metadata": {},
     "output_type": "execute_result"
    }
   ],
   "source": [
    "from sklearn.ensemble import GradientBoostingClassifier\n",
    "classifier10= GradientBoostingClassifier(n_estimators=20, learning_rate=0.5, max_features=2, max_depth=2, random_state=0)\n",
    "classifier10.fit(X_train, y_train)"
   ]
  },
  {
   "cell_type": "code",
   "execution_count": 114,
   "metadata": {
    "id": "UKa0spQu7mdE"
   },
   "outputs": [],
   "source": [
    "y_pred10 = classifier10.predict(X_test)\n",
    "#print(np.concatenate((y_pred10.reshape(len(y_pred10),1), y_test.reshape(len(y_test),1)),1))"
   ]
  },
  {
   "cell_type": "code",
   "execution_count": 115,
   "metadata": {
    "id": "Gv1GT_1I7pBP"
   },
   "outputs": [
    {
     "name": "stdout",
     "output_type": "stream",
     "text": [
      "[[2811  326]\n",
      " [ 743 2423]]\n"
     ]
    }
   ],
   "source": [
    "cm10 = confusion_matrix(y_test, y_pred10)\n",
    "print(cm10)"
   ]
  },
  {
   "cell_type": "code",
   "execution_count": 116,
   "metadata": {},
   "outputs": [
    {
     "data": {
      "image/png": "[encoded data removed]",
      "text/plain": [
       "<Figure size 432x432 with 1 Axes>"
      ]
     },
     "metadata": {
      "needs_background": "light"
     },
     "output_type": "display_data"
    }
   ],
   "source": [
    "from mlxtend.plotting import plot_confusion_matrix\n",
    " \n",
    "fig, ax = plot_confusion_matrix(conf_mat=cm10, figsize=(6, 6), cmap=plt.cm.Greens)\n",
    "plt.xlabel('Predictions', fontsize=18)\n",
    "plt.ylabel('Actuals', fontsize=18)\n",
    "plt.title('Confusion Matrix', fontsize=18)\n",
    "plt.show()"
   ]
  },
  {
   "cell_type": "code",
   "execution_count": 117,
   "metadata": {
    "id": "f0vlD_Qm7rOz"
   },
   "outputs": [
    {
     "data": {
      "text/plain": [
       "0.8303982230683802"
      ]
     },
     "execution_count": 117,
     "metadata": {},
     "output_type": "execute_result"
    }
   ],
   "source": [
    "accuracy_score(y_test, y_pred10)"
   ]
  },
  {
   "cell_type": "code",
   "execution_count": 118,
   "metadata": {},
   "outputs": [
    {
     "data": {
      "text/plain": [
       "0.8306990354763545"
      ]
     },
     "execution_count": 118,
     "metadata": {},
     "output_type": "execute_result"
    }
   ],
   "source": [
    "roc_auc_score(y_test, y_pred10)"
   ]
  },
  {
   "cell_type": "code",
   "execution_count": 119,
   "metadata": {},
   "outputs": [
    {
     "name": "stdout",
     "output_type": "stream",
     "text": [
      "Accuracy of gbboost: 82.86 %\n",
      "SD of gbboost: 0.83 %\n"
     ]
    }
   ],
   "source": [
    "acc10 = cross_val_score(estimator = classifier10, X = X_train, y = y_train, cv = 10)\n",
    "print(\"Accuracy of gbboost: {:.2f} %\".format(acc10.mean()*100))\n",
    "print(\"SD of gbboost: {:.2f} %\".format(acc10.std()*100))"
   ]
  },
  {
   "cell_type": "code",
   "execution_count": 120,
   "metadata": {
    "id": "MFrvwnio7stN"
   },
   "outputs": [
    {
     "name": "stdout",
     "output_type": "stream",
     "text": [
      "              precision    recall  f1-score   support\n",
      "\n",
      "         0.0       0.79      0.90      0.84      3137\n",
      "         1.0       0.88      0.77      0.82      3166\n",
      "\n",
      "    accuracy                           0.83      6303\n",
      "   macro avg       0.84      0.83      0.83      6303\n",
      "weighted avg       0.84      0.83      0.83      6303\n",
      "\n"
     ]
    }
   ],
   "source": [
    "print(metrics.classification_report(y_test, y_pred10))"
   ]
  },
  {
   "cell_type": "code",
   "execution_count": 121,
   "metadata": {},
   "outputs": [
    {
     "name": "stdout",
     "output_type": "stream",
     "text": [
      "Best Accuracy of gradient boost: 96.28 %\n",
      "Best Parameter of gradient boost: {'learning_rate': 0.15, 'n_estimators': 1750}\n"
     ]
    }
   ],
   "source": [
    "from sklearn.model_selection import GridSearchCV\n",
    "parameters_gb = [{'learning_rate':[0.15,0.1,0.05,0.01,0.005,0.001], \n",
    "                  'n_estimators':[100,250,500,750,1000,1250,1500,1750]}]\n",
    "grid_search_gb = GridSearchCV(estimator = classifier10,\n",
    "                           param_grid = parameters_gb,\n",
    "                           scoring = 'accuracy',\n",
    "                           cv = 10,\n",
    "                           n_jobs = -1)\n",
    "grid_search_gb.fit(X_train, y_train)\n",
    "best_accuracy_gb = grid_search_gb.best_score_\n",
    "best_paramaeter_gb = grid_search_gb.best_params_  \n",
    "print(\"Best Accuracy of gradient boost: {:.2f} %\".format(best_accuracy_gb.mean()*100))\n",
    "print(\"Best Parameter of gradient boost:\", best_paramaeter_gb) "
   ]
  },
  {
   "cell_type": "markdown",
   "metadata": {
    "id": "QTu5uIc6-x4w"
   },
   "source": [
    "**light GBM**"
   ]
  },
  {
   "cell_type": "code",
   "execution_count": 122,
   "metadata": {
    "id": "hrmhHVkE7vMp"
   },
   "outputs": [
    {
     "data": {
      "text/plain": [
       "LGBMClassifier()"
      ]
     },
     "execution_count": 122,
     "metadata": {},
     "output_type": "execute_result"
    }
   ],
   "source": [
    "import lightgbm as lgb\n",
    "classifier11= lgb.LGBMClassifier()\n",
    "classifier11.fit(X_train, y_train)"
   ]
  },
  {
   "cell_type": "code",
   "execution_count": 123,
   "metadata": {
    "id": "uqtMocDC7x7P"
   },
   "outputs": [],
   "source": [
    "y_pred11 = classifier11.predict(X_test)\n",
    "#print(np.concatenate((y_pred11.reshape(len(y_pred11),1), y_test.reshape(len(y_test),1)),1))"
   ]
  },
  {
   "cell_type": "code",
   "execution_count": 124,
   "metadata": {
    "id": "Rkcg6lb97zz-"
   },
   "outputs": [
    {
     "name": "stdout",
     "output_type": "stream",
     "text": [
      "[[3082   55]\n",
      " [ 102 3064]]\n"
     ]
    }
   ],
   "source": [
    "cm11 = confusion_matrix(y_test, y_pred11)\n",
    "print(cm11)"
   ]
  },
  {
   "cell_type": "code",
   "execution_count": 125,
   "metadata": {},
   "outputs": [
    {
     "data": {
      "image/png": "[encoded data removed]",
      "text/plain": [
       "<Figure size 432x432 with 1 Axes>"
      ]
     },
     "metadata": {
      "needs_background": "light"
     },
     "output_type": "display_data"
    }
   ],
   "source": [
    "from mlxtend.plotting import plot_confusion_matrix\n",
    " \n",
    "fig, ax = plot_confusion_matrix(conf_mat=cm11, figsize=(6, 6), cmap=plt.cm.Greens)\n",
    "plt.xlabel('Predictions', fontsize=18)\n",
    "plt.ylabel('Actuals', fontsize=18)\n",
    "plt.title('Confusion Matrix', fontsize=18)\n",
    "plt.show()"
   ]
  },
  {
   "cell_type": "code",
   "execution_count": 126,
   "metadata": {
    "id": "41AZ26ph72Pd"
   },
   "outputs": [
    {
     "data": {
      "text/plain": [
       "0.9750912264001269"
      ]
     },
     "execution_count": 126,
     "metadata": {},
     "output_type": "execute_result"
    }
   ],
   "source": [
    "accuracy_score(y_test, y_pred11)"
   ]
  },
  {
   "cell_type": "code",
   "execution_count": 127,
   "metadata": {},
   "outputs": [
    {
     "data": {
      "text/plain": [
       "0.9751250082815281"
      ]
     },
     "execution_count": 127,
     "metadata": {},
     "output_type": "execute_result"
    }
   ],
   "source": [
    "roc_auc_score(y_test, y_pred11)"
   ]
  },
  {
   "cell_type": "code",
   "execution_count": 128,
   "metadata": {},
   "outputs": [
    {
     "name": "stdout",
     "output_type": "stream",
     "text": [
      "Accuracy of lightgbm: 97.91 %\n",
      "SD of lightgbm: 0.37 %\n"
     ]
    }
   ],
   "source": [
    "acc11 = cross_val_score(estimator = classifier11, X = X_train, y = y_train, cv = 10)\n",
    "print(\"Accuracy of lightgbm: {:.2f} %\".format(acc11.mean()*100))\n",
    "print(\"SD of lightgbm: {:.2f} %\".format(acc11.std()*100))"
   ]
  },
  {
   "cell_type": "code",
   "execution_count": 129,
   "metadata": {
    "id": "Slc4ds1U73qp"
   },
   "outputs": [
    {
     "name": "stdout",
     "output_type": "stream",
     "text": [
      "              precision    recall  f1-score   support\n",
      "\n",
      "         0.0       0.97      0.98      0.98      3137\n",
      "         1.0       0.98      0.97      0.98      3166\n",
      "\n",
      "    accuracy                           0.98      6303\n",
      "   macro avg       0.98      0.98      0.98      6303\n",
      "weighted avg       0.98      0.98      0.98      6303\n",
      "\n"
     ]
    }
   ],
   "source": [
    "print(metrics.classification_report(y_test, y_pred11))"
   ]
  },
  {
   "cell_type": "code",
   "execution_count": null,
   "metadata": {},
   "outputs": [],
   "source": [
    "from sklearn.model_selection import GridSearchCV\n",
    "parameters_lb = [{'n_estimators': [400, 700, 1000,1500],\n",
    "    'colsample_bytree': [0.7, 0.8, 0.9],\n",
    "    'max_depth': [15,20,25,30,35],\n",
    "    'num_leaves': [50, 100, 200,300],\n",
    "    'reg_alpha': [1.1, 1.2, 1.3],\n",
    "    'reg_lambda': [1.1, 1.2, 1.3],\n",
    "    'min_split_gain': [0.3, 0.4],\n",
    "    'subsample': [0.7, 0.8, 0.9],\n",
    "    'subsample_freq': [20]}]\n",
    "grid_search_lb = GridSearchCV(estimator = classifier11,\n",
    "                           param_grid = parameters_lb,\n",
    "                           scoring = 'accuracy',\n",
    "                           cv = 10,\n",
    "                           n_jobs = -1)\n",
    "grid_search_lb.fit(X_train, y_train)\n",
    "best_accuracy_lb = grid_search_lb.best_score_\n",
    "best_paramaeter_lb = grid_search_lb.best_params_  \n",
    "print(\"Best Accuracy of light boost: {:.2f} %\".format(best_accuracy_lb.mean()*100))\n",
    "print(\"Best Parameter of light boost:\", best_paramaeter_lb) "
   ]
  },
  {
   "cell_type": "markdown",
   "metadata": {},
   "source": [
    "**CatBoost**"
   ]
  },
  {
   "cell_type": "code",
   "execution_count": null,
   "metadata": {},
   "outputs": [],
   "source": [
    "from catboost import CatBoostClassifier\n",
    "from sklearn.model_selection import cross_val_score\n",
    "classifier12 = CatBoostClassifier(max_depth=3)\n",
    "classifier12.fit(X_train, y_train)"
   ]
  },
  {
   "cell_type": "code",
   "execution_count": null,
   "metadata": {},
   "outputs": [],
   "source": [
    "y_pred12 = classifier12.predict(X_test)\n",
    "#print(np.concatenate((y_pred12.reshape(len(y_pred12),1), y_test.reshape(len(y_test),1)),1))"
   ]
  },
  {
   "cell_type": "code",
   "execution_count": null,
   "metadata": {},
   "outputs": [],
   "source": [
    "cm12 = confusion_matrix(y_test, y_pred12)\n",
    "print(cm12)"
   ]
  },
  {
   "cell_type": "code",
   "execution_count": null,
   "metadata": {},
   "outputs": [],
   "source": [
    "from mlxtend.plotting import plot_confusion_matrix\n",
    " \n",
    "fig, ax = plot_confusion_matrix(conf_mat=cm12, figsize=(6, 6), cmap=plt.cm.Greens)\n",
    "plt.xlabel('Predictions', fontsize=18)\n",
    "plt.ylabel('Actuals', fontsize=18)\n",
    "plt.title('Confusion Matrix', fontsize=18)\n",
    "plt.show()"
   ]
  },
  {
   "cell_type": "code",
   "execution_count": null,
   "metadata": {},
   "outputs": [],
   "source": [
    "accuracy_score(y_test, y_pred12)"
   ]
  },
  {
   "cell_type": "code",
   "execution_count": null,
   "metadata": {},
   "outputs": [],
   "source": [
    "roc_auc_score(y_test, y_pred12)"
   ]
  },
  {
   "cell_type": "code",
   "execution_count": null,
   "metadata": {},
   "outputs": [],
   "source": [
    "acc12 = cross_val_score(estimator = classifier12, X = X_train, y = y_train, cv = 10)\n",
    "print(\"Accuracy of catboost: {:.2f} %\".format(acc12.mean()*100))\n",
    "print(\"SD of catboost: {:.2f} %\".format(acc12.std()*100))"
   ]
  },
  {
   "cell_type": "code",
   "execution_count": null,
   "metadata": {},
   "outputs": [],
   "source": [
    "print(metrics.classification_report(y_test, y_pred12))"
   ]
  },
  {
   "cell_type": "code",
   "execution_count": null,
   "metadata": {},
   "outputs": [],
   "source": [
    "from sklearn.model_selection import GridSearchCV\n",
    "parameters_cat = [{'depth':[3,1,2,6,4,5,7,8,9,10],\n",
    "          'iterations':[250,100,500,1000],\n",
    "          'learning_rate':[0.03,0.001,0.01,0.1,0.2,0.3], \n",
    "          'l2_leaf_reg':[3,1,5,10,100],\n",
    "          'border_count':[32,5,10,20,50,100,200],\n",
    "          'ctr_border_count':[50,5,10,20,100,200],\n",
    "          'thread_count':4}]\n",
    "grid_search_cat = GridSearchCV(estimator = classifier12,\n",
    "                           param_grid = parameters_cat,\n",
    "                           scoring = 'accuracy',\n",
    "                           cv = 10,\n",
    "                           n_jobs = -1)\n",
    "grid_search_cat.fit(X_train, y_train)\n",
    "best_accuracy_cat = grid_search_cat.best_score_\n",
    "best_paramaeter_cat = grid_search_cat.best_params_  \n",
    "print(\"Best Accuracy of cat boost: {:.2f} %\".format(best_accuracy_cat.mean()*100))\n",
    "print(\"Best Parameter of cat boost:\", best_paramaeter_cat) "
   ]
  },
  {
   "cell_type": "code",
   "execution_count": null,
   "metadata": {},
   "outputs": [],
   "source": []
  }
 ],
 "metadata": {
  "colab": {
   "collapsed_sections": [],
   "name": "ptbdb_ann_cnn_ml.ipynb",
   "provenance": []
  },
  "kernelspec": {
   "display_name": "Python 3 (ipykernel)",
   "language": "python",
   "name": "python3"
  },
  "language_info": {
   "codemirror_mode": {
    "name": "ipython",
    "version": 3
   },
   "file_extension": ".py",
   "mimetype": "text/x-python",
   "name": "python",
   "nbconvert_exporter": "python",
   "pygments_lexer": "ipython3",
   "version": "3.8.11"
  }
 },
 "nbformat": 4,
 "nbformat_minor": 1
}
